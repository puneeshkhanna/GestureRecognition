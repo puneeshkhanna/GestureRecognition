{
 "cells": [
  {
   "cell_type": "markdown",
   "metadata": {
    "colab_type": "text",
    "id": "jKnFk-08CjDy"
   },
   "source": [
    "# Gesture Recognition\n",
    "\n",
    "In this project, you are going to build a 3D Conv model that will be able to predict the 5 gestures correctly. Please import the following libraries to get started."
   ]
  },
  {
   "cell_type": "code",
   "execution_count": 1,
   "metadata": {
    "colab": {},
    "colab_type": "code",
    "id": "KxstHs2bCjDz"
   },
   "outputs": [],
   "source": [
    "import numpy as np\n",
    "import os\n",
    "import imageio\n",
    "from skimage.transform import resize, rescale\n",
    "import datetime\n",
    "import os\n",
    "\n",
    "import matplotlib.pyplot as plt"
   ]
  },
  {
   "cell_type": "markdown",
   "metadata": {
    "colab_type": "text",
    "id": "dBgO9n9SCjD3"
   },
   "source": [
    "We set the random seed so that the results don't vary drastically."
   ]
  },
  {
   "cell_type": "code",
   "execution_count": 2,
   "metadata": {
    "colab": {},
    "colab_type": "code",
    "id": "QM5kHEOgi7lG"
   },
   "outputs": [],
   "source": [
    "#%tensorflow_version 1.x"
   ]
  },
  {
   "cell_type": "code",
   "execution_count": 3,
   "metadata": {
    "colab": {
     "base_uri": "https://localhost:8080/",
     "height": 34
    },
    "colab_type": "code",
    "id": "lMJqGvgLCjD4",
    "outputId": "e7e785f8-f35f-4d8f-94ab-d8987c7b8ea3"
   },
   "outputs": [
    {
     "name": "stdout",
     "output_type": "stream",
     "text": [
      "1.10.0\n"
     ]
    },
    {
     "name": "stderr",
     "output_type": "stream",
     "text": [
      "Using TensorFlow backend.\n"
     ]
    }
   ],
   "source": [
    "import tensorflow as tf\n",
    "print(tf.__version__)\n",
    "np.random.seed(30)\n",
    "import random as rn\n",
    "rn.seed(30)\n",
    "from keras import backend as K\n",
    "tf.set_random_seed(30)"
   ]
  },
  {
   "cell_type": "code",
   "execution_count": 4,
   "metadata": {
    "colab": {
     "base_uri": "https://localhost:8080/",
     "height": 121
    },
    "colab_type": "code",
    "id": "urRyP8EmES5o",
    "outputId": "b6087b1e-11c7-42a0-8819-d36f8829da42"
   },
   "outputs": [],
   "source": [
    "#from google.colab import drive\n",
    "#drive.mount('/content/drive')"
   ]
  },
  {
   "cell_type": "code",
   "execution_count": 5,
   "metadata": {
    "colab": {},
    "colab_type": "code",
    "id": "pU7zucmdi0bj"
   },
   "outputs": [],
   "source": [
    "#from zipfile import ZipFile\n",
    "#with ZipFile('/content/drive/My Drive/Colab Notebooks/Project_data.zip','r') as zip:\n",
    "#    zip.extractall()"
   ]
  },
  {
   "cell_type": "markdown",
   "metadata": {
    "colab_type": "text",
    "id": "fVVm2F2rCjD8"
   },
   "source": [
    "In this block, you read the folder names for training and validation. You also set the `batch_size` here. Note that you set the batch size in such a way that you are able to use the GPU in full capacity. You keep increasing the batch size until the machine throws an error."
   ]
  },
  {
   "cell_type": "code",
   "execution_count": 6,
   "metadata": {
    "colab": {},
    "colab_type": "code",
    "id": "-Ss1MnP9CjD8"
   },
   "outputs": [],
   "source": [
    "train_doc = np.random.permutation(open('/mnt/disks/user/project/PROJECT/Project_data/train.csv').readlines())\n",
    "val_doc = np.random.permutation(open('/mnt/disks/user/project/PROJECT/Project_data/val.csv').readlines())\n",
    "num_classes = 5  #number of softmax classes"
   ]
  },
  {
   "cell_type": "code",
   "execution_count": 7,
   "metadata": {
    "colab": {
     "base_uri": "https://localhost:8080/",
     "height": 50
    },
    "colab_type": "code",
    "id": "tCVJko_xCjD_",
    "outputId": "a17ef715-290f-44e9-8702-14b1998f7f5c"
   },
   "outputs": [
    {
     "name": "stdout",
     "output_type": "stream",
     "text": [
      "# training sequences = 663\n",
      "# validation sequences = 100\n"
     ]
    }
   ],
   "source": [
    "curr_dt_time = datetime.datetime.now()\n",
    "train_path = '/mnt/disks/user/project/PROJECT/Project_data/train'\n",
    "val_path = '/mnt/disks/user/project/PROJECT/Project_data/val'\n",
    "num_train_sequences = len(train_doc)\n",
    "print('# training sequences =', num_train_sequences)\n",
    "num_val_sequences = len(val_doc)\n",
    "print('# validation sequences =', num_val_sequences)"
   ]
  },
  {
   "cell_type": "markdown",
   "metadata": {
    "colab_type": "text",
    "id": "l2qVMqXK7EFp"
   },
   "source": [
    "## Common Utils"
   ]
  },
  {
   "cell_type": "markdown",
   "metadata": {
    "colab_type": "text",
    "id": "9XID1rKr4Jwh"
   },
   "source": [
    "Common utility to plot loss and accuracy"
   ]
  },
  {
   "cell_type": "code",
   "execution_count": 8,
   "metadata": {
    "colab": {},
    "colab_type": "code",
    "id": "R4bgSpPQIrgn"
   },
   "outputs": [],
   "source": [
    "def plot_loss_accuracy(history):\n",
    "    # list all data in history\n",
    "    print(history.history.keys())\n",
    "    # summarize history for accuracy\n",
    "    plt.plot(history.history['categorical_accuracy'])\n",
    "    plt.plot(history.history['val_categorical_accuracy'])\n",
    "    plt.title('model accuracy')\n",
    "    plt.ylabel('accuracy')\n",
    "    plt.xlabel('epoch')\n",
    "    plt.legend(['train', 'test'], loc='upper left')\n",
    "    plt.show()\n",
    "    # summarize history for loss\n",
    "    plt.plot(history.history['loss'])\n",
    "    plt.plot(history.history['val_loss'])\n",
    "    plt.title('model loss')\n",
    "    plt.ylabel('loss')\n",
    "    plt.xlabel('epoch')\n",
    "    plt.legend(['train', 'test'], loc='upper left')\n",
    "    plt.show()"
   ]
  },
  {
   "cell_type": "markdown",
   "metadata": {
    "colab_type": "text",
    "id": "drEZFmAG4Sbd"
   },
   "source": [
    "Common utility to calculate steps"
   ]
  },
  {
   "cell_type": "code",
   "execution_count": 9,
   "metadata": {
    "colab": {},
    "colab_type": "code",
    "id": "p5ynijKOJhrN"
   },
   "outputs": [],
   "source": [
    "def calculate_steps(num_train_sequences, num_val_sequences, batch_size):\n",
    "    if (num_train_sequences%batch_size) == 0:\n",
    "        steps_per_epoch = int(num_train_sequences/batch_size)\n",
    "    else:\n",
    "        steps_per_epoch = (num_train_sequences//batch_size) + 1\n",
    "\n",
    "    if (num_val_sequences%batch_size) == 0:\n",
    "        validation_steps = int(num_val_sequences/batch_size)\n",
    "    else:\n",
    "        validation_steps = (num_val_sequences//batch_size) + 1\n",
    "\n",
    "    return steps_per_epoch,validation_steps"
   ]
  },
  {
   "cell_type": "markdown",
   "metadata": {
    "colab_type": "text",
    "id": "AcwwPnM84ZSm"
   },
   "source": [
    "Common utility for callbacks"
   ]
  },
  {
   "cell_type": "code",
   "execution_count": 10,
   "metadata": {
    "colab": {},
    "colab_type": "code",
    "id": "bU94bF80PFEx"
   },
   "outputs": [],
   "source": [
    "def model_callbacks(folder_name):\n",
    "    model_name = str(folder_name) + '_' + str(curr_dt_time).replace(' ','').replace(':','_') + '/'\n",
    "   \n",
    "    if not os.path.exists(model_name):\n",
    "        os.mkdir(model_name)\n",
    "\n",
    "    filepath = model_name + 'model-{epoch:05d}-{loss:.5f}-{categorical_accuracy:.5f}-{val_loss:.5f}-{val_categorical_accuracy:.5f}.h5'\n",
    "\n",
    "    checkpoint = ModelCheckpoint(filepath, monitor='val_loss', verbose=1, save_best_only=True, save_weights_only=False, mode='auto', period=1)\n",
    "\n",
    "    LR = ReduceLROnPlateau(monitor='val_loss', factor=0.1, patience=3, min_lr=0.0001, cooldown=1, verbose=1) # write the REducelronplateau code here\n",
    "\n",
    "    return [checkpoint, LR]    "
   ]
  },
  {
   "cell_type": "markdown",
   "metadata": {
    "colab_type": "text",
    "id": "KnjCHjHjCjEC"
   },
   "source": [
    "## Generator\n",
    "This is one of the most important part of the code. The overall structure of the generator has been given. In the generator, you are going to preprocess the images as you have images of 2 different dimensions as well as create a batch of video frames. You have to experiment with `img_idx`, `y`,`z` and normalization such that you get high accuracy."
   ]
  },
  {
   "cell_type": "code",
   "execution_count": 11,
   "metadata": {
    "colab": {
     "base_uri": "https://localhost:8080/",
     "height": 573
    },
    "colab_type": "code",
    "id": "duZ2bmi0CjED",
    "outputId": "593c98d1-7987-44c2-a25d-9e84deebb4e3"
   },
   "outputs": [
    {
     "name": "stderr",
     "output_type": "stream",
     "text": [
      "/mnt/disks/user/anaconda3/lib/python3.6/site-packages/keras_preprocessing/image.py:787: UserWarning: This ImageDataGenerator specifies `zca_whitening`, which overrides setting of `featurewise_center`.\n",
      "  warnings.warn('This ImageDataGenerator specifies '\n",
      "/mnt/disks/user/anaconda3/lib/python3.6/site-packages/skimage/transform/_warps.py:105: UserWarning: The default mode, 'constant', will be changed to 'reflect' in skimage 0.15.\n",
      "  warn(\"The default mode, 'constant', will be changed to 'reflect' in \"\n"
     ]
    },
    {
     "data": {
      "image/png": "[encoded data removed]",
      "text/plain": [
       "<Figure size 432x288 with 1 Axes>"
      ]
     },
     "metadata": {},
     "output_type": "display_data"
    },
    {
     "data": {
      "image/png": "[encoded data removed]",
      "text/plain": [
       "<Figure size 432x288 with 1 Axes>"
      ]
     },
     "metadata": {},
     "output_type": "display_data"
    }
   ],
   "source": [
    "from keras.preprocessing.image import ImageDataGenerator\n",
    "#from keras.preprocessing.image import smart_resize\n",
    "\n",
    "datagen = ImageDataGenerator(\n",
    "    zoom_range=0.1,\n",
    "    zca_whitening=True,\n",
    "    width_shift_range=0.1,\n",
    "    height_shift_range=0.1)\n",
    "\n",
    "## Test code start\n",
    "#360 by 360\n",
    "image1 = imageio.imread(\"/mnt/disks/user/project/PROJECT/Project_data/val/WIN_20180907_15_30_06_Pro_Right Swipe_new/WIN_20180907_15_30_06_Pro_00029.png\")\n",
    "#160 by 120\n",
    "image2 = imageio.imread(\"/mnt/disks/user/project/PROJECT/Project_data/val/WIN_20180926_17_56_52_Pro_Right_Swipe_new/WIN_20180926_17_56_52_Pro_00029.png\")\n",
    "#crop the images and resize them. Note that the images are of 2 different shape \n",
    "#and the conv3D will throw error if the inputs in a batch have different shapes                    \n",
    "#print(image1.shape, image2.shape)\n",
    "image1 = resize(image1, (120, 120), anti_aliasing=True)\n",
    "image1 = datagen.random_transform(image1)                   \n",
    "plt.imshow(image1)\n",
    "plt.show()\n",
    "image2 = resize(image2, (120, 120), anti_aliasing=True)\n",
    "image2 = datagen.random_transform(image2)                 \n",
    "plt.imshow(image2)\n",
    "plt.show()\n",
    "## Test code end\n",
    "\n",
    "def generate(source_path, folder_list, batch_size, num_images=20, height=120, width=120, augment=False):\n",
    "    #print( 'Source path = ', source_path, '; batch size =', batch_size)\n",
    "    total_frames = 30\n",
    "\n",
    "    while True:\n",
    "        t = np.random.permutation(folder_list)\n",
    "        num_batches = len(t)//batch_size # calculate the number of batches\n",
    "        #img_idx = sorted(rn.sample(range(0, total_frames), num_images)) #create a list of image numbers you want to use for a particular video\n",
    "        img_idx = np.round(np.linspace(0,total_frames-1,num_images)).astype(int) #create a list of image numbers you want to use for a particular video\n",
    "\n",
    "        for batch in range(num_batches): # we iterate over the number of batches\n",
    "            batch_data   = np.zeros((batch_size, num_images, height, width, 3)) # 3 is the number of channels RGB\n",
    "            batch_labels = np.zeros((batch_size, 5)) # batch_labels is the one hot representation of the output           \n",
    "\n",
    "            for folder in range(batch_size): # iterate over the batch_size\n",
    "                imgs = os.listdir(source_path+'/'+ t[folder + (batch*batch_size)].split(';')[0]) # read all the images in the folder\n",
    "                for idx,item in enumerate(img_idx): #  Iterate over the frames/images of a folder to read them in\n",
    "                    image = imageio.imread(source_path+'/'+ t[folder + (batch*batch_size)].strip().split(';')[0]+'/'+imgs[item]).astype(np.float32)\n",
    "\n",
    "                    #crop the images and resize them. Note that the images are of 2 different shape \n",
    "                    #and the conv3D will throw error if the inputs in a batch have different shapes                    \n",
    "                    h, w, c = image.shape\n",
    "                    image = resize(image, (height, width), anti_aliasing=True)\n",
    "\n",
    "                    # Randomly transform few images of few folders; note that folders are randomly shuffled in each epoch too\n",
    "                    if augment:\n",
    "                        if np.random.randn() > 0:\n",
    "                            image = datagen.random_transform(image)                   \n",
    "\n",
    "                    batch_data[folder,idx,:,:,0] = (image[...,0])/255 #normalise and feed in the image\n",
    "                    batch_data[folder,idx,:,:,1] = (image[...,1])/255 #normalise and feed in the image\n",
    "                    batch_data[folder,idx,:,:,2] = (image[...,2])/255 #normalise and feed in the image                  \n",
    "                    \n",
    "                batch_labels[folder, int(t[folder + (batch*batch_size)].strip().split(';')[2])] = 1\n",
    "\n",
    "            yield batch_data, batch_labels #you yield the batch_data and the batch_labels, remember what does yield do\n",
    "        \n",
    "        # write the code for the remaining data points which are left after full batches\n",
    "        if (len(t)%batch_size):\n",
    "            remaining_batch_size = len(t)%batch_size\n",
    "            batch_data   = np.zeros((remaining_batch_size, num_images, height, width,3)) # 3 is the number of channels RGB\n",
    "            batch_labels = np.zeros((remaining_batch_size,5)) # batch_labels is the one hot representation of the output           \n",
    "\n",
    "            for folder in range(remaining_batch_size): # iterate over the batch_size\n",
    "                imgs = os.listdir(source_path+'/'+ t[folder + (num_batches*batch_size)].split(';')[0]) # read all the images in the folder\n",
    "                for idx,item in enumerate(img_idx): #  Iterate iver the frames/images of a folder to read them in\n",
    "                    image = imageio.imread(source_path+'/'+ t[folder + (num_batches*batch_size)].strip().split(';')[0]+'/'+imgs[item]).astype(np.float32)\n",
    "                \n",
    "                    #crop the images and resize them. Note that the images are of 2 different shape \n",
    "                    #and the conv3D will throw error if the inputs in a batch have different shapes\n",
    "                    h, w, c = image.shape\n",
    "                    image = resize(image, (height, width), anti_aliasing=True)                          \n",
    "                    \n",
    "                    # Randomly transform few images of few folders; note that folders are randomly shuffled in each epoch too\n",
    "                    if augment:\n",
    "                        if np.random.randn() > 0:\n",
    "                            image = datagen.random_transform(image)                   \n",
    "\n",
    "                    batch_data[folder,idx,:,:,0] = (image[...,0])/255 #normalise and feed in the image\n",
    "                    batch_data[folder,idx,:,:,1] = (image[...,1])/255 #normalise and feed in the image\n",
    "                    batch_data[folder,idx,:,:,2] = (image[...,2])/255 #normalise and feed in the image\n",
    "                    #batch_data[folder,idx,:,:,0] = (image[...,0] - image[...,0].min())/(image[...,0].max() - image[...,0].min())#normalise and feed in the image\n",
    "                    #batch_data[folder,idx,:,:,1] = (image[...,1] - image[...,1].min())/(image[...,1].max() - image[...,1].min())#normalise and feed in the image\n",
    "                    #batch_data[folder,idx,:,:,2] = (image[...,2] - image[...,2].min())/(image[...,2].max() - image[...,2].min())#normalise and feed in the image\n",
    "                    \n",
    "                batch_labels[folder, int(t[folder + (num_batches*batch_size)].strip().split(';')[2])] = 1\n",
    "\n",
    "            yield batch_data, batch_labels #you yield the batch_data and the batch_labels, remember what does yield do\n"
   ]
  },
  {
   "cell_type": "markdown",
   "metadata": {
    "colab_type": "text",
    "id": "vyePp_mjCjEF"
   },
   "source": [
    "Note here that a video is represented above in the generator as (number of images, height, width, number of channels). Take this into consideration while creating the model architecture."
   ]
  },
  {
   "cell_type": "markdown",
   "metadata": {
    "colab_type": "text",
    "id": "sArsmY1mCjEG"
   },
   "source": [
    "## Model\n",
    "Here you make the model using different functionalities that Keras provides. Remember to use `Conv3D` and `MaxPooling3D` and not `Conv2D` and `Maxpooling2D` for a 3D convolution model. You would want to use `TimeDistributed` while building a Conv2D + RNN model. Also remember that the last layer is the softmax. Design the network in such a way that the model is able to give good accuracy on the least number of parameters so that it can fit in the memory of the webcam."
   ]
  },
  {
   "cell_type": "code",
   "execution_count": 12,
   "metadata": {
    "colab": {},
    "colab_type": "code",
    "id": "1wzYeWUVCjEH"
   },
   "outputs": [],
   "source": [
    "from keras.models import Sequential, Model\n",
    "from keras.layers import Dense, Dropout, GRU, LSTM, Flatten, TimeDistributed, Flatten, BatchNormalization, Activation\n",
    "from keras.layers.convolutional import Conv3D, MaxPooling3D, Conv2D, MaxPooling2D\n",
    "from keras.callbacks import ModelCheckpoint, ReduceLROnPlateau\n",
    "from keras.regularizers import l2\n",
    "from keras import optimizers"
   ]
  },
  {
   "cell_type": "markdown",
   "metadata": {
    "colab_type": "text",
    "id": "vnvR4_KPCjEK"
   },
   "source": [
    "### Conv3d Models"
   ]
  },
  {
   "cell_type": "code",
   "execution_count": 13,
   "metadata": {
    "colab": {},
    "colab_type": "code",
    "id": "DtvSVBWACjEN"
   },
   "outputs": [],
   "source": [
    "# Common utility to create conv 3D models\n",
    "def conv3D(conv_filters=(16, 32, 64, 128), dense_nodes=(256,128), dropout=0.25, num_images=20, height=120, width=120):\n",
    "\n",
    "    model = Sequential()\n",
    "\n",
    "    model.add(Conv3D(conv_filters[0], (3, 3, 3), padding='same', input_shape=(num_images, height, width, 3)))\n",
    "    model.add(Activation('relu'))\n",
    "    model.add(BatchNormalization())\n",
    "    model.add(MaxPooling3D(pool_size=(2, 2, 2)))\n",
    "\n",
    "    model.add(Conv3D(conv_filters[1], (3, 3, 3), padding='same'))\n",
    "    model.add(Activation('relu'))\n",
    "    model.add(BatchNormalization())\n",
    "    model.add(MaxPooling3D(pool_size=(2, 2, 2)))\n",
    "    \n",
    "    model.add(Conv3D(conv_filters[2], (3, 3, 3), padding='same'))\n",
    "    model.add(Activation('relu'))\n",
    "    model.add(BatchNormalization())\n",
    "    model.add(MaxPooling3D(pool_size=(2, 2, 2)))\n",
    "    \n",
    "    model.add(Conv3D(conv_filters[3], (3, 3, 3), padding='same'))    \n",
    "    model.add(Activation('relu'))\n",
    "    model.add(BatchNormalization())\n",
    "    model.add(MaxPooling3D(pool_size=(2, 2, 2)))\n",
    "    \n",
    "    model.add(Flatten())\n",
    "    model.add(Dense(dense_nodes[0]))\n",
    "    model.add(Activation('relu'))\n",
    "    model.add(BatchNormalization())\n",
    "    model.add(Dropout(dropout))\n",
    "\n",
    "    model.add(Dense(dense_nodes[1]))\n",
    "    model.add(Activation('relu'))\n",
    "    model.add(BatchNormalization())\n",
    "    model.add(Dropout(dropout))\n",
    "\n",
    "    model.add(Dense(num_classes))\n",
    "    model.add(Activation('softmax'))\n",
    "\n",
    "    opt = optimizers.Adam() #write your optimizer\n",
    "    model.compile(opt, loss='categorical_crossentropy', metrics=['categorical_accuracy'])    \n",
    "    \n",
    "    return model"
   ]
  },
  {
   "cell_type": "markdown",
   "metadata": {
    "colab_type": "text",
    "id": "w0sfM-uWJ96m"
   },
   "source": [
    "#### Conv 3D Model with 30 frames per video (16, 32, 64, 128 filters conv 3D layers + 256 dense layer + 128 dense layer + image size 120 by 120)\n"
   ]
  },
  {
   "cell_type": "code",
   "execution_count": 14,
   "metadata": {
    "colab": {
     "base_uri": "https://localhost:8080/",
     "height": 1000
    },
    "colab_type": "code",
    "id": "KbLRWguYCjES",
    "outputId": "77319f4b-dfce-4132-84a2-6fa2d49a22e9"
   },
   "outputs": [
    {
     "name": "stdout",
     "output_type": "stream",
     "text": [
      "# epochs = 25\n",
      "# batch size = 10\n",
      "# num_frames per video = 30\n",
      "_________________________________________________________________\n",
      "Layer (type)                 Output Shape              Param #   \n",
      "=================================================================\n",
      "conv3d_1 (Conv3D)            (None, 30, 120, 120, 16)  1312      \n",
      "_________________________________________________________________\n",
      "activation_1 (Activation)    (None, 30, 120, 120, 16)  0         \n",
      "_________________________________________________________________\n",
      "batch_normalization_1 (Batch (None, 30, 120, 120, 16)  64        \n",
      "_________________________________________________________________\n",
      "max_pooling3d_1 (MaxPooling3 (None, 15, 60, 60, 16)    0         \n",
      "_________________________________________________________________\n",
      "conv3d_2 (Conv3D)            (None, 15, 60, 60, 32)    13856     \n",
      "_________________________________________________________________\n",
      "activation_2 (Activation)    (None, 15, 60, 60, 32)    0         \n",
      "_________________________________________________________________\n",
      "batch_normalization_2 (Batch (None, 15, 60, 60, 32)    128       \n",
      "_________________________________________________________________\n",
      "max_pooling3d_2 (MaxPooling3 (None, 7, 30, 30, 32)     0         \n",
      "_________________________________________________________________\n",
      "conv3d_3 (Conv3D)            (None, 7, 30, 30, 64)     55360     \n",
      "_________________________________________________________________\n",
      "activation_3 (Activation)    (None, 7, 30, 30, 64)     0         \n",
      "_________________________________________________________________\n",
      "batch_normalization_3 (Batch (None, 7, 30, 30, 64)     256       \n",
      "_________________________________________________________________\n",
      "max_pooling3d_3 (MaxPooling3 (None, 3, 15, 15, 64)     0         \n",
      "_________________________________________________________________\n",
      "conv3d_4 (Conv3D)            (None, 3, 15, 15, 128)    221312    \n",
      "_________________________________________________________________\n",
      "activation_4 (Activation)    (None, 3, 15, 15, 128)    0         \n",
      "_________________________________________________________________\n",
      "batch_normalization_4 (Batch (None, 3, 15, 15, 128)    512       \n",
      "_________________________________________________________________\n",
      "max_pooling3d_4 (MaxPooling3 (None, 1, 7, 7, 128)      0         \n",
      "_________________________________________________________________\n",
      "flatten_1 (Flatten)          (None, 6272)              0         \n",
      "_________________________________________________________________\n",
      "dense_1 (Dense)              (None, 256)               1605888   \n",
      "_________________________________________________________________\n",
      "activation_5 (Activation)    (None, 256)               0         \n",
      "_________________________________________________________________\n",
      "batch_normalization_5 (Batch (None, 256)               1024      \n",
      "_________________________________________________________________\n",
      "dropout_1 (Dropout)          (None, 256)               0         \n",
      "_________________________________________________________________\n",
      "dense_2 (Dense)              (None, 128)               32896     \n",
      "_________________________________________________________________\n",
      "activation_6 (Activation)    (None, 128)               0         \n",
      "_________________________________________________________________\n",
      "batch_normalization_6 (Batch (None, 128)               512       \n",
      "_________________________________________________________________\n",
      "dropout_2 (Dropout)          (None, 128)               0         \n",
      "_________________________________________________________________\n",
      "dense_3 (Dense)              (None, 5)                 645       \n",
      "_________________________________________________________________\n",
      "activation_7 (Activation)    (None, 5)                 0         \n",
      "=================================================================\n",
      "Total params: 1,933,765\n",
      "Trainable params: 1,932,517\n",
      "Non-trainable params: 1,248\n",
      "_________________________________________________________________\n",
      "None\n"
     ]
    }
   ],
   "source": [
    "num_epochs = 25 # choose the number of epochs\n",
    "print ('# epochs =', num_epochs)\n",
    "batch_size = 10  #experiment with the batch size\n",
    "print ('# batch size =', batch_size)\n",
    "num_frames = 30\n",
    "print ('# num_frames per video =', num_frames)\n",
    "height = 120\n",
    "width = 120\n",
    "\n",
    "model = conv3D(num_images=num_frames)\n",
    "\n",
    "print (model.summary())"
   ]
  },
  {
   "cell_type": "markdown",
   "metadata": {
    "colab_type": "text",
    "id": "VYLIR8rpCjER"
   },
   "source": [
    "The `steps_per_epoch` and `validation_steps` are used by `fit_generator` to decide the number of next() calls it need to make.\n",
    "Let us now fit the model. This will start training the model and with the help of the checkpoints, you'll be able to save the model at the end of each epoch."
   ]
  },
  {
   "cell_type": "code",
   "execution_count": 15,
   "metadata": {
    "colab": {},
    "colab_type": "code",
    "id": "OAtEhUAtCjEU"
   },
   "outputs": [],
   "source": [
    "callbacks_list = model_callbacks(\"model_conv3D_1\")\n",
    "\n",
    "steps_per_epoch, validation_steps = calculate_steps(num_train_sequences, num_val_sequences, batch_size)\n",
    "\n",
    "train_generator = generate(train_path, train_doc, batch_size, num_images=num_frames)\n",
    "\n",
    "val_generator   = generate(val_path, val_doc, batch_size, num_images=num_frames)"
   ]
  },
  {
   "cell_type": "code",
   "execution_count": 16,
   "metadata": {
    "colab": {
     "base_uri": "https://localhost:8080/",
     "height": 1000
    },
    "colab_type": "code",
    "id": "NRBJ9DyOQyQj",
    "outputId": "2e469843-e403-4f6f-cb69-fe7b5e96aa48"
   },
   "outputs": [
    {
     "name": "stdout",
     "output_type": "stream",
     "text": [
      "Epoch 1/25\n"
     ]
    },
    {
     "name": "stderr",
     "output_type": "stream",
     "text": [
      "/mnt/disks/user/anaconda3/lib/python3.6/site-packages/skimage/transform/_warps.py:105: UserWarning: The default mode, 'constant', will be changed to 'reflect' in skimage 0.15.\n",
      "  warn(\"The default mode, 'constant', will be changed to 'reflect' in \"\n"
     ]
    },
    {
     "name": "stdout",
     "output_type": "stream",
     "text": [
      "67/67 [==============================] - 294s 4s/step - loss: 1.5978 - categorical_accuracy: 0.4528 - val_loss: 1.3501 - val_categorical_accuracy: 0.5500\n",
      "\n",
      "Epoch 00001: val_loss improved from inf to 1.35014, saving model to model_conv3D_1_2020-08-1707_24_06.087739/model-00001-1.58374-0.45400-1.35014-0.55000.h5\n",
      "Epoch 2/25\n",
      "67/67 [==============================] - 180s 3s/step - loss: 1.1176 - categorical_accuracy: 0.5801 - val_loss: 1.4703 - val_categorical_accuracy: 0.4300\n",
      "\n",
      "Epoch 00002: val_loss did not improve from 1.35014\n",
      "Epoch 3/25\n",
      "67/67 [==============================] - 193s 3s/step - loss: 0.9549 - categorical_accuracy: 0.6523 - val_loss: 1.3649 - val_categorical_accuracy: 0.5200\n",
      "\n",
      "Epoch 00003: val_loss did not improve from 1.35014\n",
      "Epoch 4/25\n",
      "67/67 [==============================] - 169s 3s/step - loss: 1.2015 - categorical_accuracy: 0.5428 - val_loss: 1.4754 - val_categorical_accuracy: 0.5100\n",
      "\n",
      "Epoch 00004: val_loss did not improve from 1.35014\n",
      "Epoch 5/25\n",
      "67/67 [==============================] - 166s 2s/step - loss: 0.9582 - categorical_accuracy: 0.6255 - val_loss: 2.0542 - val_categorical_accuracy: 0.4100\n",
      "\n",
      "Epoch 00005: val_loss did not improve from 1.35014\n",
      "\n",
      "Epoch 00005: ReduceLROnPlateau reducing learning rate to 0.00010000000474974513.\n",
      "Epoch 6/25\n",
      "67/67 [==============================] - 171s 3s/step - loss: 0.7848 - categorical_accuracy: 0.7050 - val_loss: 1.0269 - val_categorical_accuracy: 0.5900\n",
      "\n",
      "Epoch 00006: val_loss improved from 1.35014 to 1.02689, saving model to model_conv3D_1_2020-08-1707_24_06.087739/model-00006-0.76926-0.70890-1.02689-0.59000.h5\n",
      "Epoch 7/25\n",
      "67/67 [==============================] - 180s 3s/step - loss: 0.6738 - categorical_accuracy: 0.7398 - val_loss: 0.9054 - val_categorical_accuracy: 0.6400\n",
      "\n",
      "Epoch 00007: val_loss improved from 1.02689 to 0.90535, saving model to model_conv3D_1_2020-08-1707_24_06.087739/model-00007-0.67200-0.74057-0.90535-0.64000.h5\n",
      "Epoch 8/25\n",
      "67/67 [==============================] - 176s 3s/step - loss: 0.6080 - categorical_accuracy: 0.7688 - val_loss: 1.1164 - val_categorical_accuracy: 0.5900\n",
      "\n",
      "Epoch 00008: val_loss did not improve from 0.90535\n",
      "Epoch 9/25\n",
      "67/67 [==============================] - 178s 3s/step - loss: 0.5952 - categorical_accuracy: 0.7537 - val_loss: 0.9362 - val_categorical_accuracy: 0.6500\n",
      "\n",
      "Epoch 00009: val_loss did not improve from 0.90535\n",
      "Epoch 10/25\n",
      "67/67 [==============================] - 160s 2s/step - loss: 0.5200 - categorical_accuracy: 0.8021 - val_loss: 0.7157 - val_categorical_accuracy: 0.7300\n",
      "\n",
      "Epoch 00010: val_loss improved from 0.90535 to 0.71573, saving model to model_conv3D_1_2020-08-1707_24_06.087739/model-00010-0.51189-0.80694-0.71573-0.73000.h5\n",
      "Epoch 11/25\n",
      "67/67 [==============================] - 164s 2s/step - loss: 0.4692 - categorical_accuracy: 0.8194 - val_loss: 0.6319 - val_categorical_accuracy: 0.7700\n",
      "\n",
      "Epoch 00011: val_loss improved from 0.71573 to 0.63186, saving model to model_conv3D_1_2020-08-1707_24_06.087739/model-00011-0.47240-0.81750-0.63186-0.77000.h5\n",
      "Epoch 12/25\n",
      "67/67 [==============================] - 161s 2s/step - loss: 0.4645 - categorical_accuracy: 0.8294 - val_loss: 0.6526 - val_categorical_accuracy: 0.7700\n",
      "\n",
      "Epoch 00012: val_loss did not improve from 0.63186\n",
      "Epoch 13/25\n",
      "67/67 [==============================] - 167s 2s/step - loss: 0.4350 - categorical_accuracy: 0.8513 - val_loss: 0.7287 - val_categorical_accuracy: 0.7200\n",
      "\n",
      "Epoch 00013: val_loss did not improve from 0.63186\n",
      "Epoch 14/25\n",
      "67/67 [==============================] - 175s 3s/step - loss: 0.4102 - categorical_accuracy: 0.8448 - val_loss: 0.6577 - val_categorical_accuracy: 0.7500\n",
      "\n",
      "Epoch 00014: val_loss did not improve from 0.63186\n",
      "Epoch 15/25\n",
      "67/67 [==============================] - 188s 3s/step - loss: 0.4292 - categorical_accuracy: 0.8492 - val_loss: 0.6475 - val_categorical_accuracy: 0.7500\n",
      "\n",
      "Epoch 00015: val_loss did not improve from 0.63186\n",
      "\n",
      "Epoch 00015: ReduceLROnPlateau reducing learning rate to 0.0001.\n",
      "Epoch 16/25\n",
      "67/67 [==============================] - 163s 2s/step - loss: 0.3945 - categorical_accuracy: 0.8522 - val_loss: 0.6642 - val_categorical_accuracy: 0.7800\n",
      "\n",
      "Epoch 00016: val_loss did not improve from 0.63186\n",
      "Epoch 17/25\n",
      "67/67 [==============================] - 196s 3s/step - loss: 0.3495 - categorical_accuracy: 0.8786 - val_loss: 0.6601 - val_categorical_accuracy: 0.8000\n",
      "\n",
      "Epoch 00017: val_loss did not improve from 0.63186\n",
      "Epoch 18/25\n",
      "67/67 [==============================] - 189s 3s/step - loss: 0.3479 - categorical_accuracy: 0.8771 - val_loss: 0.7979 - val_categorical_accuracy: 0.6800\n",
      "\n",
      "Epoch 00018: val_loss did not improve from 0.63186\n",
      "Epoch 19/25\n",
      "67/67 [==============================] - 167s 2s/step - loss: 0.3658 - categorical_accuracy: 0.8522 - val_loss: 0.6414 - val_categorical_accuracy: 0.7900\n",
      "\n",
      "Epoch 00019: val_loss did not improve from 0.63186\n",
      "Epoch 20/25\n",
      "67/67 [==============================] - 190s 3s/step - loss: 0.2516 - categorical_accuracy: 0.9264 - val_loss: 0.8174 - val_categorical_accuracy: 0.7100\n",
      "\n",
      "Epoch 00020: val_loss did not improve from 0.63186\n",
      "Epoch 21/25\n",
      "67/67 [==============================] - 164s 2s/step - loss: 0.2667 - categorical_accuracy: 0.9074 - val_loss: 0.5810 - val_categorical_accuracy: 0.7900\n",
      "\n",
      "Epoch 00021: val_loss improved from 0.63186 to 0.58102, saving model to model_conv3D_1_2020-08-1707_24_06.087739/model-00021-0.26424-0.90649-0.58102-0.79000.h5\n",
      "Epoch 22/25\n",
      "67/67 [==============================] - 183s 3s/step - loss: 0.2445 - categorical_accuracy: 0.9279 - val_loss: 0.5761 - val_categorical_accuracy: 0.7900\n",
      "\n",
      "Epoch 00022: val_loss improved from 0.58102 to 0.57610, saving model to model_conv3D_1_2020-08-1707_24_06.087739/model-00022-0.24258-0.93062-0.57610-0.79000.h5\n",
      "Epoch 23/25\n",
      "67/67 [==============================] - 162s 2s/step - loss: 0.2669 - categorical_accuracy: 0.9145 - val_loss: 0.6866 - val_categorical_accuracy: 0.7200\n",
      "\n",
      "Epoch 00023: val_loss did not improve from 0.57610\n",
      "Epoch 24/25\n",
      "67/67 [==============================] - 161s 2s/step - loss: 0.2711 - categorical_accuracy: 0.9095 - val_loss: 0.5631 - val_categorical_accuracy: 0.8000\n",
      "\n",
      "Epoch 00024: val_loss improved from 0.57610 to 0.56305, saving model to model_conv3D_1_2020-08-1707_24_06.087739/model-00024-0.24580-0.91554-0.56305-0.80000.h5\n",
      "Epoch 25/25\n",
      "67/67 [==============================] - 163s 2s/step - loss: 0.2176 - categorical_accuracy: 0.9369 - val_loss: 0.5873 - val_categorical_accuracy: 0.7700\n",
      "\n",
      "Epoch 00025: val_loss did not improve from 0.56305\n"
     ]
    }
   ],
   "source": [
    "history = model.fit_generator(train_generator, steps_per_epoch=steps_per_epoch, epochs=num_epochs, verbose=1, \n",
    "                             callbacks=callbacks_list, validation_data=val_generator, \n",
    "                             validation_steps=validation_steps, class_weight=None, workers=1, initial_epoch=0)"
   ]
  },
  {
   "cell_type": "code",
   "execution_count": 17,
   "metadata": {
    "colab": {
     "base_uri": "https://localhost:8080/",
     "height": 590
    },
    "colab_type": "code",
    "id": "Yt2x8AOWCjEX",
    "outputId": "a23f6f71-2279-4a09-8b64-7645fe8d851e"
   },
   "outputs": [
    {
     "name": "stdout",
     "output_type": "stream",
     "text": [
      "dict_keys(['val_loss', 'val_categorical_accuracy', 'loss', 'categorical_accuracy', 'lr'])\n"
     ]
    },
    {
     "data": {
      "image/png": "[encoded data removed]",
      "text/plain": [
       "<Figure size 432x288 with 1 Axes>"
      ]
     },
     "metadata": {},
     "output_type": "display_data"
    },
    {
     "data": {
      "image/png": "[encoded data removed]",
      "text/plain": [
       "<Figure size 432x288 with 1 Axes>"
      ]
     },
     "metadata": {},
     "output_type": "display_data"
    }
   ],
   "source": [
    "plot_loss_accuracy(history)"
   ]
  },
  {
   "cell_type": "markdown",
   "metadata": {
    "colab_type": "text",
    "id": "gLElBs3J0XGg"
   },
   "source": [
    "#### Conv 3D Model with 20 frames per video (16, 32, 64, 128 filters conv 3D layers + 256 dense layer + 128 dense layer + image size 120 by 120)"
   ]
  },
  {
   "cell_type": "code",
   "execution_count": 27,
   "metadata": {
    "colab": {
     "base_uri": "https://localhost:8080/",
     "height": 1000
    },
    "colab_type": "code",
    "id": "Na-JOEh-0XGm",
    "outputId": "b3fb2ba4-aa1f-4d17-9ee4-c9d2e05eed49"
   },
   "outputs": [
    {
     "name": "stdout",
     "output_type": "stream",
     "text": [
      "# batch size = 10\n",
      "# num_frames per video = 20\n",
      "_________________________________________________________________\n",
      "Layer (type)                 Output Shape              Param #   \n",
      "=================================================================\n",
      "conv3d_13 (Conv3D)           (None, 20, 120, 120, 16)  1312      \n",
      "_________________________________________________________________\n",
      "activation_22 (Activation)   (None, 20, 120, 120, 16)  0         \n",
      "_________________________________________________________________\n",
      "batch_normalization_19 (Batc (None, 20, 120, 120, 16)  64        \n",
      "_________________________________________________________________\n",
      "max_pooling3d_13 (MaxPooling (None, 10, 60, 60, 16)    0         \n",
      "_________________________________________________________________\n",
      "conv3d_14 (Conv3D)           (None, 10, 60, 60, 32)    13856     \n",
      "_________________________________________________________________\n",
      "activation_23 (Activation)   (None, 10, 60, 60, 32)    0         \n",
      "_________________________________________________________________\n",
      "batch_normalization_20 (Batc (None, 10, 60, 60, 32)    128       \n",
      "_________________________________________________________________\n",
      "max_pooling3d_14 (MaxPooling (None, 5, 30, 30, 32)     0         \n",
      "_________________________________________________________________\n",
      "conv3d_15 (Conv3D)           (None, 5, 30, 30, 64)     55360     \n",
      "_________________________________________________________________\n",
      "activation_24 (Activation)   (None, 5, 30, 30, 64)     0         \n",
      "_________________________________________________________________\n",
      "batch_normalization_21 (Batc (None, 5, 30, 30, 64)     256       \n",
      "_________________________________________________________________\n",
      "max_pooling3d_15 (MaxPooling (None, 2, 15, 15, 64)     0         \n",
      "_________________________________________________________________\n",
      "conv3d_16 (Conv3D)           (None, 2, 15, 15, 128)    221312    \n",
      "_________________________________________________________________\n",
      "activation_25 (Activation)   (None, 2, 15, 15, 128)    0         \n",
      "_________________________________________________________________\n",
      "batch_normalization_22 (Batc (None, 2, 15, 15, 128)    512       \n",
      "_________________________________________________________________\n",
      "max_pooling3d_16 (MaxPooling (None, 1, 7, 7, 128)      0         \n",
      "_________________________________________________________________\n",
      "flatten_4 (Flatten)          (None, 6272)              0         \n",
      "_________________________________________________________________\n",
      "dense_10 (Dense)             (None, 256)               1605888   \n",
      "_________________________________________________________________\n",
      "activation_26 (Activation)   (None, 256)               0         \n",
      "_________________________________________________________________\n",
      "batch_normalization_23 (Batc (None, 256)               1024      \n",
      "_________________________________________________________________\n",
      "dropout_7 (Dropout)          (None, 256)               0         \n",
      "_________________________________________________________________\n",
      "dense_11 (Dense)             (None, 128)               32896     \n",
      "_________________________________________________________________\n",
      "activation_27 (Activation)   (None, 128)               0         \n",
      "_________________________________________________________________\n",
      "batch_normalization_24 (Batc (None, 128)               512       \n",
      "_________________________________________________________________\n",
      "dropout_8 (Dropout)          (None, 128)               0         \n",
      "_________________________________________________________________\n",
      "dense_12 (Dense)             (None, 5)                 645       \n",
      "_________________________________________________________________\n",
      "activation_28 (Activation)   (None, 5)                 0         \n",
      "=================================================================\n",
      "Total params: 1,933,765\n",
      "Trainable params: 1,932,517\n",
      "Non-trainable params: 1,248\n",
      "_________________________________________________________________\n",
      "None\n"
     ]
    }
   ],
   "source": [
    "num_epochs = 20 # choose the number of epochs\n",
    "#print ('# epochs =', num_epochs)\n",
    "batch_size = 10  #experiment with the batch size\n",
    "print ('# batch size =', batch_size)\n",
    "num_frames = 20\n",
    "print ('# num_frames per video =', num_frames)\n",
    "height = 120\n",
    "width = 120\n",
    "\n",
    "model = conv3D(num_images=num_frames)\n",
    "\n",
    "print (model.summary())"
   ]
  },
  {
   "cell_type": "markdown",
   "metadata": {
    "colab_type": "text",
    "id": "4qHb4E6P0XGu"
   },
   "source": [
    "The `steps_per_epoch` and `validation_steps` are used by `fit_generator` to decide the number of next() calls it need to make.\n",
    "Let us now fit the model. This will start training the model and with the help of the checkpoints, you'll be able to save the model at the end of each epoch."
   ]
  },
  {
   "cell_type": "code",
   "execution_count": 28,
   "metadata": {
    "colab": {},
    "colab_type": "code",
    "id": "EoVbyXK60XGv"
   },
   "outputs": [],
   "source": [
    "callbacks_list = model_callbacks(\"model_conv3D_2\")\n",
    "\n",
    "steps_per_epoch, validation_steps = calculate_steps(num_train_sequences, num_val_sequences, batch_size)\n",
    "\n",
    "train_generator = generate(train_path, train_doc, batch_size, num_images=num_frames)\n",
    "\n",
    "val_generator   = generate(val_path, val_doc, batch_size, num_images=num_frames)"
   ]
  },
  {
   "cell_type": "code",
   "execution_count": 29,
   "metadata": {
    "colab": {
     "base_uri": "https://localhost:8080/",
     "height": 1000
    },
    "colab_type": "code",
    "id": "uuVvXEwt0XGz",
    "outputId": "27661573-c2d3-41db-abeb-4a570f6054e9"
   },
   "outputs": [
    {
     "name": "stdout",
     "output_type": "stream",
     "text": [
      "Epoch 1/20\n"
     ]
    },
    {
     "name": "stderr",
     "output_type": "stream",
     "text": [
      "/mnt/disks/user/anaconda3/lib/python3.6/site-packages/skimage/transform/_warps.py:105: UserWarning: The default mode, 'constant', will be changed to 'reflect' in skimage 0.15.\n",
      "  warn(\"The default mode, 'constant', will be changed to 'reflect' in \"\n"
     ]
    },
    {
     "name": "stdout",
     "output_type": "stream",
     "text": [
      "67/67 [==============================] - 115s 2s/step - loss: 1.5519 - categorical_accuracy: 0.4254 - val_loss: 1.4660 - val_categorical_accuracy: 0.5000\n",
      "\n",
      "Epoch 00001: val_loss improved from inf to 1.46601, saving model to model_conv3D_2_2020-08-1711_05_19.792011/model-00001-1.54317-0.42986-1.46601-0.50000.h5\n",
      "Epoch 2/20\n",
      "67/67 [==============================] - 109s 2s/step - loss: 1.2001 - categorical_accuracy: 0.5498 - val_loss: 1.6210 - val_categorical_accuracy: 0.5800\n",
      "\n",
      "Epoch 00002: val_loss did not improve from 1.46601\n",
      "Epoch 3/20\n",
      "67/67 [==============================] - 112s 2s/step - loss: 0.9810 - categorical_accuracy: 0.6299 - val_loss: 2.6316 - val_categorical_accuracy: 0.4200\n",
      "\n",
      "Epoch 00003: val_loss did not improve from 1.46601\n",
      "Epoch 4/20\n",
      "67/67 [==============================] - 113s 2s/step - loss: 0.8953 - categorical_accuracy: 0.6807 - val_loss: 2.2908 - val_categorical_accuracy: 0.3700\n",
      "\n",
      "Epoch 00004: val_loss did not improve from 1.46601\n",
      "Epoch 5/20\n",
      "67/67 [==============================] - 118s 2s/step - loss: 0.7104 - categorical_accuracy: 0.7179 - val_loss: 1.0104 - val_categorical_accuracy: 0.5800\n",
      "\n",
      "Epoch 00005: val_loss improved from 1.46601 to 1.01044, saving model to model_conv3D_2_2020-08-1711_05_19.792011/model-00005-0.71478-0.71493-1.01044-0.58000.h5\n",
      "Epoch 6/20\n",
      "67/67 [==============================] - 113s 2s/step - loss: 0.6015 - categorical_accuracy: 0.7746 - val_loss: 1.2540 - val_categorical_accuracy: 0.5800\n",
      "\n",
      "Epoch 00006: val_loss did not improve from 1.01044\n",
      "Epoch 7/20\n",
      "67/67 [==============================] - 113s 2s/step - loss: 0.5364 - categorical_accuracy: 0.7916 - val_loss: 1.8328 - val_categorical_accuracy: 0.4700\n",
      "\n",
      "Epoch 00007: val_loss did not improve from 1.01044\n",
      "Epoch 8/20\n",
      "67/67 [==============================] - 114s 2s/step - loss: 0.9593 - categorical_accuracy: 0.6353 - val_loss: 7.9443 - val_categorical_accuracy: 0.3400\n",
      "\n",
      "Epoch 00008: val_loss did not improve from 1.01044\n",
      "Epoch 9/20\n",
      "67/67 [==============================] - 107s 2s/step - loss: 0.6511 - categorical_accuracy: 0.7349 - val_loss: 1.5771 - val_categorical_accuracy: 0.4900\n",
      "\n",
      "Epoch 00009: val_loss did not improve from 1.01044\n",
      "\n",
      "Epoch 00009: ReduceLROnPlateau reducing learning rate to 0.00010000000474974513.\n",
      "Epoch 10/20\n",
      "67/67 [==============================] - 111s 2s/step - loss: 0.5140 - categorical_accuracy: 0.8055 - val_loss: 0.7231 - val_categorical_accuracy: 0.7200\n",
      "\n",
      "Epoch 00010: val_loss improved from 1.01044 to 0.72306, saving model to model_conv3D_2_2020-08-1711_05_19.792011/model-00010-0.49935-0.80694-0.72306-0.72000.h5\n",
      "Epoch 11/20\n",
      "67/67 [==============================] - 111s 2s/step - loss: 0.4071 - categorical_accuracy: 0.8562 - val_loss: 0.5954 - val_categorical_accuracy: 0.7900\n",
      "\n",
      "Epoch 00011: val_loss improved from 0.72306 to 0.59539, saving model to model_conv3D_2_2020-08-1711_05_19.792011/model-00011-0.40360-0.85822-0.59539-0.79000.h5\n",
      "Epoch 12/20\n",
      "67/67 [==============================] - 107s 2s/step - loss: 0.4380 - categorical_accuracy: 0.8404 - val_loss: 0.5469 - val_categorical_accuracy: 0.8200\n",
      "\n",
      "Epoch 00012: val_loss improved from 0.59539 to 0.54695, saving model to model_conv3D_2_2020-08-1711_05_19.792011/model-00012-0.42110-0.84917-0.54695-0.82000.h5\n",
      "Epoch 13/20\n",
      "67/67 [==============================] - 119s 2s/step - loss: 0.3244 - categorical_accuracy: 0.8776 - val_loss: 0.5337 - val_categorical_accuracy: 0.8400\n",
      "\n",
      "Epoch 00013: val_loss improved from 0.54695 to 0.53369, saving model to model_conv3D_2_2020-08-1711_05_19.792011/model-00013-0.32577-0.87632-0.53369-0.84000.h5\n",
      "Epoch 14/20\n",
      "67/67 [==============================] - 119s 2s/step - loss: 0.3742 - categorical_accuracy: 0.8782 - val_loss: 0.5247 - val_categorical_accuracy: 0.8100\n",
      "\n",
      "Epoch 00014: val_loss improved from 0.53369 to 0.52469, saving model to model_conv3D_2_2020-08-1711_05_19.792011/model-00014-0.33640-0.88386-0.52469-0.81000.h5\n",
      "Epoch 15/20\n",
      "67/67 [==============================] - 118s 2s/step - loss: 0.3676 - categorical_accuracy: 0.8686 - val_loss: 0.5225 - val_categorical_accuracy: 0.8500\n",
      "\n",
      "Epoch 00015: val_loss improved from 0.52469 to 0.52250, saving model to model_conv3D_2_2020-08-1711_05_19.792011/model-00015-0.36663-0.86727-0.52250-0.85000.h5\n",
      "Epoch 16/20\n",
      "67/67 [==============================] - 111s 2s/step - loss: 0.2914 - categorical_accuracy: 0.9010 - val_loss: 0.5152 - val_categorical_accuracy: 0.8500\n",
      "\n",
      "Epoch 00016: val_loss improved from 0.52250 to 0.51518, saving model to model_conv3D_2_2020-08-1711_05_19.792011/model-00016-0.28756-0.90347-0.51518-0.85000.h5\n",
      "Epoch 17/20\n",
      "67/67 [==============================] - 121s 2s/step - loss: 0.2800 - categorical_accuracy: 0.9119 - val_loss: 0.5032 - val_categorical_accuracy: 0.8600\n",
      "\n",
      "Epoch 00017: val_loss improved from 0.51518 to 0.50322, saving model to model_conv3D_2_2020-08-1711_05_19.792011/model-00017-0.28063-0.91101-0.50322-0.86000.h5\n",
      "Epoch 18/20\n",
      "67/67 [==============================] - 123s 2s/step - loss: 0.2945 - categorical_accuracy: 0.9025 - val_loss: 0.5289 - val_categorical_accuracy: 0.8600\n",
      "\n",
      "Epoch 00018: val_loss did not improve from 0.50322\n",
      "Epoch 19/20\n",
      "67/67 [==============================] - 112s 2s/step - loss: 0.2504 - categorical_accuracy: 0.9189 - val_loss: 0.4997 - val_categorical_accuracy: 0.8500\n",
      "\n",
      "Epoch 00019: val_loss improved from 0.50322 to 0.49973, saving model to model_conv3D_2_2020-08-1711_05_19.792011/model-00019-0.24124-0.92157-0.49973-0.85000.h5\n",
      "Epoch 20/20\n",
      "67/67 [==============================] - 116s 2s/step - loss: 0.2373 - categorical_accuracy: 0.9179 - val_loss: 0.5342 - val_categorical_accuracy: 0.8500\n",
      "\n",
      "Epoch 00020: val_loss did not improve from 0.49973\n"
     ]
    }
   ],
   "source": [
    "history = model.fit_generator(train_generator, steps_per_epoch=steps_per_epoch, epochs=num_epochs, verbose=1, \n",
    "                              callbacks=callbacks_list, validation_data=val_generator, \n",
    "                              validation_steps=validation_steps, class_weight=None, workers=1, initial_epoch=0)"
   ]
  },
  {
   "cell_type": "code",
   "execution_count": 30,
   "metadata": {
    "colab": {
     "base_uri": "https://localhost:8080/",
     "height": 590
    },
    "colab_type": "code",
    "id": "7MYLaHHv0XG3",
    "outputId": "4e9ab984-c294-4bcd-bba5-0027fd8182bc"
   },
   "outputs": [
    {
     "name": "stdout",
     "output_type": "stream",
     "text": [
      "dict_keys(['val_loss', 'val_categorical_accuracy', 'loss', 'categorical_accuracy', 'lr'])\n"
     ]
    },
    {
     "data": {
      "image/png": "[encoded data removed]",
      "text/plain": [
       "<Figure size 432x288 with 1 Axes>"
      ]
     },
     "metadata": {},
     "output_type": "display_data"
    },
    {
     "data": {
      "image/png": "[encoded data removed]",
      "text/plain": [
       "<Figure size 432x288 with 1 Axes>"
      ]
     },
     "metadata": {},
     "output_type": "display_data"
    }
   ],
   "source": [
    "plot_loss_accuracy(history)"
   ]
  },
  {
   "cell_type": "markdown",
   "metadata": {
    "colab_type": "text",
    "id": "wmwefZ_FnDYS"
   },
   "source": [
    "#### Conv 3D Model with 30 frames per video (16, 32, 64, 128 filters conv 3D layers + 256 dense layer + 128 dense layer + image size 160 by 160)"
   ]
  },
  {
   "cell_type": "code",
   "execution_count": 15,
   "metadata": {
    "colab": {
     "base_uri": "https://localhost:8080/",
     "height": 1000
    },
    "colab_type": "code",
    "id": "qwdMPtrSnDYU",
    "outputId": "4bd7d2be-f9ee-467e-cb41-1250631a85ed"
   },
   "outputs": [
    {
     "name": "stdout",
     "output_type": "stream",
     "text": [
      "# epochs = 20\n",
      "# batch size = 10\n",
      "# num_frames per video = 30\n",
      "_________________________________________________________________\n",
      "Layer (type)                 Output Shape              Param #   \n",
      "=================================================================\n",
      "conv3d_5 (Conv3D)            (None, 30, 160, 160, 16)  1312      \n",
      "_________________________________________________________________\n",
      "activation_8 (Activation)    (None, 30, 160, 160, 16)  0         \n",
      "_________________________________________________________________\n",
      "batch_normalization_7 (Batch (None, 30, 160, 160, 16)  64        \n",
      "_________________________________________________________________\n",
      "max_pooling3d_5 (MaxPooling3 (None, 15, 80, 80, 16)    0         \n",
      "_________________________________________________________________\n",
      "conv3d_6 (Conv3D)            (None, 15, 80, 80, 32)    13856     \n",
      "_________________________________________________________________\n",
      "activation_9 (Activation)    (None, 15, 80, 80, 32)    0         \n",
      "_________________________________________________________________\n",
      "batch_normalization_8 (Batch (None, 15, 80, 80, 32)    128       \n",
      "_________________________________________________________________\n",
      "max_pooling3d_6 (MaxPooling3 (None, 7, 40, 40, 32)     0         \n",
      "_________________________________________________________________\n",
      "conv3d_7 (Conv3D)            (None, 7, 40, 40, 64)     55360     \n",
      "_________________________________________________________________\n",
      "activation_10 (Activation)   (None, 7, 40, 40, 64)     0         \n",
      "_________________________________________________________________\n",
      "batch_normalization_9 (Batch (None, 7, 40, 40, 64)     256       \n",
      "_________________________________________________________________\n",
      "max_pooling3d_7 (MaxPooling3 (None, 3, 20, 20, 64)     0         \n",
      "_________________________________________________________________\n",
      "conv3d_8 (Conv3D)            (None, 3, 20, 20, 128)    221312    \n",
      "_________________________________________________________________\n",
      "activation_11 (Activation)   (None, 3, 20, 20, 128)    0         \n",
      "_________________________________________________________________\n",
      "batch_normalization_10 (Batc (None, 3, 20, 20, 128)    512       \n",
      "_________________________________________________________________\n",
      "max_pooling3d_8 (MaxPooling3 (None, 1, 10, 10, 128)    0         \n",
      "_________________________________________________________________\n",
      "flatten_2 (Flatten)          (None, 12800)             0         \n",
      "_________________________________________________________________\n",
      "dense_4 (Dense)              (None, 256)               3277056   \n",
      "_________________________________________________________________\n",
      "activation_12 (Activation)   (None, 256)               0         \n",
      "_________________________________________________________________\n",
      "batch_normalization_11 (Batc (None, 256)               1024      \n",
      "_________________________________________________________________\n",
      "dropout_3 (Dropout)          (None, 256)               0         \n",
      "_________________________________________________________________\n",
      "dense_5 (Dense)              (None, 128)               32896     \n",
      "_________________________________________________________________\n",
      "activation_13 (Activation)   (None, 128)               0         \n",
      "_________________________________________________________________\n",
      "batch_normalization_12 (Batc (None, 128)               512       \n",
      "_________________________________________________________________\n",
      "dropout_4 (Dropout)          (None, 128)               0         \n",
      "_________________________________________________________________\n",
      "dense_6 (Dense)              (None, 5)                 645       \n",
      "_________________________________________________________________\n",
      "activation_14 (Activation)   (None, 5)                 0         \n",
      "=================================================================\n",
      "Total params: 3,604,933\n",
      "Trainable params: 3,603,685\n",
      "Non-trainable params: 1,248\n",
      "_________________________________________________________________\n",
      "None\n"
     ]
    }
   ],
   "source": [
    "num_epochs = 20 # choose the number of epochs\n",
    "print ('# epochs =', num_epochs)\n",
    "batch_size = 10  #experiment with the batch size\n",
    "print ('# batch size =', batch_size)\n",
    "num_frames = 30\n",
    "print ('# num_frames per video =', num_frames)\n",
    "height = 160\n",
    "width = 160\n",
    "\n",
    "model = conv3D(num_images=num_frames, height=160, width=160)\n",
    "\n",
    "print (model.summary())"
   ]
  },
  {
   "cell_type": "markdown",
   "metadata": {
    "colab_type": "text",
    "id": "6M9yv49snDYY"
   },
   "source": [
    "The `steps_per_epoch` and `validation_steps` are used by `fit_generator` to decide the number of next() calls it need to make.\n",
    "Let us now fit the model. This will start training the model and with the help of the checkpoints, you'll be able to save the model at the end of each epoch."
   ]
  },
  {
   "cell_type": "code",
   "execution_count": 16,
   "metadata": {
    "colab": {},
    "colab_type": "code",
    "id": "312AEKPNnDYZ"
   },
   "outputs": [],
   "source": [
    "callbacks_list = model_callbacks(\"model_conv3D_3\")\n",
    "\n",
    "steps_per_epoch, validation_steps = calculate_steps(num_train_sequences, num_val_sequences, batch_size)\n",
    "\n",
    "train_generator = generate(train_path, train_doc, batch_size, num_images=num_frames, height=160, width=160)\n",
    "\n",
    "val_generator   = generate(val_path, val_doc, batch_size, num_images=num_frames, height=160, width=160)"
   ]
  },
  {
   "cell_type": "code",
   "execution_count": 17,
   "metadata": {
    "colab": {
     "base_uri": "https://localhost:8080/",
     "height": 1000
    },
    "colab_type": "code",
    "id": "tE9UysGBnDYf",
    "outputId": "5eb2b4b4-8fc4-4a52-fbaf-92266b1f51c8"
   },
   "outputs": [
    {
     "name": "stdout",
     "output_type": "stream",
     "text": [
      "Epoch 1/20\n"
     ]
    },
    {
     "name": "stderr",
     "output_type": "stream",
     "text": [
      "/mnt/disks/user/anaconda3/lib/python3.6/site-packages/skimage/transform/_warps.py:105: UserWarning: The default mode, 'constant', will be changed to 'reflect' in skimage 0.15.\n",
      "  warn(\"The default mode, 'constant', will be changed to 'reflect' in \"\n"
     ]
    },
    {
     "name": "stdout",
     "output_type": "stream",
     "text": [
      "67/67 [==============================] - 335s 5s/step - loss: 1.6470 - categorical_accuracy: 0.4278 - val_loss: 4.2629 - val_categorical_accuracy: 0.4200\n",
      "\n",
      "Epoch 00001: val_loss improved from inf to 4.26289, saving model to model_conv3D_3_2020-08-1714_02_41.746177/model-00001-1.64309-0.42534-4.26289-0.42000.h5\n",
      "Epoch 2/20\n",
      "67/67 [==============================] - 189s 3s/step - loss: 1.1694 - categorical_accuracy: 0.5566 - val_loss: 1.3488 - val_categorical_accuracy: 0.5200\n",
      "\n",
      "Epoch 00002: val_loss improved from 4.26289 to 1.34875, saving model to model_conv3D_3_2020-08-1714_02_41.746177/model-00002-1.17562-0.55204-1.34875-0.52000.h5\n",
      "Epoch 3/20\n",
      "67/67 [==============================] - 212s 3s/step - loss: 1.1360 - categorical_accuracy: 0.5587 - val_loss: 1.7929 - val_categorical_accuracy: 0.4200\n",
      "\n",
      "Epoch 00003: val_loss did not improve from 1.34875\n",
      "Epoch 4/20\n",
      "67/67 [==============================] - 206s 3s/step - loss: 0.9383 - categorical_accuracy: 0.6383 - val_loss: 1.3829 - val_categorical_accuracy: 0.5600\n",
      "\n",
      "Epoch 00004: val_loss did not improve from 1.34875\n",
      "Epoch 5/20\n",
      "67/67 [==============================] - 210s 3s/step - loss: 0.8426 - categorical_accuracy: 0.6747 - val_loss: 1.6777 - val_categorical_accuracy: 0.4400\n",
      "\n",
      "Epoch 00005: val_loss did not improve from 1.34875\n",
      "\n",
      "Epoch 00005: ReduceLROnPlateau reducing learning rate to 0.00010000000474974513.\n",
      "Epoch 6/20\n",
      "67/67 [==============================] - 213s 3s/step - loss: 0.7036 - categorical_accuracy: 0.7518 - val_loss: 0.9876 - val_categorical_accuracy: 0.6200\n",
      "\n",
      "Epoch 00006: val_loss improved from 1.34875 to 0.98757, saving model to model_conv3D_3_2020-08-1714_02_41.746177/model-00006-0.69973-0.75264-0.98757-0.62000.h5\n",
      "Epoch 7/20\n",
      "67/67 [==============================] - 184s 3s/step - loss: 0.6029 - categorical_accuracy: 0.7771 - val_loss: 0.7811 - val_categorical_accuracy: 0.7600\n",
      "\n",
      "Epoch 00007: val_loss improved from 0.98757 to 0.78106, saving model to model_conv3D_3_2020-08-1714_02_41.746177/model-00007-0.60176-0.77828-0.78106-0.76000.h5\n",
      "Epoch 8/20\n",
      "67/67 [==============================] - 209s 3s/step - loss: 0.6089 - categorical_accuracy: 0.7582 - val_loss: 0.7490 - val_categorical_accuracy: 0.7500\n",
      "\n",
      "Epoch 00008: val_loss improved from 0.78106 to 0.74898, saving model to model_conv3D_3_2020-08-1714_02_41.746177/model-00008-0.61194-0.75566-0.74898-0.75000.h5\n",
      "Epoch 9/20\n",
      "67/67 [==============================] - 189s 3s/step - loss: 0.5731 - categorical_accuracy: 0.7835 - val_loss: 0.7509 - val_categorical_accuracy: 0.7500\n",
      "\n",
      "Epoch 00009: val_loss did not improve from 0.74898\n",
      "Epoch 10/20\n",
      "67/67 [==============================] - 207s 3s/step - loss: 0.5266 - categorical_accuracy: 0.8115 - val_loss: 0.7308 - val_categorical_accuracy: 0.7700\n",
      "\n",
      "Epoch 00010: val_loss improved from 0.74898 to 0.73078, saving model to model_conv3D_3_2020-08-1714_02_41.746177/model-00010-0.51562-0.81297-0.73078-0.77000.h5\n",
      "Epoch 11/20\n",
      "67/67 [==============================] - 190s 3s/step - loss: 0.4854 - categorical_accuracy: 0.8204 - val_loss: 0.6715 - val_categorical_accuracy: 0.7900\n",
      "\n",
      "Epoch 00011: val_loss improved from 0.73078 to 0.67154, saving model to model_conv3D_3_2020-08-1714_02_41.746177/model-00011-0.48489-0.82202-0.67154-0.79000.h5\n",
      "Epoch 12/20\n",
      "67/67 [==============================] - 187s 3s/step - loss: 0.4554 - categorical_accuracy: 0.8433 - val_loss: 0.6279 - val_categorical_accuracy: 0.7900\n",
      "\n",
      "Epoch 00012: val_loss improved from 0.67154 to 0.62793, saving model to model_conv3D_3_2020-08-1714_02_41.746177/model-00012-0.45825-0.84163-0.62793-0.79000.h5\n",
      "Epoch 13/20\n",
      "67/67 [==============================] - 210s 3s/step - loss: 0.4218 - categorical_accuracy: 0.8637 - val_loss: 0.6194 - val_categorical_accuracy: 0.7900\n",
      "\n",
      "Epoch 00013: val_loss improved from 0.62793 to 0.61941, saving model to model_conv3D_3_2020-08-1714_02_41.746177/model-00013-0.40094-0.86576-0.61941-0.79000.h5\n",
      "Epoch 14/20\n",
      "67/67 [==============================] - 206s 3s/step - loss: 0.4422 - categorical_accuracy: 0.8339 - val_loss: 0.6428 - val_categorical_accuracy: 0.7900\n",
      "\n",
      "Epoch 00014: val_loss did not improve from 0.61941\n",
      "Epoch 15/20\n",
      "67/67 [==============================] - 210s 3s/step - loss: 0.3749 - categorical_accuracy: 0.8697 - val_loss: 0.6155 - val_categorical_accuracy: 0.8100\n",
      "\n",
      "Epoch 00015: val_loss improved from 0.61941 to 0.61553, saving model to model_conv3D_3_2020-08-1714_02_41.746177/model-00015-0.36992-0.87179-0.61553-0.81000.h5\n",
      "Epoch 16/20\n",
      "67/67 [==============================] - 188s 3s/step - loss: 0.3923 - categorical_accuracy: 0.8712 - val_loss: 0.5993 - val_categorical_accuracy: 0.8200\n",
      "\n",
      "Epoch 00016: val_loss improved from 0.61553 to 0.59929, saving model to model_conv3D_3_2020-08-1714_02_41.746177/model-00016-0.38902-0.87330-0.59929-0.82000.h5\n",
      "Epoch 17/20\n",
      "67/67 [==============================] - 211s 3s/step - loss: 0.3503 - categorical_accuracy: 0.8742 - val_loss: 0.6447 - val_categorical_accuracy: 0.7800\n",
      "\n",
      "Epoch 00017: val_loss did not improve from 0.59929\n",
      "Epoch 18/20\n",
      "67/67 [==============================] - 182s 3s/step - loss: 0.3580 - categorical_accuracy: 0.8801 - val_loss: 0.8803 - val_categorical_accuracy: 0.6700\n",
      "\n",
      "Epoch 00018: val_loss did not improve from 0.59929\n",
      "Epoch 19/20\n",
      "67/67 [==============================] - 210s 3s/step - loss: 0.3859 - categorical_accuracy: 0.8492 - val_loss: 0.6403 - val_categorical_accuracy: 0.8100\n",
      "\n",
      "Epoch 00019: val_loss did not improve from 0.59929\n",
      "\n",
      "Epoch 00019: ReduceLROnPlateau reducing learning rate to 0.0001.\n",
      "Epoch 20/20\n",
      "67/67 [==============================] - 210s 3s/step - loss: 0.2921 - categorical_accuracy: 0.9030 - val_loss: 0.6287 - val_categorical_accuracy: 0.7800\n",
      "\n",
      "Epoch 00020: val_loss did not improve from 0.59929\n"
     ]
    }
   ],
   "source": [
    "history = model.fit_generator(train_generator, steps_per_epoch=steps_per_epoch, epochs=num_epochs, verbose=1, \n",
    "                              callbacks=callbacks_list, validation_data=val_generator, \n",
    "                              validation_steps=validation_steps, class_weight=None, workers=1, initial_epoch=0)"
   ]
  },
  {
   "cell_type": "code",
   "execution_count": 18,
   "metadata": {
    "colab": {
     "base_uri": "https://localhost:8080/",
     "height": 590
    },
    "colab_type": "code",
    "id": "DQUp_LWwnDYh",
    "outputId": "95790ba5-73c9-46bd-9a99-24494d7b191e"
   },
   "outputs": [
    {
     "name": "stdout",
     "output_type": "stream",
     "text": [
      "dict_keys(['val_loss', 'val_categorical_accuracy', 'loss', 'categorical_accuracy', 'lr'])\n"
     ]
    },
    {
     "data": {
      "image/png": "[encoded data removed]",
      "text/plain": [
       "<Figure size 432x288 with 1 Axes>"
      ]
     },
     "metadata": {},
     "output_type": "display_data"
    },
    {
     "data": {
      "image/png": "[encoded data removed]",
      "text/plain": [
       "<Figure size 432x288 with 1 Axes>"
      ]
     },
     "metadata": {},
     "output_type": "display_data"
    }
   ],
   "source": [
    "plot_loss_accuracy(history)"
   ]
  },
  {
   "cell_type": "markdown",
   "metadata": {
    "colab_type": "text",
    "id": "2Jm7_Pm0kcKC"
   },
   "source": [
    "#### Conv 3D Model with 20 frames per video (16, 32, 64, 128 filters conv 3D layers + 256 dense layer + 128 dense layer + image size 160 by 160)"
   ]
  },
  {
   "cell_type": "code",
   "execution_count": 18,
   "metadata": {
    "colab": {
     "base_uri": "https://localhost:8080/",
     "height": 1000
    },
    "colab_type": "code",
    "id": "3hhGIySIkcKF",
    "outputId": "4bd7d2be-f9ee-467e-cb41-1250631a85ed"
   },
   "outputs": [
    {
     "name": "stdout",
     "output_type": "stream",
     "text": [
      "# epochs = 20\n",
      "# batch size = 10\n",
      "# num_frames per video = 20\n",
      "_________________________________________________________________\n",
      "Layer (type)                 Output Shape              Param #   \n",
      "=================================================================\n",
      "conv3d_5 (Conv3D)            (None, 20, 160, 160, 16)  1312      \n",
      "_________________________________________________________________\n",
      "activation_8 (Activation)    (None, 20, 160, 160, 16)  0         \n",
      "_________________________________________________________________\n",
      "batch_normalization_7 (Batch (None, 20, 160, 160, 16)  64        \n",
      "_________________________________________________________________\n",
      "max_pooling3d_5 (MaxPooling3 (None, 10, 80, 80, 16)    0         \n",
      "_________________________________________________________________\n",
      "conv3d_6 (Conv3D)            (None, 10, 80, 80, 32)    13856     \n",
      "_________________________________________________________________\n",
      "activation_9 (Activation)    (None, 10, 80, 80, 32)    0         \n",
      "_________________________________________________________________\n",
      "batch_normalization_8 (Batch (None, 10, 80, 80, 32)    128       \n",
      "_________________________________________________________________\n",
      "max_pooling3d_6 (MaxPooling3 (None, 5, 40, 40, 32)     0         \n",
      "_________________________________________________________________\n",
      "conv3d_7 (Conv3D)            (None, 5, 40, 40, 64)     55360     \n",
      "_________________________________________________________________\n",
      "activation_10 (Activation)   (None, 5, 40, 40, 64)     0         \n",
      "_________________________________________________________________\n",
      "batch_normalization_9 (Batch (None, 5, 40, 40, 64)     256       \n",
      "_________________________________________________________________\n",
      "max_pooling3d_7 (MaxPooling3 (None, 2, 20, 20, 64)     0         \n",
      "_________________________________________________________________\n",
      "conv3d_8 (Conv3D)            (None, 2, 20, 20, 128)    221312    \n",
      "_________________________________________________________________\n",
      "activation_11 (Activation)   (None, 2, 20, 20, 128)    0         \n",
      "_________________________________________________________________\n",
      "batch_normalization_10 (Batc (None, 2, 20, 20, 128)    512       \n",
      "_________________________________________________________________\n",
      "max_pooling3d_8 (MaxPooling3 (None, 1, 10, 10, 128)    0         \n",
      "_________________________________________________________________\n",
      "flatten_2 (Flatten)          (None, 12800)             0         \n",
      "_________________________________________________________________\n",
      "dense_4 (Dense)              (None, 256)               3277056   \n",
      "_________________________________________________________________\n",
      "activation_12 (Activation)   (None, 256)               0         \n",
      "_________________________________________________________________\n",
      "batch_normalization_11 (Batc (None, 256)               1024      \n",
      "_________________________________________________________________\n",
      "dropout_3 (Dropout)          (None, 256)               0         \n",
      "_________________________________________________________________\n",
      "dense_5 (Dense)              (None, 128)               32896     \n",
      "_________________________________________________________________\n",
      "activation_13 (Activation)   (None, 128)               0         \n",
      "_________________________________________________________________\n",
      "batch_normalization_12 (Batc (None, 128)               512       \n",
      "_________________________________________________________________\n",
      "dropout_4 (Dropout)          (None, 128)               0         \n",
      "_________________________________________________________________\n",
      "dense_6 (Dense)              (None, 5)                 645       \n",
      "_________________________________________________________________\n",
      "activation_14 (Activation)   (None, 5)                 0         \n",
      "=================================================================\n",
      "Total params: 3,604,933\n",
      "Trainable params: 3,603,685\n",
      "Non-trainable params: 1,248\n",
      "_________________________________________________________________\n",
      "None\n"
     ]
    }
   ],
   "source": [
    "num_epochs = 20 # choose the number of epochs\n",
    "print ('# epochs =', num_epochs)\n",
    "batch_size = 10  #experiment with the batch size\n",
    "print ('# batch size =', batch_size)\n",
    "num_frames = 20\n",
    "print ('# num_frames per video =', num_frames)\n",
    "height = 160\n",
    "width = 160\n",
    "\n",
    "model = conv3D(num_images=num_frames, height=160, width=160)\n",
    "\n",
    "print (model.summary())"
   ]
  },
  {
   "cell_type": "markdown",
   "metadata": {
    "colab_type": "text",
    "id": "auyrgZ7FkcKH"
   },
   "source": [
    "The `steps_per_epoch` and `validation_steps` are used by `fit_generator` to decide the number of next() calls it need to make.\n",
    "Let us now fit the model. This will start training the model and with the help of the checkpoints, you'll be able to save the model at the end of each epoch."
   ]
  },
  {
   "cell_type": "code",
   "execution_count": 19,
   "metadata": {
    "colab": {},
    "colab_type": "code",
    "id": "kQUViOEMkcKI"
   },
   "outputs": [],
   "source": [
    "callbacks_list = model_callbacks(\"model_conv3D_4\")\n",
    "\n",
    "steps_per_epoch, validation_steps = calculate_steps(num_train_sequences, num_val_sequences, batch_size)\n",
    "\n",
    "train_generator = generate(train_path, train_doc, batch_size, num_images=num_frames, height=160, width=160)\n",
    "\n",
    "val_generator   = generate(val_path, val_doc, batch_size, num_images=num_frames, height=160, width=160)"
   ]
  },
  {
   "cell_type": "code",
   "execution_count": 20,
   "metadata": {
    "colab": {
     "base_uri": "https://localhost:8080/",
     "height": 1000
    },
    "colab_type": "code",
    "id": "whHipbw3kcKJ",
    "outputId": "5eb2b4b4-8fc4-4a52-fbaf-92266b1f51c8"
   },
   "outputs": [
    {
     "name": "stdout",
     "output_type": "stream",
     "text": [
      "Epoch 1/20\n"
     ]
    },
    {
     "name": "stderr",
     "output_type": "stream",
     "text": [
      "/mnt/disks/user/anaconda3/lib/python3.6/site-packages/skimage/transform/_warps.py:105: UserWarning: The default mode, 'constant', will be changed to 'reflect' in skimage 0.15.\n",
      "  warn(\"The default mode, 'constant', will be changed to 'reflect' in \"\n"
     ]
    },
    {
     "name": "stdout",
     "output_type": "stream",
     "text": [
      "67/67 [==============================] - 263s 4s/step - loss: 1.5327 - categorical_accuracy: 0.4766 - val_loss: 2.4515 - val_categorical_accuracy: 0.3300\n",
      "\n",
      "Epoch 00001: val_loss improved from inf to 2.45151, saving model to model_conv3D_4_2020-08-1711_05_19.792011/model-00001-1.51836-0.47813-2.45151-0.33000.h5\n",
      "Epoch 2/20\n",
      "67/67 [==============================] - 130s 2s/step - loss: 1.1179 - categorical_accuracy: 0.5741 - val_loss: 1.6836 - val_categorical_accuracy: 0.5000\n",
      "\n",
      "Epoch 00002: val_loss improved from 2.45151 to 1.68361, saving model to model_conv3D_4_2020-08-1711_05_19.792011/model-00002-1.12307-0.57315-1.68361-0.50000.h5\n",
      "Epoch 3/20\n",
      "67/67 [==============================] - 121s 2s/step - loss: 0.9518 - categorical_accuracy: 0.6299 - val_loss: 2.1900 - val_categorical_accuracy: 0.3700\n",
      "\n",
      "Epoch 00003: val_loss did not improve from 1.68361\n",
      "Epoch 4/20\n",
      "67/67 [==============================] - 140s 2s/step - loss: 1.0504 - categorical_accuracy: 0.6140 - val_loss: 10.5907 - val_categorical_accuracy: 0.2300\n",
      "\n",
      "Epoch 00004: val_loss did not improve from 1.68361\n",
      "Epoch 5/20\n",
      "67/67 [==============================] - 132s 2s/step - loss: 0.9696 - categorical_accuracy: 0.6329 - val_loss: 1.2485 - val_categorical_accuracy: 0.5700\n",
      "\n",
      "Epoch 00005: val_loss improved from 1.68361 to 1.24854, saving model to model_conv3D_4_2020-08-1711_05_19.792011/model-00005-0.95626-0.63952-1.24854-0.57000.h5\n",
      "Epoch 6/20\n",
      "67/67 [==============================] - 129s 2s/step - loss: 0.8763 - categorical_accuracy: 0.6658 - val_loss: 0.9297 - val_categorical_accuracy: 0.6300\n",
      "\n",
      "Epoch 00006: val_loss improved from 1.24854 to 0.92970, saving model to model_conv3D_4_2020-08-1711_05_19.792011/model-00006-0.85852-0.67270-0.92970-0.63000.h5\n",
      "Epoch 7/20\n",
      "67/67 [==============================] - 122s 2s/step - loss: 0.7021 - categorical_accuracy: 0.7304 - val_loss: 1.2703 - val_categorical_accuracy: 0.6800\n",
      "\n",
      "Epoch 00007: val_loss did not improve from 0.92970\n",
      "Epoch 8/20\n",
      "67/67 [==============================] - 122s 2s/step - loss: 0.6857 - categorical_accuracy: 0.7279 - val_loss: 1.2084 - val_categorical_accuracy: 0.6200\n",
      "\n",
      "Epoch 00008: val_loss did not improve from 0.92970\n",
      "Epoch 9/20\n",
      "67/67 [==============================] - 137s 2s/step - loss: 0.6732 - categorical_accuracy: 0.7522 - val_loss: 1.0222 - val_categorical_accuracy: 0.6600\n",
      "\n",
      "Epoch 00009: val_loss did not improve from 0.92970\n",
      "Epoch 10/20\n",
      "67/67 [==============================] - 123s 2s/step - loss: 0.5885 - categorical_accuracy: 0.7677 - val_loss: 0.9450 - val_categorical_accuracy: 0.6700\n",
      "\n",
      "Epoch 00010: val_loss did not improve from 0.92970\n",
      "\n",
      "Epoch 00010: ReduceLROnPlateau reducing learning rate to 0.00010000000474974513.\n",
      "Epoch 11/20\n",
      "67/67 [==============================] - 122s 2s/step - loss: 0.4091 - categorical_accuracy: 0.8552 - val_loss: 0.8015 - val_categorical_accuracy: 0.7100\n",
      "\n",
      "Epoch 00011: val_loss improved from 0.92970 to 0.80149, saving model to model_conv3D_4_2020-08-1711_05_19.792011/model-00011-0.41187-0.85370-0.80149-0.71000.h5\n",
      "Epoch 12/20\n",
      "67/67 [==============================] - 126s 2s/step - loss: 0.4071 - categorical_accuracy: 0.8716 - val_loss: 0.6927 - val_categorical_accuracy: 0.7700\n",
      "\n",
      "Epoch 00012: val_loss improved from 0.80149 to 0.69267, saving model to model_conv3D_4_2020-08-1711_05_19.792011/model-00012-0.41054-0.87029-0.69267-0.77000.h5\n",
      "Epoch 13/20\n",
      "67/67 [==============================] - 134s 2s/step - loss: 0.3495 - categorical_accuracy: 0.8812 - val_loss: 0.6586 - val_categorical_accuracy: 0.7700\n",
      "\n",
      "Epoch 00013: val_loss improved from 0.69267 to 0.65860, saving model to model_conv3D_4_2020-08-1711_05_19.792011/model-00013-0.32788-0.88688-0.65860-0.77000.h5\n",
      "Epoch 14/20\n",
      "67/67 [==============================] - 126s 2s/step - loss: 0.3576 - categorical_accuracy: 0.8836 - val_loss: 0.6704 - val_categorical_accuracy: 0.7600\n",
      "\n",
      "Epoch 00014: val_loss did not improve from 0.65860\n",
      "Epoch 15/20\n",
      "67/67 [==============================] - 143s 2s/step - loss: 0.3534 - categorical_accuracy: 0.8727 - val_loss: 0.6811 - val_categorical_accuracy: 0.7800\n",
      "\n",
      "Epoch 00015: val_loss did not improve from 0.65860\n",
      "Epoch 16/20\n",
      "67/67 [==============================] - 134s 2s/step - loss: 0.3590 - categorical_accuracy: 0.8657 - val_loss: 0.6264 - val_categorical_accuracy: 0.7800\n",
      "\n",
      "Epoch 00016: val_loss improved from 0.65860 to 0.62641, saving model to model_conv3D_4_2020-08-1711_05_19.792011/model-00016-0.36111-0.86425-0.62641-0.78000.h5\n",
      "Epoch 17/20\n",
      "67/67 [==============================] - 143s 2s/step - loss: 0.3523 - categorical_accuracy: 0.8633 - val_loss: 0.6199 - val_categorical_accuracy: 0.8000\n",
      "\n",
      "Epoch 00017: val_loss improved from 0.62641 to 0.61986, saving model to model_conv3D_4_2020-08-1711_05_19.792011/model-00017-0.34398-0.86878-0.61986-0.80000.h5\n",
      "Epoch 18/20\n",
      "67/67 [==============================] - 141s 2s/step - loss: 0.3473 - categorical_accuracy: 0.8771 - val_loss: 0.6041 - val_categorical_accuracy: 0.7900\n",
      "\n",
      "Epoch 00018: val_loss improved from 0.61986 to 0.60415, saving model to model_conv3D_4_2020-08-1711_05_19.792011/model-00018-0.33454-0.87934-0.60415-0.79000.h5\n",
      "Epoch 19/20\n",
      "67/67 [==============================] - 144s 2s/step - loss: 0.3117 - categorical_accuracy: 0.8865 - val_loss: 0.6233 - val_categorical_accuracy: 0.7800\n",
      "\n",
      "Epoch 00019: val_loss did not improve from 0.60415\n",
      "Epoch 20/20\n",
      "67/67 [==============================] - 131s 2s/step - loss: 0.2795 - categorical_accuracy: 0.9089 - val_loss: 0.6304 - val_categorical_accuracy: 0.7800\n",
      "\n",
      "Epoch 00020: val_loss did not improve from 0.60415\n"
     ]
    }
   ],
   "source": [
    "history = model.fit_generator(train_generator, steps_per_epoch=steps_per_epoch, epochs=num_epochs, verbose=1, \n",
    "                              callbacks=callbacks_list, validation_data=val_generator, \n",
    "                              validation_steps=validation_steps, class_weight=None, workers=1, initial_epoch=0)"
   ]
  },
  {
   "cell_type": "code",
   "execution_count": 21,
   "metadata": {
    "colab": {
     "base_uri": "https://localhost:8080/",
     "height": 590
    },
    "colab_type": "code",
    "id": "628-8CImkcKM",
    "outputId": "95790ba5-73c9-46bd-9a99-24494d7b191e"
   },
   "outputs": [
    {
     "name": "stdout",
     "output_type": "stream",
     "text": [
      "dict_keys(['val_loss', 'val_categorical_accuracy', 'loss', 'categorical_accuracy', 'lr'])\n"
     ]
    },
    {
     "data": {
      "image/png": "[encoded data removed]",
      "text/plain": [
       "<Figure size 432x288 with 1 Axes>"
      ]
     },
     "metadata": {},
     "output_type": "display_data"
    },
    {
     "data": {
      "image/png": "[encoded data removed]",
      "text/plain": [
       "<Figure size 432x288 with 1 Axes>"
      ]
     },
     "metadata": {},
     "output_type": "display_data"
    }
   ],
   "source": [
    "plot_loss_accuracy(history)"
   ]
  },
  {
   "cell_type": "markdown",
   "metadata": {
    "colab_type": "text",
    "id": "aA5W8giixDpY"
   },
   "source": [
    "#### Conv 3D Model with 30 frames per video (16, 32, 64, 128 filters conv 3D layers + 256 dense layer + 128 dense layer) + Random data transformations on training data set"
   ]
  },
  {
   "cell_type": "code",
   "execution_count": 19,
   "metadata": {
    "colab": {
     "base_uri": "https://localhost:8080/",
     "height": 1000
    },
    "colab_type": "code",
    "id": "hWDBO-jK1UHu",
    "outputId": "44333e08-11db-494d-93c7-7978150db952"
   },
   "outputs": [
    {
     "name": "stdout",
     "output_type": "stream",
     "text": [
      "# epochs = 15\n",
      "# batch size = 10\n",
      "# num_frames per video = 30\n",
      "_________________________________________________________________\n",
      "Layer (type)                 Output Shape              Param #   \n",
      "=================================================================\n",
      "conv3d_9 (Conv3D)            (None, 30, 120, 120, 16)  1312      \n",
      "_________________________________________________________________\n",
      "activation_15 (Activation)   (None, 30, 120, 120, 16)  0         \n",
      "_________________________________________________________________\n",
      "batch_normalization_13 (Batc (None, 30, 120, 120, 16)  64        \n",
      "_________________________________________________________________\n",
      "max_pooling3d_9 (MaxPooling3 (None, 15, 60, 60, 16)    0         \n",
      "_________________________________________________________________\n",
      "conv3d_10 (Conv3D)           (None, 15, 60, 60, 32)    13856     \n",
      "_________________________________________________________________\n",
      "activation_16 (Activation)   (None, 15, 60, 60, 32)    0         \n",
      "_________________________________________________________________\n",
      "batch_normalization_14 (Batc (None, 15, 60, 60, 32)    128       \n",
      "_________________________________________________________________\n",
      "max_pooling3d_10 (MaxPooling (None, 7, 30, 30, 32)     0         \n",
      "_________________________________________________________________\n",
      "conv3d_11 (Conv3D)           (None, 7, 30, 30, 64)     55360     \n",
      "_________________________________________________________________\n",
      "activation_17 (Activation)   (None, 7, 30, 30, 64)     0         \n",
      "_________________________________________________________________\n",
      "batch_normalization_15 (Batc (None, 7, 30, 30, 64)     256       \n",
      "_________________________________________________________________\n",
      "max_pooling3d_11 (MaxPooling (None, 3, 15, 15, 64)     0         \n",
      "_________________________________________________________________\n",
      "conv3d_12 (Conv3D)           (None, 3, 15, 15, 128)    221312    \n",
      "_________________________________________________________________\n",
      "activation_18 (Activation)   (None, 3, 15, 15, 128)    0         \n",
      "_________________________________________________________________\n",
      "batch_normalization_16 (Batc (None, 3, 15, 15, 128)    512       \n",
      "_________________________________________________________________\n",
      "max_pooling3d_12 (MaxPooling (None, 1, 7, 7, 128)      0         \n",
      "_________________________________________________________________\n",
      "flatten_3 (Flatten)          (None, 6272)              0         \n",
      "_________________________________________________________________\n",
      "dense_7 (Dense)              (None, 256)               1605888   \n",
      "_________________________________________________________________\n",
      "activation_19 (Activation)   (None, 256)               0         \n",
      "_________________________________________________________________\n",
      "batch_normalization_17 (Batc (None, 256)               1024      \n",
      "_________________________________________________________________\n",
      "dropout_5 (Dropout)          (None, 256)               0         \n",
      "_________________________________________________________________\n",
      "dense_8 (Dense)              (None, 128)               32896     \n",
      "_________________________________________________________________\n",
      "activation_20 (Activation)   (None, 128)               0         \n",
      "_________________________________________________________________\n",
      "batch_normalization_18 (Batc (None, 128)               512       \n",
      "_________________________________________________________________\n",
      "dropout_6 (Dropout)          (None, 128)               0         \n",
      "_________________________________________________________________\n",
      "dense_9 (Dense)              (None, 5)                 645       \n",
      "_________________________________________________________________\n",
      "activation_21 (Activation)   (None, 5)                 0         \n",
      "=================================================================\n",
      "Total params: 1,933,765\n",
      "Trainable params: 1,932,517\n",
      "Non-trainable params: 1,248\n",
      "_________________________________________________________________\n",
      "None\n"
     ]
    }
   ],
   "source": [
    "num_epochs = 15 # choose the number of epochs\n",
    "print ('# epochs =', num_epochs)\n",
    "batch_size = 10  #experiment with the batch size\n",
    "print ('# batch size =', batch_size)\n",
    "num_frames = 30\n",
    "print ('# num_frames per video =', num_frames)\n",
    "height = 120\n",
    "width = 120\n",
    "\n",
    "model = conv3D(num_images=num_frames)\n",
    "\n",
    "print (model.summary())"
   ]
  },
  {
   "cell_type": "code",
   "execution_count": 20,
   "metadata": {
    "colab": {},
    "colab_type": "code",
    "id": "VrPewKo_w9B-"
   },
   "outputs": [],
   "source": [
    "callbacks_list = model_callbacks(\"model_conv3D_5\")\n",
    "\n",
    "steps_per_epoch, validation_steps = calculate_steps(num_train_sequences, num_val_sequences, batch_size)\n",
    "\n",
    "train_generator = generate(train_path, train_doc, batch_size, augment=True, num_images=num_frames)\n",
    "\n",
    "val_generator   = generate(val_path, val_doc, batch_size, num_images=num_frames)"
   ]
  },
  {
   "cell_type": "code",
   "execution_count": 21,
   "metadata": {
    "colab": {
     "base_uri": "https://localhost:8080/",
     "height": 1000
    },
    "colab_type": "code",
    "id": "zNrzgwU9w9CE",
    "outputId": "e0222594-e5f6-414c-a240-30752a2e1a57"
   },
   "outputs": [
    {
     "name": "stdout",
     "output_type": "stream",
     "text": [
      "Epoch 1/15\n"
     ]
    },
    {
     "name": "stderr",
     "output_type": "stream",
     "text": [
      "/mnt/disks/user/anaconda3/lib/python3.6/site-packages/skimage/transform/_warps.py:105: UserWarning: The default mode, 'constant', will be changed to 'reflect' in skimage 0.15.\n",
      "  warn(\"The default mode, 'constant', will be changed to 'reflect' in \"\n"
     ]
    },
    {
     "name": "stdout",
     "output_type": "stream",
     "text": [
      "67/67 [==============================] - 195s 3s/step - loss: 1.7452 - categorical_accuracy: 0.3792 - val_loss: 2.6609 - val_categorical_accuracy: 0.3500\n",
      "\n",
      "Epoch 00001: val_loss improved from inf to 2.66091, saving model to model_conv3D_5_2020-08-1714_02_41.746177/model-00001-1.73287-0.38311-2.66091-0.35000.h5\n",
      "Epoch 2/15\n",
      "67/67 [==============================] - 205s 3s/step - loss: 1.4684 - categorical_accuracy: 0.4428 - val_loss: 3.1332 - val_categorical_accuracy: 0.3300\n",
      "\n",
      "Epoch 00002: val_loss did not improve from 2.66091\n",
      "Epoch 3/15\n",
      "67/67 [==============================] - 204s 3s/step - loss: 1.3028 - categorical_accuracy: 0.4931 - val_loss: 1.7819 - val_categorical_accuracy: 0.4600\n",
      "\n",
      "Epoch 00003: val_loss improved from 2.66091 to 1.78193, saving model to model_conv3D_5_2020-08-1714_02_41.746177/model-00003-1.29350-0.49472-1.78193-0.46000.h5\n",
      "Epoch 4/15\n",
      "67/67 [==============================] - 206s 3s/step - loss: 1.4906 - categorical_accuracy: 0.4314 - val_loss: 1.5359 - val_categorical_accuracy: 0.4900\n",
      "\n",
      "Epoch 00004: val_loss improved from 1.78193 to 1.53594, saving model to model_conv3D_5_2020-08-1714_02_41.746177/model-00004-1.47364-0.43590-1.53594-0.49000.h5\n",
      "Epoch 5/15\n",
      "67/67 [==============================] - 210s 3s/step - loss: 1.1504 - categorical_accuracy: 0.5334 - val_loss: 2.4798 - val_categorical_accuracy: 0.3100\n",
      "\n",
      "Epoch 00005: val_loss did not improve from 1.53594\n",
      "Epoch 6/15\n",
      "67/67 [==============================] - 207s 3s/step - loss: 1.0375 - categorical_accuracy: 0.5961 - val_loss: 1.6863 - val_categorical_accuracy: 0.4600\n",
      "\n",
      "Epoch 00006: val_loss did not improve from 1.53594\n",
      "Epoch 7/15\n",
      "67/67 [==============================] - 200s 3s/step - loss: 1.0056 - categorical_accuracy: 0.6014 - val_loss: 2.1630 - val_categorical_accuracy: 0.3100\n",
      "\n",
      "Epoch 00007: val_loss did not improve from 1.53594\n",
      "\n",
      "Epoch 00007: ReduceLROnPlateau reducing learning rate to 0.00010000000474974513.\n",
      "Epoch 8/15\n",
      "67/67 [==============================] - 202s 3s/step - loss: 0.9481 - categorical_accuracy: 0.6349 - val_loss: 1.1315 - val_categorical_accuracy: 0.5700\n",
      "\n",
      "Epoch 00008: val_loss improved from 1.53594 to 1.13146, saving model to model_conv3D_5_2020-08-1714_02_41.746177/model-00008-0.94205-0.63801-1.13146-0.57000.h5\n",
      "Epoch 9/15\n",
      "67/67 [==============================] - 201s 3s/step - loss: 0.8336 - categorical_accuracy: 0.6777 - val_loss: 1.1203 - val_categorical_accuracy: 0.6100\n",
      "\n",
      "Epoch 00009: val_loss improved from 1.13146 to 1.12027, saving model to model_conv3D_5_2020-08-1714_02_41.746177/model-00009-0.82449-0.68477-1.12027-0.61000.h5\n",
      "Epoch 10/15\n",
      "67/67 [==============================] - 204s 3s/step - loss: 0.7821 - categorical_accuracy: 0.7240 - val_loss: 1.2588 - val_categorical_accuracy: 0.5600\n",
      "\n",
      "Epoch 00010: val_loss did not improve from 1.12027\n",
      "Epoch 11/15\n",
      "67/67 [==============================] - 236s 4s/step - loss: 0.7067 - categorical_accuracy: 0.7074 - val_loss: 1.2274 - val_categorical_accuracy: 0.5800\n",
      "\n",
      "Epoch 00011: val_loss did not improve from 1.12027\n",
      "Epoch 12/15\n",
      "67/67 [==============================] - 194s 3s/step - loss: 0.7110 - categorical_accuracy: 0.7373 - val_loss: 1.3252 - val_categorical_accuracy: 0.5700\n",
      "\n",
      "Epoch 00012: val_loss did not improve from 1.12027\n",
      "\n",
      "Epoch 00012: ReduceLROnPlateau reducing learning rate to 0.0001.\n",
      "Epoch 13/15\n",
      "67/67 [==============================] - 235s 4s/step - loss: 0.7347 - categorical_accuracy: 0.7373 - val_loss: 1.4371 - val_categorical_accuracy: 0.5600\n",
      "\n",
      "Epoch 00013: val_loss did not improve from 1.12027\n",
      "Epoch 14/15\n",
      "67/67 [==============================] - 234s 3s/step - loss: 0.7134 - categorical_accuracy: 0.7210 - val_loss: 1.2538 - val_categorical_accuracy: 0.5600\n",
      "\n",
      "Epoch 00014: val_loss did not improve from 1.12027\n",
      "Epoch 15/15\n",
      "67/67 [==============================] - 208s 3s/step - loss: 0.6587 - categorical_accuracy: 0.7577 - val_loss: 1.2814 - val_categorical_accuracy: 0.5900\n",
      "\n",
      "Epoch 00015: val_loss did not improve from 1.12027\n"
     ]
    }
   ],
   "source": [
    "history = model.fit_generator(train_generator, steps_per_epoch=steps_per_epoch, epochs=num_epochs, verbose=1, \n",
    "                              callbacks=callbacks_list, validation_data=val_generator, \n",
    "                              validation_steps=validation_steps, class_weight=None, workers=1, initial_epoch=0)"
   ]
  },
  {
   "cell_type": "code",
   "execution_count": 22,
   "metadata": {
    "colab": {},
    "colab_type": "code",
    "id": "_VZoNY-8w9CG"
   },
   "outputs": [
    {
     "name": "stdout",
     "output_type": "stream",
     "text": [
      "dict_keys(['val_loss', 'val_categorical_accuracy', 'loss', 'categorical_accuracy', 'lr'])\n"
     ]
    },
    {
     "data": {
      "image/png": "[encoded data removed]",
      "text/plain": [
       "<Figure size 432x288 with 1 Axes>"
      ]
     },
     "metadata": {},
     "output_type": "display_data"
    },
    {
     "data": {
      "image/png": "[encoded data removed]",
      "text/plain": [
       "<Figure size 432x288 with 1 Axes>"
      ]
     },
     "metadata": {},
     "output_type": "display_data"
    }
   ],
   "source": [
    "plot_loss_accuracy(history)"
   ]
  },
  {
   "cell_type": "markdown",
   "metadata": {
    "colab_type": "text",
    "id": "flDHUqTqREin"
   },
   "source": [
    "#### Conv 3D Model with 30 frames per video (8, 16, 32, 64 filters conv 3D layers + 256 dense layer + 128 dense layer + image size 120 by 120)"
   ]
  },
  {
   "cell_type": "code",
   "execution_count": 18,
   "metadata": {
    "colab": {},
    "colab_type": "code",
    "id": "QTtsxjdwNr_2"
   },
   "outputs": [
    {
     "name": "stdout",
     "output_type": "stream",
     "text": [
      "# epochs = 25\n",
      "# batch size = 10\n",
      "# num_frames per video = 30\n",
      "_________________________________________________________________\n",
      "Layer (type)                 Output Shape              Param #   \n",
      "=================================================================\n",
      "conv3d_5 (Conv3D)            (None, 30, 120, 120, 8)   656       \n",
      "_________________________________________________________________\n",
      "activation_8 (Activation)    (None, 30, 120, 120, 8)   0         \n",
      "_________________________________________________________________\n",
      "batch_normalization_7 (Batch (None, 30, 120, 120, 8)   32        \n",
      "_________________________________________________________________\n",
      "max_pooling3d_5 (MaxPooling3 (None, 15, 60, 60, 8)     0         \n",
      "_________________________________________________________________\n",
      "conv3d_6 (Conv3D)            (None, 15, 60, 60, 16)    3472      \n",
      "_________________________________________________________________\n",
      "activation_9 (Activation)    (None, 15, 60, 60, 16)    0         \n",
      "_________________________________________________________________\n",
      "batch_normalization_8 (Batch (None, 15, 60, 60, 16)    64        \n",
      "_________________________________________________________________\n",
      "max_pooling3d_6 (MaxPooling3 (None, 7, 30, 30, 16)     0         \n",
      "_________________________________________________________________\n",
      "conv3d_7 (Conv3D)            (None, 7, 30, 30, 32)     13856     \n",
      "_________________________________________________________________\n",
      "activation_10 (Activation)   (None, 7, 30, 30, 32)     0         \n",
      "_________________________________________________________________\n",
      "batch_normalization_9 (Batch (None, 7, 30, 30, 32)     128       \n",
      "_________________________________________________________________\n",
      "max_pooling3d_7 (MaxPooling3 (None, 3, 15, 15, 32)     0         \n",
      "_________________________________________________________________\n",
      "conv3d_8 (Conv3D)            (None, 3, 15, 15, 64)     55360     \n",
      "_________________________________________________________________\n",
      "activation_11 (Activation)   (None, 3, 15, 15, 64)     0         \n",
      "_________________________________________________________________\n",
      "batch_normalization_10 (Batc (None, 3, 15, 15, 64)     256       \n",
      "_________________________________________________________________\n",
      "max_pooling3d_8 (MaxPooling3 (None, 1, 7, 7, 64)       0         \n",
      "_________________________________________________________________\n",
      "flatten_2 (Flatten)          (None, 3136)              0         \n",
      "_________________________________________________________________\n",
      "dense_4 (Dense)              (None, 256)               803072    \n",
      "_________________________________________________________________\n",
      "activation_12 (Activation)   (None, 256)               0         \n",
      "_________________________________________________________________\n",
      "batch_normalization_11 (Batc (None, 256)               1024      \n",
      "_________________________________________________________________\n",
      "dropout_3 (Dropout)          (None, 256)               0         \n",
      "_________________________________________________________________\n",
      "dense_5 (Dense)              (None, 128)               32896     \n",
      "_________________________________________________________________\n",
      "activation_13 (Activation)   (None, 128)               0         \n",
      "_________________________________________________________________\n",
      "batch_normalization_12 (Batc (None, 128)               512       \n",
      "_________________________________________________________________\n",
      "dropout_4 (Dropout)          (None, 128)               0         \n",
      "_________________________________________________________________\n",
      "dense_6 (Dense)              (None, 5)                 645       \n",
      "_________________________________________________________________\n",
      "activation_14 (Activation)   (None, 5)                 0         \n",
      "=================================================================\n",
      "Total params: 911,973\n",
      "Trainable params: 910,965\n",
      "Non-trainable params: 1,008\n",
      "_________________________________________________________________\n",
      "None\n"
     ]
    }
   ],
   "source": [
    "num_epochs = 25 # choose the number of epochs\n",
    "print ('# epochs =', num_epochs)\n",
    "batch_size = 10  #experiment with the batch size\n",
    "print ('# batch size =', batch_size)\n",
    "num_frames = 30\n",
    "print ('# num_frames per video =', num_frames)\n",
    "height = 120\n",
    "width = 120\n",
    "\n",
    "conv_filters = (8, 16, 32, 64) \n",
    "model = conv3D(conv_filters, num_images=num_frames)\n",
    "print (model.summary())"
   ]
  },
  {
   "cell_type": "code",
   "execution_count": 19,
   "metadata": {
    "colab": {},
    "colab_type": "code",
    "id": "LHDb1veZkEh1"
   },
   "outputs": [],
   "source": [
    "callbacks_list = model_callbacks(\"model_conv3D_6\")\n",
    "\n",
    "steps_per_epoch, validation_steps = calculate_steps(num_train_sequences, num_val_sequences, batch_size)\n",
    "\n",
    "train_generator = generate(train_path, train_doc, batch_size, num_images=num_frames)\n",
    "\n",
    "val_generator   = generate(val_path, val_doc, batch_size, num_images=num_frames)"
   ]
  },
  {
   "cell_type": "code",
   "execution_count": 20,
   "metadata": {
    "colab": {},
    "colab_type": "code",
    "id": "7ePXVLz1Nr_6"
   },
   "outputs": [
    {
     "name": "stdout",
     "output_type": "stream",
     "text": [
      "Epoch 1/25\n"
     ]
    },
    {
     "name": "stderr",
     "output_type": "stream",
     "text": [
      "/mnt/disks/user/anaconda3/lib/python3.6/site-packages/skimage/transform/_warps.py:105: UserWarning: The default mode, 'constant', will be changed to 'reflect' in skimage 0.15.\n",
      "  warn(\"The default mode, 'constant', will be changed to 'reflect' in \"\n"
     ]
    },
    {
     "name": "stdout",
     "output_type": "stream",
     "text": [
      "67/67 [==============================] - 184s 3s/step - loss: 1.5707 - categorical_accuracy: 0.4144 - val_loss: 1.3337 - val_categorical_accuracy: 0.5400\n",
      "\n",
      "Epoch 00001: val_loss improved from inf to 1.33371, saving model to model_conv3D_6_2020-08-1707_24_06.087739/model-00001-1.56926-0.41176-1.33371-0.54000.h5\n",
      "Epoch 2/25\n",
      "67/67 [==============================] - 181s 3s/step - loss: 1.2213 - categorical_accuracy: 0.5378 - val_loss: 1.2113 - val_categorical_accuracy: 0.5800\n",
      "\n",
      "Epoch 00002: val_loss improved from 1.33371 to 1.21127, saving model to model_conv3D_6_2020-08-1707_24_06.087739/model-00002-1.22586-0.53997-1.21127-0.58000.h5\n",
      "Epoch 3/25\n",
      "67/67 [==============================] - 163s 2s/step - loss: 1.0145 - categorical_accuracy: 0.5940 - val_loss: 1.0913 - val_categorical_accuracy: 0.5600\n",
      "\n",
      "Epoch 00003: val_loss improved from 1.21127 to 1.09129, saving model to model_conv3D_6_2020-08-1707_24_06.087739/model-00003-1.01972-0.58974-1.09129-0.56000.h5\n",
      "Epoch 4/25\n",
      "67/67 [==============================] - 162s 2s/step - loss: 0.8855 - categorical_accuracy: 0.6468 - val_loss: 1.2120 - val_categorical_accuracy: 0.6100\n",
      "\n",
      "Epoch 00004: val_loss did not improve from 1.09129\n",
      "Epoch 5/25\n",
      "67/67 [==============================] - 176s 3s/step - loss: 0.7431 - categorical_accuracy: 0.7283 - val_loss: 0.7699 - val_categorical_accuracy: 0.7200\n",
      "\n",
      "Epoch 00005: val_loss improved from 1.09129 to 0.76986, saving model to model_conv3D_6_2020-08-1707_24_06.087739/model-00005-0.74767-0.72549-0.76986-0.72000.h5\n",
      "Epoch 6/25\n",
      "67/67 [==============================] - 166s 2s/step - loss: 0.5888 - categorical_accuracy: 0.7891 - val_loss: 0.8116 - val_categorical_accuracy: 0.6900\n",
      "\n",
      "Epoch 00006: val_loss did not improve from 0.76986\n",
      "Epoch 7/25\n",
      "67/67 [==============================] - 166s 2s/step - loss: 0.5567 - categorical_accuracy: 0.7910 - val_loss: 0.9148 - val_categorical_accuracy: 0.6600\n",
      "\n",
      "Epoch 00007: val_loss did not improve from 0.76986\n",
      "Epoch 8/25\n",
      "67/67 [==============================] - 177s 3s/step - loss: 0.4932 - categorical_accuracy: 0.8119 - val_loss: 0.9944 - val_categorical_accuracy: 0.6400\n",
      "\n",
      "Epoch 00008: val_loss did not improve from 0.76986\n",
      "Epoch 9/25\n",
      "67/67 [==============================] - 172s 3s/step - loss: 1.0291 - categorical_accuracy: 0.6140 - val_loss: 9.7414 - val_categorical_accuracy: 0.3000\n",
      "\n",
      "Epoch 00009: val_loss did not improve from 0.76986\n",
      "\n",
      "Epoch 00009: ReduceLROnPlateau reducing learning rate to 0.00010000000474974513.\n",
      "Epoch 10/25\n",
      "67/67 [==============================] - 161s 2s/step - loss: 0.7682 - categorical_accuracy: 0.7114 - val_loss: 2.7855 - val_categorical_accuracy: 0.3400\n",
      "\n",
      "Epoch 00010: val_loss did not improve from 0.76986\n",
      "Epoch 11/25\n",
      "67/67 [==============================] - 159s 2s/step - loss: 0.6457 - categorical_accuracy: 0.7413 - val_loss: 0.9717 - val_categorical_accuracy: 0.6200\n",
      "\n",
      "Epoch 00011: val_loss did not improve from 0.76986\n",
      "Epoch 12/25\n",
      "67/67 [==============================] - 176s 3s/step - loss: 0.6043 - categorical_accuracy: 0.7886 - val_loss: 0.7103 - val_categorical_accuracy: 0.7500\n",
      "\n",
      "Epoch 00012: val_loss improved from 0.76986 to 0.71032, saving model to model_conv3D_6_2020-08-1707_24_06.087739/model-00012-0.58467-0.79336-0.71032-0.75000.h5\n",
      "Epoch 13/25\n",
      "67/67 [==============================] - 167s 2s/step - loss: 0.5510 - categorical_accuracy: 0.7806 - val_loss: 0.6750 - val_categorical_accuracy: 0.7100\n",
      "\n",
      "Epoch 00013: val_loss improved from 0.71032 to 0.67501, saving model to model_conv3D_6_2020-08-1707_24_06.087739/model-00013-0.55252-0.77828-0.67501-0.71000.h5\n",
      "Epoch 14/25\n",
      "67/67 [==============================] - 185s 3s/step - loss: 0.4775 - categorical_accuracy: 0.8219 - val_loss: 0.7309 - val_categorical_accuracy: 0.7400\n",
      "\n",
      "Epoch 00014: val_loss did not improve from 0.67501\n",
      "Epoch 15/25\n",
      "67/67 [==============================] - 178s 3s/step - loss: 0.4741 - categorical_accuracy: 0.8219 - val_loss: 0.6734 - val_categorical_accuracy: 0.6800\n",
      "\n",
      "Epoch 00015: val_loss improved from 0.67501 to 0.67339, saving model to model_conv3D_6_2020-08-1707_24_06.087739/model-00015-0.45598-0.82353-0.67339-0.68000.h5\n",
      "Epoch 16/25\n",
      "67/67 [==============================] - 181s 3s/step - loss: 0.4312 - categorical_accuracy: 0.8373 - val_loss: 0.6647 - val_categorical_accuracy: 0.7200\n",
      "\n",
      "Epoch 00016: val_loss improved from 0.67339 to 0.66470, saving model to model_conv3D_6_2020-08-1707_24_06.087739/model-00016-0.43364-0.83560-0.66470-0.72000.h5\n",
      "Epoch 17/25\n",
      "67/67 [==============================] - 160s 2s/step - loss: 0.4352 - categorical_accuracy: 0.8339 - val_loss: 0.6924 - val_categorical_accuracy: 0.7300\n",
      "\n",
      "Epoch 00017: val_loss did not improve from 0.66470\n",
      "Epoch 18/25\n",
      "67/67 [==============================] - 187s 3s/step - loss: 0.3875 - categorical_accuracy: 0.8603 - val_loss: 0.7132 - val_categorical_accuracy: 0.7000\n",
      "\n",
      "Epoch 00018: val_loss did not improve from 0.66470\n",
      "Epoch 19/25\n",
      "67/67 [==============================] - 158s 2s/step - loss: 0.3949 - categorical_accuracy: 0.8548 - val_loss: 0.6723 - val_categorical_accuracy: 0.7300\n",
      "\n",
      "Epoch 00019: val_loss did not improve from 0.66470\n",
      "Epoch 20/25\n",
      "67/67 [==============================] - 176s 3s/step - loss: 0.3434 - categorical_accuracy: 0.8857 - val_loss: 0.6364 - val_categorical_accuracy: 0.7300\n",
      "\n",
      "Epoch 00020: val_loss improved from 0.66470 to 0.63645, saving model to model_conv3D_6_2020-08-1707_24_06.087739/model-00020-0.33274-0.89140-0.63645-0.73000.h5\n",
      "Epoch 21/25\n",
      "67/67 [==============================] - 157s 2s/step - loss: 0.3500 - categorical_accuracy: 0.8951 - val_loss: 0.6568 - val_categorical_accuracy: 0.7400\n",
      "\n",
      "Epoch 00021: val_loss did not improve from 0.63645\n",
      "Epoch 22/25\n",
      "67/67 [==============================] - 189s 3s/step - loss: 0.2995 - categorical_accuracy: 0.9040 - val_loss: 0.6636 - val_categorical_accuracy: 0.7200\n",
      "\n",
      "Epoch 00022: val_loss did not improve from 0.63645\n",
      "Epoch 23/25\n",
      "67/67 [==============================] - 179s 3s/step - loss: 0.2911 - categorical_accuracy: 0.8951 - val_loss: 0.6060 - val_categorical_accuracy: 0.7600\n",
      "\n",
      "Epoch 00023: val_loss improved from 0.63645 to 0.60603, saving model to model_conv3D_6_2020-08-1707_24_06.087739/model-00023-0.28577-0.89744-0.60603-0.76000.h5\n",
      "Epoch 24/25\n",
      "67/67 [==============================] - 161s 2s/step - loss: 0.2330 - categorical_accuracy: 0.9298 - val_loss: 0.6086 - val_categorical_accuracy: 0.7900\n",
      "\n",
      "Epoch 00024: val_loss did not improve from 0.60603\n",
      "Epoch 25/25\n",
      "67/67 [==============================] - 158s 2s/step - loss: 0.3211 - categorical_accuracy: 0.8912 - val_loss: 0.6586 - val_categorical_accuracy: 0.8100\n",
      "\n",
      "Epoch 00025: val_loss did not improve from 0.60603\n"
     ]
    }
   ],
   "source": [
    "history = model.fit_generator(train_generator, steps_per_epoch=steps_per_epoch, epochs=num_epochs, verbose=1, \n",
    "                              callbacks=callbacks_list, validation_data=val_generator, \n",
    "                              validation_steps=validation_steps, class_weight=None, workers=1, initial_epoch=0)"
   ]
  },
  {
   "cell_type": "code",
   "execution_count": 21,
   "metadata": {
    "colab": {},
    "colab_type": "code",
    "id": "KiFYXDE3Nr_9"
   },
   "outputs": [
    {
     "name": "stdout",
     "output_type": "stream",
     "text": [
      "dict_keys(['val_loss', 'val_categorical_accuracy', 'loss', 'categorical_accuracy', 'lr'])\n"
     ]
    },
    {
     "data": {
      "image/png": "[encoded data removed]",
      "text/plain": [
       "<Figure size 432x288 with 1 Axes>"
      ]
     },
     "metadata": {},
     "output_type": "display_data"
    },
    {
     "data": {
      "image/png": "[encoded data removed]",
      "text/plain": [
       "<Figure size 432x288 with 1 Axes>"
      ]
     },
     "metadata": {},
     "output_type": "display_data"
    }
   ],
   "source": [
    "plot_loss_accuracy(history)"
   ]
  },
  {
   "cell_type": "markdown",
   "metadata": {
    "colab_type": "text",
    "id": "Vw9jvlHRxT2E"
   },
   "source": [
    "#### Conv 3D Model with 20 frames per video (16, 32, 64, 128 filters conv 3D layers + 128 dense layer + 64 dense layer + image size 120 by 120)"
   ]
  },
  {
   "cell_type": "code",
   "execution_count": 23,
   "metadata": {
    "colab": {},
    "colab_type": "code",
    "id": "zhmHCgnF1wWb"
   },
   "outputs": [
    {
     "name": "stdout",
     "output_type": "stream",
     "text": [
      "# epochs = 25\n",
      "# batch size = 10\n",
      "# num_frames per video = 30\n",
      "_________________________________________________________________\n",
      "Layer (type)                 Output Shape              Param #   \n",
      "=================================================================\n",
      "conv3d_13 (Conv3D)           (None, 30, 120, 120, 16)  1312      \n",
      "_________________________________________________________________\n",
      "activation_22 (Activation)   (None, 30, 120, 120, 16)  0         \n",
      "_________________________________________________________________\n",
      "batch_normalization_19 (Batc (None, 30, 120, 120, 16)  64        \n",
      "_________________________________________________________________\n",
      "max_pooling3d_13 (MaxPooling (None, 15, 60, 60, 16)    0         \n",
      "_________________________________________________________________\n",
      "conv3d_14 (Conv3D)           (None, 15, 60, 60, 32)    13856     \n",
      "_________________________________________________________________\n",
      "activation_23 (Activation)   (None, 15, 60, 60, 32)    0         \n",
      "_________________________________________________________________\n",
      "batch_normalization_20 (Batc (None, 15, 60, 60, 32)    128       \n",
      "_________________________________________________________________\n",
      "max_pooling3d_14 (MaxPooling (None, 7, 30, 30, 32)     0         \n",
      "_________________________________________________________________\n",
      "conv3d_15 (Conv3D)           (None, 7, 30, 30, 64)     55360     \n",
      "_________________________________________________________________\n",
      "activation_24 (Activation)   (None, 7, 30, 30, 64)     0         \n",
      "_________________________________________________________________\n",
      "batch_normalization_21 (Batc (None, 7, 30, 30, 64)     256       \n",
      "_________________________________________________________________\n",
      "max_pooling3d_15 (MaxPooling (None, 3, 15, 15, 64)     0         \n",
      "_________________________________________________________________\n",
      "conv3d_16 (Conv3D)           (None, 3, 15, 15, 128)    221312    \n",
      "_________________________________________________________________\n",
      "activation_25 (Activation)   (None, 3, 15, 15, 128)    0         \n",
      "_________________________________________________________________\n",
      "batch_normalization_22 (Batc (None, 3, 15, 15, 128)    512       \n",
      "_________________________________________________________________\n",
      "max_pooling3d_16 (MaxPooling (None, 1, 7, 7, 128)      0         \n",
      "_________________________________________________________________\n",
      "flatten_4 (Flatten)          (None, 6272)              0         \n",
      "_________________________________________________________________\n",
      "dense_10 (Dense)             (None, 128)               802944    \n",
      "_________________________________________________________________\n",
      "activation_26 (Activation)   (None, 128)               0         \n",
      "_________________________________________________________________\n",
      "batch_normalization_23 (Batc (None, 128)               512       \n",
      "_________________________________________________________________\n",
      "dropout_7 (Dropout)          (None, 128)               0         \n",
      "_________________________________________________________________\n",
      "dense_11 (Dense)             (None, 64)                8256      \n",
      "_________________________________________________________________\n",
      "activation_27 (Activation)   (None, 64)                0         \n",
      "_________________________________________________________________\n",
      "batch_normalization_24 (Batc (None, 64)                256       \n",
      "_________________________________________________________________\n",
      "dropout_8 (Dropout)          (None, 64)                0         \n",
      "_________________________________________________________________\n",
      "dense_12 (Dense)             (None, 5)                 325       \n",
      "_________________________________________________________________\n",
      "activation_28 (Activation)   (None, 5)                 0         \n",
      "=================================================================\n",
      "Total params: 1,105,093\n",
      "Trainable params: 1,104,229\n",
      "Non-trainable params: 864\n",
      "_________________________________________________________________\n",
      "None\n"
     ]
    }
   ],
   "source": [
    "num_epochs = 25 # choose the number of epochs\n",
    "print ('# epochs =', num_epochs)\n",
    "batch_size = 10  #experiment with the batch size\n",
    "print ('# batch size =', batch_size)\n",
    "num_frames = 30\n",
    "print ('# num_frames per video =', num_frames)\n",
    "height = 120\n",
    "width = 120\n",
    "\n",
    "conv_filters = (16, 32, 64, 128)\n",
    "dense_filters = (128, 64) \n",
    "model = conv3D(conv_filters=conv_filters, dense_nodes=dense_filters, dropout=0.2, num_images=num_frames)\n",
    "print (model.summary())"
   ]
  },
  {
   "cell_type": "code",
   "execution_count": 24,
   "metadata": {
    "colab": {},
    "colab_type": "code",
    "id": "JduHTemgxS45"
   },
   "outputs": [],
   "source": [
    "callbacks_list = model_callbacks(\"model_conv3D_7\")\n",
    "\n",
    "steps_per_epoch, validation_steps = calculate_steps(num_train_sequences, num_val_sequences, batch_size)\n",
    "\n",
    "train_generator = generate(train_path, train_doc, batch_size, augment=False, num_images=num_frames)\n",
    "\n",
    "val_generator   = generate(val_path, val_doc, batch_size, num_images=num_frames)"
   ]
  },
  {
   "cell_type": "code",
   "execution_count": 25,
   "metadata": {
    "colab": {},
    "colab_type": "code",
    "id": "qm73thFoxS4-"
   },
   "outputs": [
    {
     "name": "stdout",
     "output_type": "stream",
     "text": [
      "Epoch 1/25\n"
     ]
    },
    {
     "name": "stderr",
     "output_type": "stream",
     "text": [
      "/mnt/disks/user/anaconda3/lib/python3.6/site-packages/skimage/transform/_warps.py:105: UserWarning: The default mode, 'constant', will be changed to 'reflect' in skimage 0.15.\n",
      "  warn(\"The default mode, 'constant', will be changed to 'reflect' in \"\n"
     ]
    },
    {
     "name": "stdout",
     "output_type": "stream",
     "text": [
      "67/67 [==============================] - 173s 3s/step - loss: 1.4799 - categorical_accuracy: 0.4374 - val_loss: 2.0667 - val_categorical_accuracy: 0.4100\n",
      "\n",
      "Epoch 00001: val_loss improved from inf to 2.06668, saving model to model_conv3D_7_2020-08-1714_02_41.746177/model-00001-1.47298-0.44193-2.06668-0.41000.h5\n",
      "Epoch 2/25\n",
      "67/67 [==============================] - 165s 2s/step - loss: 1.1086 - categorical_accuracy: 0.5558 - val_loss: 2.4724 - val_categorical_accuracy: 0.3500\n",
      "\n",
      "Epoch 00002: val_loss did not improve from 2.06668\n",
      "Epoch 3/25\n",
      "67/67 [==============================] - 192s 3s/step - loss: 1.1654 - categorical_accuracy: 0.5626 - val_loss: 0.8944 - val_categorical_accuracy: 0.6400\n",
      "\n",
      "Epoch 00003: val_loss improved from 2.06668 to 0.89441, saving model to model_conv3D_7_2020-08-1714_02_41.746177/model-00003-1.17178-0.55807-0.89441-0.64000.h5\n",
      "Epoch 4/25\n",
      "67/67 [==============================] - 162s 2s/step - loss: 0.9456 - categorical_accuracy: 0.6438 - val_loss: 0.8903 - val_categorical_accuracy: 0.6700\n",
      "\n",
      "Epoch 00004: val_loss improved from 0.89441 to 0.89027, saving model to model_conv3D_7_2020-08-1714_02_41.746177/model-00004-0.93573-0.64706-0.89027-0.67000.h5\n",
      "Epoch 5/25\n",
      "67/67 [==============================] - 165s 2s/step - loss: 0.7929 - categorical_accuracy: 0.6985 - val_loss: 1.3811 - val_categorical_accuracy: 0.5200\n",
      "\n",
      "Epoch 00005: val_loss did not improve from 0.89027\n",
      "Epoch 6/25\n",
      "67/67 [==============================] - 170s 3s/step - loss: 0.7497 - categorical_accuracy: 0.7279 - val_loss: 0.6109 - val_categorical_accuracy: 0.8000\n",
      "\n",
      "Epoch 00006: val_loss improved from 0.89027 to 0.61086, saving model to model_conv3D_7_2020-08-1714_02_41.746177/model-00006-0.75083-0.72851-0.61086-0.80000.h5\n",
      "Epoch 7/25\n",
      "67/67 [==============================] - 175s 3s/step - loss: 0.6489 - categorical_accuracy: 0.7503 - val_loss: 0.6670 - val_categorical_accuracy: 0.7300\n",
      "\n",
      "Epoch 00007: val_loss did not improve from 0.61086\n",
      "Epoch 8/25\n",
      "67/67 [==============================] - 173s 3s/step - loss: 0.5488 - categorical_accuracy: 0.7995 - val_loss: 2.8852 - val_categorical_accuracy: 0.4000\n",
      "\n",
      "Epoch 00008: val_loss did not improve from 0.61086\n",
      "Epoch 9/25\n",
      "67/67 [==============================] - 175s 3s/step - loss: 0.4933 - categorical_accuracy: 0.8104 - val_loss: 0.7618 - val_categorical_accuracy: 0.7000\n",
      "\n",
      "Epoch 00009: val_loss did not improve from 0.61086\n",
      "\n",
      "Epoch 00009: ReduceLROnPlateau reducing learning rate to 0.00010000000474974513.\n",
      "Epoch 10/25\n",
      "67/67 [==============================] - 184s 3s/step - loss: 0.4102 - categorical_accuracy: 0.8473 - val_loss: 0.5358 - val_categorical_accuracy: 0.8000\n",
      "\n",
      "Epoch 00010: val_loss improved from 0.61086 to 0.53580, saving model to model_conv3D_7_2020-08-1714_02_41.746177/model-00010-0.41161-0.84917-0.53580-0.80000.h5\n",
      "Epoch 11/25\n",
      "67/67 [==============================] - 177s 3s/step - loss: 0.3332 - categorical_accuracy: 0.8955 - val_loss: 0.5106 - val_categorical_accuracy: 0.8300\n",
      "\n",
      "Epoch 00011: val_loss improved from 0.53580 to 0.51058, saving model to model_conv3D_7_2020-08-1714_02_41.746177/model-00011-0.33435-0.89442-0.51058-0.83000.h5\n",
      "Epoch 12/25\n",
      "67/67 [==============================] - 165s 2s/step - loss: 0.2895 - categorical_accuracy: 0.9204 - val_loss: 0.4906 - val_categorical_accuracy: 0.8200\n",
      "\n",
      "Epoch 00012: val_loss improved from 0.51058 to 0.49064, saving model to model_conv3D_7_2020-08-1714_02_41.746177/model-00012-0.28067-0.92308-0.49064-0.82000.h5\n",
      "Epoch 13/25\n",
      "67/67 [==============================] - 163s 2s/step - loss: 0.3041 - categorical_accuracy: 0.9010 - val_loss: 0.4870 - val_categorical_accuracy: 0.8100\n",
      "\n",
      "Epoch 00013: val_loss improved from 0.49064 to 0.48702, saving model to model_conv3D_7_2020-08-1714_02_41.746177/model-00013-0.30349-0.90347-0.48702-0.81000.h5\n",
      "Epoch 14/25\n",
      "67/67 [==============================] - 173s 3s/step - loss: 0.3052 - categorical_accuracy: 0.9070 - val_loss: 0.5055 - val_categorical_accuracy: 0.8100\n",
      "\n",
      "Epoch 00014: val_loss did not improve from 0.48702\n",
      "Epoch 15/25\n",
      "67/67 [==============================] - 187s 3s/step - loss: 0.3063 - categorical_accuracy: 0.9025 - val_loss: 0.4960 - val_categorical_accuracy: 0.8200\n",
      "\n",
      "Epoch 00015: val_loss did not improve from 0.48702\n",
      "Epoch 16/25\n",
      "67/67 [==============================] - 175s 3s/step - loss: 0.2906 - categorical_accuracy: 0.9100 - val_loss: 0.5257 - val_categorical_accuracy: 0.8200\n",
      "\n",
      "Epoch 00016: val_loss did not improve from 0.48702\n",
      "\n",
      "Epoch 00016: ReduceLROnPlateau reducing learning rate to 0.0001.\n",
      "Epoch 17/25\n",
      "67/67 [==============================] - 168s 3s/step - loss: 0.2605 - categorical_accuracy: 0.9085 - val_loss: 0.5471 - val_categorical_accuracy: 0.8000\n",
      "\n",
      "Epoch 00017: val_loss did not improve from 0.48702\n",
      "Epoch 18/25\n",
      "67/67 [==============================] - 165s 2s/step - loss: 0.2182 - categorical_accuracy: 0.9358 - val_loss: 0.5082 - val_categorical_accuracy: 0.8400\n",
      "\n",
      "Epoch 00018: val_loss did not improve from 0.48702\n",
      "Epoch 19/25\n",
      "67/67 [==============================] - 165s 2s/step - loss: 0.1966 - categorical_accuracy: 0.9478 - val_loss: 0.5253 - val_categorical_accuracy: 0.8100\n",
      "\n",
      "Epoch 00019: val_loss did not improve from 0.48702\n",
      "Epoch 20/25\n",
      "67/67 [==============================] - 171s 3s/step - loss: 0.2097 - categorical_accuracy: 0.9343 - val_loss: 0.5453 - val_categorical_accuracy: 0.8000\n",
      "\n",
      "Epoch 00020: val_loss did not improve from 0.48702\n",
      "Epoch 21/25\n",
      "67/67 [==============================] - 188s 3s/step - loss: 0.2442 - categorical_accuracy: 0.9245 - val_loss: 0.4849 - val_categorical_accuracy: 0.8400\n",
      "\n",
      "Epoch 00021: val_loss improved from 0.48702 to 0.48492, saving model to model_conv3D_7_2020-08-1714_02_41.746177/model-00021-0.22675-0.93062-0.48492-0.84000.h5\n",
      "Epoch 22/25\n",
      "67/67 [==============================] - 187s 3s/step - loss: 0.1980 - categorical_accuracy: 0.9448 - val_loss: 0.4790 - val_categorical_accuracy: 0.8200\n",
      "\n",
      "Epoch 00022: val_loss improved from 0.48492 to 0.47904, saving model to model_conv3D_7_2020-08-1714_02_41.746177/model-00022-0.19988-0.94419-0.47904-0.82000.h5\n",
      "Epoch 23/25\n",
      "67/67 [==============================] - 162s 2s/step - loss: 0.1799 - categorical_accuracy: 0.9518 - val_loss: 0.5095 - val_categorical_accuracy: 0.8100\n",
      "\n",
      "Epoch 00023: val_loss did not improve from 0.47904\n",
      "Epoch 24/25\n",
      "67/67 [==============================] - 162s 2s/step - loss: 0.1594 - categorical_accuracy: 0.9473 - val_loss: 0.4817 - val_categorical_accuracy: 0.8200\n",
      "\n",
      "Epoch 00024: val_loss did not improve from 0.47904\n",
      "Epoch 25/25\n",
      "67/67 [==============================] - 166s 2s/step - loss: 0.1678 - categorical_accuracy: 0.9552 - val_loss: 0.5151 - val_categorical_accuracy: 0.8100\n",
      "\n",
      "Epoch 00025: val_loss did not improve from 0.47904\n"
     ]
    }
   ],
   "source": [
    "history = model.fit_generator(train_generator, steps_per_epoch=steps_per_epoch, epochs=num_epochs, verbose=1, \n",
    "                              callbacks=callbacks_list, validation_data=val_generator, \n",
    "                              validation_steps=validation_steps, class_weight=None, workers=1, initial_epoch=0)"
   ]
  },
  {
   "cell_type": "code",
   "execution_count": 26,
   "metadata": {
    "colab": {},
    "colab_type": "code",
    "id": "1GApx_9kxS5A"
   },
   "outputs": [
    {
     "name": "stdout",
     "output_type": "stream",
     "text": [
      "dict_keys(['val_loss', 'val_categorical_accuracy', 'loss', 'categorical_accuracy', 'lr'])\n"
     ]
    },
    {
     "data": {
      "image/png": "[encoded data removed]",
      "text/plain": [
       "<Figure size 432x288 with 1 Axes>"
      ]
     },
     "metadata": {},
     "output_type": "display_data"
    },
    {
     "data": {
      "image/png": "[encoded data removed]",
      "text/plain": [
       "<Figure size 432x288 with 1 Axes>"
      ]
     },
     "metadata": {},
     "output_type": "display_data"
    }
   ],
   "source": [
    "plot_loss_accuracy(history)"
   ]
  },
  {
   "cell_type": "markdown",
   "metadata": {
    "colab_type": "text",
    "id": "FNtKJ11nCSCy"
   },
   "source": [
    "#### Conv 3D Model with 20 frames per video (32, 64, 128, 256) filters conv 3D layers + 128 dense layer + 128 dense layer + image size 120 by 120)"
   ]
  },
  {
   "cell_type": "code",
   "execution_count": 22,
   "metadata": {
    "colab": {},
    "colab_type": "code",
    "id": "6l8TrudWB3ao"
   },
   "outputs": [
    {
     "name": "stdout",
     "output_type": "stream",
     "text": [
      "# epochs = 25\n",
      "# batch size = 10\n",
      "# num_frames per video = 20\n",
      "_________________________________________________________________\n",
      "Layer (type)                 Output Shape              Param #   \n",
      "=================================================================\n",
      "conv3d_9 (Conv3D)            (None, 20, 120, 120, 32)  2624      \n",
      "_________________________________________________________________\n",
      "activation_15 (Activation)   (None, 20, 120, 120, 32)  0         \n",
      "_________________________________________________________________\n",
      "batch_normalization_13 (Batc (None, 20, 120, 120, 32)  128       \n",
      "_________________________________________________________________\n",
      "max_pooling3d_9 (MaxPooling3 (None, 10, 60, 60, 32)    0         \n",
      "_________________________________________________________________\n",
      "conv3d_10 (Conv3D)           (None, 10, 60, 60, 64)    55360     \n",
      "_________________________________________________________________\n",
      "activation_16 (Activation)   (None, 10, 60, 60, 64)    0         \n",
      "_________________________________________________________________\n",
      "batch_normalization_14 (Batc (None, 10, 60, 60, 64)    256       \n",
      "_________________________________________________________________\n",
      "max_pooling3d_10 (MaxPooling (None, 5, 30, 30, 64)     0         \n",
      "_________________________________________________________________\n",
      "conv3d_11 (Conv3D)           (None, 5, 30, 30, 128)    221312    \n",
      "_________________________________________________________________\n",
      "activation_17 (Activation)   (None, 5, 30, 30, 128)    0         \n",
      "_________________________________________________________________\n",
      "batch_normalization_15 (Batc (None, 5, 30, 30, 128)    512       \n",
      "_________________________________________________________________\n",
      "max_pooling3d_11 (MaxPooling (None, 2, 15, 15, 128)    0         \n",
      "_________________________________________________________________\n",
      "conv3d_12 (Conv3D)           (None, 2, 15, 15, 256)    884992    \n",
      "_________________________________________________________________\n",
      "activation_18 (Activation)   (None, 2, 15, 15, 256)    0         \n",
      "_________________________________________________________________\n",
      "batch_normalization_16 (Batc (None, 2, 15, 15, 256)    1024      \n",
      "_________________________________________________________________\n",
      "max_pooling3d_12 (MaxPooling (None, 1, 7, 7, 256)      0         \n",
      "_________________________________________________________________\n",
      "flatten_3 (Flatten)          (None, 12544)             0         \n",
      "_________________________________________________________________\n",
      "dense_7 (Dense)              (None, 128)               1605760   \n",
      "_________________________________________________________________\n",
      "activation_19 (Activation)   (None, 128)               0         \n",
      "_________________________________________________________________\n",
      "batch_normalization_17 (Batc (None, 128)               512       \n",
      "_________________________________________________________________\n",
      "dropout_5 (Dropout)          (None, 128)               0         \n",
      "_________________________________________________________________\n",
      "dense_8 (Dense)              (None, 128)               16512     \n",
      "_________________________________________________________________\n",
      "activation_20 (Activation)   (None, 128)               0         \n",
      "_________________________________________________________________\n",
      "batch_normalization_18 (Batc (None, 128)               512       \n",
      "_________________________________________________________________\n",
      "dropout_6 (Dropout)          (None, 128)               0         \n",
      "_________________________________________________________________\n",
      "dense_9 (Dense)              (None, 5)                 645       \n",
      "_________________________________________________________________\n",
      "activation_21 (Activation)   (None, 5)                 0         \n",
      "=================================================================\n",
      "Total params: 2,790,149\n",
      "Trainable params: 2,788,677\n",
      "Non-trainable params: 1,472\n",
      "_________________________________________________________________\n",
      "None\n"
     ]
    }
   ],
   "source": [
    "num_epochs = 25 # choose the number of epochs\n",
    "print ('# epochs =', num_epochs)\n",
    "batch_size = 10  #experiment with the batch size\n",
    "print ('# batch size =', batch_size)\n",
    "num_frames = 20\n",
    "print ('# num_frames per video =', num_frames)\n",
    "height = 120\n",
    "width = 120\n",
    "\n",
    "conv_filters = (32, 64, 128, 256)\n",
    "dense_filters = (128, 128)\n",
    "model = conv3D(conv_filters=conv_filters,dense_nodes=dense_filters, num_images=num_frames)\n",
    "print (model.summary())"
   ]
  },
  {
   "cell_type": "code",
   "execution_count": 23,
   "metadata": {
    "colab": {},
    "colab_type": "code",
    "id": "VXcwI6cvB3as"
   },
   "outputs": [],
   "source": [
    "callbacks_list = model_callbacks(\"model_conv3D_8\")\n",
    "\n",
    "steps_per_epoch, validation_steps = calculate_steps(num_train_sequences, num_val_sequences, batch_size)\n",
    "\n",
    "train_generator = generate(train_path, train_doc, batch_size, augment=False, num_images=num_frames)\n",
    "\n",
    "val_generator   = generate(val_path, val_doc, batch_size, num_images=num_frames)"
   ]
  },
  {
   "cell_type": "code",
   "execution_count": 24,
   "metadata": {
    "colab": {},
    "colab_type": "code",
    "id": "x6ZEXx3YB3av"
   },
   "outputs": [
    {
     "name": "stdout",
     "output_type": "stream",
     "text": [
      "Epoch 1/25\n"
     ]
    },
    {
     "name": "stderr",
     "output_type": "stream",
     "text": [
      "/mnt/disks/user/anaconda3/lib/python3.6/site-packages/skimage/transform/_warps.py:105: UserWarning: The default mode, 'constant', will be changed to 'reflect' in skimage 0.15.\n",
      "  warn(\"The default mode, 'constant', will be changed to 'reflect' in \"\n"
     ]
    },
    {
     "name": "stdout",
     "output_type": "stream",
     "text": [
      "67/67 [==============================] - 122s 2s/step - loss: 1.6405 - categorical_accuracy: 0.4104 - val_loss: 1.9979 - val_categorical_accuracy: 0.3300\n",
      "\n",
      "Epoch 00001: val_loss improved from inf to 1.99790, saving model to model_conv3D_8_2020-08-1707_24_06.087739/model-00001-1.65303-0.40422-1.99790-0.33000.h5\n",
      "Epoch 2/25\n",
      "67/67 [==============================] - 118s 2s/step - loss: 1.3198 - categorical_accuracy: 0.4771 - val_loss: 1.0652 - val_categorical_accuracy: 0.5600\n",
      "\n",
      "Epoch 00002: val_loss improved from 1.99790 to 1.06517, saving model to model_conv3D_8_2020-08-1707_24_06.087739/model-00002-1.32816-0.47511-1.06517-0.56000.h5\n",
      "Epoch 3/25\n",
      "67/67 [==============================] - 116s 2s/step - loss: 1.0839 - categorical_accuracy: 0.5737 - val_loss: 1.4138 - val_categorical_accuracy: 0.4500\n",
      "\n",
      "Epoch 00003: val_loss did not improve from 1.06517\n",
      "Epoch 4/25\n",
      "67/67 [==============================] - 116s 2s/step - loss: 0.9823 - categorical_accuracy: 0.6404 - val_loss: 5.2963 - val_categorical_accuracy: 0.2600\n",
      "\n",
      "Epoch 00004: val_loss did not improve from 1.06517\n",
      "Epoch 5/25\n",
      "67/67 [==============================] - 115s 2s/step - loss: 0.7292 - categorical_accuracy: 0.6816 - val_loss: 0.9437 - val_categorical_accuracy: 0.5900\n",
      "\n",
      "Epoch 00005: val_loss improved from 1.06517 to 0.94372, saving model to model_conv3D_8_2020-08-1707_24_06.087739/model-00005-0.73208-0.68175-0.94372-0.59000.h5\n",
      "Epoch 6/25\n",
      "67/67 [==============================] - 123s 2s/step - loss: 0.7419 - categorical_accuracy: 0.7080 - val_loss: 0.8484 - val_categorical_accuracy: 0.6300\n",
      "\n",
      "Epoch 00006: val_loss improved from 0.94372 to 0.84839, saving model to model_conv3D_8_2020-08-1707_24_06.087739/model-00006-0.72064-0.71192-0.84839-0.63000.h5\n",
      "Epoch 7/25\n",
      "67/67 [==============================] - 118s 2s/step - loss: 0.5988 - categorical_accuracy: 0.7647 - val_loss: 0.6752 - val_categorical_accuracy: 0.7200\n",
      "\n",
      "Epoch 00007: val_loss improved from 0.84839 to 0.67522, saving model to model_conv3D_8_2020-08-1707_24_06.087739/model-00007-0.58675-0.76923-0.67522-0.72000.h5\n",
      "Epoch 8/25\n",
      "67/67 [==============================] - 126s 2s/step - loss: 0.5135 - categorical_accuracy: 0.8189 - val_loss: 1.8710 - val_categorical_accuracy: 0.4900\n",
      "\n",
      "Epoch 00008: val_loss did not improve from 0.67522\n",
      "Epoch 9/25\n",
      "67/67 [==============================] - 116s 2s/step - loss: 0.6428 - categorical_accuracy: 0.7438 - val_loss: 0.8887 - val_categorical_accuracy: 0.6900\n",
      "\n",
      "Epoch 00009: val_loss did not improve from 0.67522\n",
      "Epoch 10/25\n",
      "67/67 [==============================] - 119s 2s/step - loss: 0.4856 - categorical_accuracy: 0.8125 - val_loss: 0.5862 - val_categorical_accuracy: 0.7600\n",
      "\n",
      "Epoch 00010: val_loss improved from 0.67522 to 0.58615, saving model to model_conv3D_8_2020-08-1707_24_06.087739/model-00010-0.47651-0.81750-0.58615-0.76000.h5\n",
      "Epoch 11/25\n",
      "67/67 [==============================] - 117s 2s/step - loss: 1.0434 - categorical_accuracy: 0.6214 - val_loss: 6.6295 - val_categorical_accuracy: 0.3600\n",
      "\n",
      "Epoch 00011: val_loss did not improve from 0.58615\n",
      "Epoch 12/25\n",
      "67/67 [==============================] - 118s 2s/step - loss: 0.7570 - categorical_accuracy: 0.7044 - val_loss: 2.2449 - val_categorical_accuracy: 0.4900\n",
      "\n",
      "Epoch 00012: val_loss did not improve from 0.58615\n",
      "Epoch 13/25\n",
      "67/67 [==============================] - 124s 2s/step - loss: 0.6636 - categorical_accuracy: 0.7524 - val_loss: 2.4270 - val_categorical_accuracy: 0.3900\n",
      "\n",
      "Epoch 00013: val_loss did not improve from 0.58615\n",
      "Epoch 14/25\n",
      "67/67 [==============================] - 115s 2s/step - loss: 0.8601 - categorical_accuracy: 0.6816 - val_loss: 2.3512 - val_categorical_accuracy: 0.3200\n",
      "\n",
      "Epoch 00014: val_loss did not improve from 0.58615\n",
      "\n",
      "Epoch 00014: ReduceLROnPlateau reducing learning rate to 0.00010000000474974513.\n",
      "Epoch 15/25\n",
      "67/67 [==============================] - 122s 2s/step - loss: 0.6064 - categorical_accuracy: 0.7731 - val_loss: 1.1575 - val_categorical_accuracy: 0.5000\n",
      "\n",
      "Epoch 00015: val_loss did not improve from 0.58615\n",
      "Epoch 16/25\n",
      "67/67 [==============================] - 117s 2s/step - loss: 0.5208 - categorical_accuracy: 0.7995 - val_loss: 1.1179 - val_categorical_accuracy: 0.5900\n",
      "\n",
      "Epoch 00016: val_loss did not improve from 0.58615\n",
      "Epoch 17/25\n",
      "67/67 [==============================] - 130s 2s/step - loss: 0.4841 - categorical_accuracy: 0.8195 - val_loss: 0.7309 - val_categorical_accuracy: 0.7000\n",
      "\n",
      "Epoch 00017: val_loss did not improve from 0.58615\n",
      "Epoch 18/25\n",
      "67/67 [==============================] - 121s 2s/step - loss: 0.4491 - categorical_accuracy: 0.8368 - val_loss: 0.6286 - val_categorical_accuracy: 0.7600\n",
      "\n",
      "Epoch 00018: val_loss did not improve from 0.58615\n",
      "\n",
      "Epoch 00018: ReduceLROnPlateau reducing learning rate to 0.0001.\n",
      "Epoch 19/25\n",
      "67/67 [==============================] - 114s 2s/step - loss: 0.4742 - categorical_accuracy: 0.8021 - val_loss: 0.6963 - val_categorical_accuracy: 0.7400\n",
      "\n",
      "Epoch 00019: val_loss did not improve from 0.58615\n",
      "Epoch 20/25\n",
      "67/67 [==============================] - 123s 2s/step - loss: 0.4391 - categorical_accuracy: 0.8234 - val_loss: 0.6106 - val_categorical_accuracy: 0.7600\n",
      "\n",
      "Epoch 00020: val_loss did not improve from 0.58615\n",
      "Epoch 21/25\n",
      "67/67 [==============================] - 115s 2s/step - loss: 0.3671 - categorical_accuracy: 0.8686 - val_loss: 0.6029 - val_categorical_accuracy: 0.7700\n",
      "\n",
      "Epoch 00021: val_loss did not improve from 0.58615\n",
      "Epoch 22/25\n",
      "67/67 [==============================] - 117s 2s/step - loss: 0.3369 - categorical_accuracy: 0.8757 - val_loss: 0.5746 - val_categorical_accuracy: 0.7800\n",
      "\n",
      "Epoch 00022: val_loss improved from 0.58615 to 0.57456, saving model to model_conv3D_8_2020-08-1707_24_06.087739/model-00022-0.33553-0.87783-0.57456-0.78000.h5\n",
      "Epoch 23/25\n",
      "67/67 [==============================] - 128s 2s/step - loss: 0.3494 - categorical_accuracy: 0.8891 - val_loss: 0.5710 - val_categorical_accuracy: 0.8000\n",
      "\n",
      "Epoch 00023: val_loss improved from 0.57456 to 0.57098, saving model to model_conv3D_8_2020-08-1707_24_06.087739/model-00023-0.33699-0.89140-0.57098-0.80000.h5\n",
      "Epoch 24/25\n",
      "67/67 [==============================] - 116s 2s/step - loss: 0.3560 - categorical_accuracy: 0.8851 - val_loss: 0.5892 - val_categorical_accuracy: 0.7800\n",
      "\n",
      "Epoch 00024: val_loss did not improve from 0.57098\n",
      "Epoch 25/25\n",
      "67/67 [==============================] - 118s 2s/step - loss: 0.3399 - categorical_accuracy: 0.8782 - val_loss: 0.5365 - val_categorical_accuracy: 0.7800\n",
      "\n",
      "Epoch 00025: val_loss improved from 0.57098 to 0.53654, saving model to model_conv3D_8_2020-08-1707_24_06.087739/model-00025-0.32189-0.88386-0.53654-0.78000.h5\n"
     ]
    }
   ],
   "source": [
    "history = model.fit_generator(train_generator, steps_per_epoch=steps_per_epoch, epochs=num_epochs, verbose=1, \n",
    "                              callbacks=callbacks_list, validation_data=val_generator, \n",
    "                              validation_steps=validation_steps, class_weight=None, workers=1, initial_epoch=0)"
   ]
  },
  {
   "cell_type": "code",
   "execution_count": 25,
   "metadata": {
    "colab": {},
    "colab_type": "code",
    "id": "zoGer63EB3ax"
   },
   "outputs": [
    {
     "name": "stdout",
     "output_type": "stream",
     "text": [
      "dict_keys(['val_loss', 'val_categorical_accuracy', 'loss', 'categorical_accuracy', 'lr'])\n"
     ]
    },
    {
     "data": {
      "image/png": "[encoded data removed]",
      "text/plain": [
       "<Figure size 432x288 with 1 Axes>"
      ]
     },
     "metadata": {},
     "output_type": "display_data"
    },
    {
     "data": {
      "image/png": "[encoded data removed]",
      "text/plain": [
       "<Figure size 432x288 with 1 Axes>"
      ]
     },
     "metadata": {},
     "output_type": "display_data"
    }
   ],
   "source": [
    "plot_loss_accuracy(history)"
   ]
  },
  {
   "cell_type": "markdown",
   "metadata": {
    "colab_type": "text",
    "id": "q6YqsPFpy1ss"
   },
   "source": [
    "#### Conv 3D Model with 30 frames per video and a 5 by 5 filter size (16, 32, 64, 128 filters conv 3D layers + 256 dense layer + 128 dense layer + image size 120 by 120)"
   ]
  },
  {
   "cell_type": "code",
   "execution_count": 22,
   "metadata": {
    "colab": {},
    "colab_type": "code",
    "id": "MGb6a5vey1sg"
   },
   "outputs": [],
   "source": [
    "#write your model here\n",
    "def conv3D_5by5(conv_filters=(16, 32, 64, 128), dense_nodes=(256,128), dropout=0.25, num_images=20, height=120, width=120):\n",
    "\n",
    "    model = Sequential()\n",
    "\n",
    "    model.add(Conv3D(conv_filters[0], (5, 5, 5), padding='same', input_shape=(num_images, height, width, 3)))\n",
    "    model.add(Activation('relu'))\n",
    "    model.add(BatchNormalization())\n",
    "    model.add(MaxPooling3D(pool_size=(2, 2, 2)))\n",
    "\n",
    "    model.add(Conv3D(conv_filters[1], (3, 3, 3), padding='same'))\n",
    "    model.add(Activation('relu'))\n",
    "    model.add(BatchNormalization())\n",
    "    model.add(MaxPooling3D(pool_size=(2, 2, 2)))\n",
    "    \n",
    "    model.add(Conv3D(conv_filters[2], (3, 3, 3), padding='same'))\n",
    "    model.add(Activation('relu'))\n",
    "    model.add(BatchNormalization())\n",
    "    model.add(MaxPooling3D(pool_size=(2, 2, 2)))\n",
    "    \n",
    "    model.add(Conv3D(conv_filters[3], (3, 3, 3), padding='same'))    \n",
    "    model.add(Activation('relu'))\n",
    "    model.add(BatchNormalization())\n",
    "    model.add(MaxPooling3D(pool_size=(2, 2, 2)))\n",
    "    \n",
    "    model.add(Flatten())\n",
    "    model.add(Dense(dense_nodes[0]))\n",
    "    model.add(Activation('relu'))\n",
    "    model.add(BatchNormalization())\n",
    "    model.add(Dropout(dropout))\n",
    "\n",
    "    model.add(Dense(dense_nodes[1]))\n",
    "    model.add(Activation('relu'))\n",
    "    model.add(BatchNormalization())\n",
    "    model.add(Dropout(dropout))\n",
    "\n",
    "    model.add(Dense(num_classes))\n",
    "    model.add(Activation('softmax'))\n",
    "\n",
    "    opt = optimizers.Adam() #write your optimizer\n",
    "    model.compile(opt, loss='categorical_crossentropy', metrics=['categorical_accuracy'])    \n",
    "    \n",
    "    return model"
   ]
  },
  {
   "cell_type": "code",
   "execution_count": 23,
   "metadata": {
    "colab": {},
    "colab_type": "code",
    "id": "xekrJwF2y1ss"
   },
   "outputs": [
    {
     "name": "stdout",
     "output_type": "stream",
     "text": [
      "# epochs = 15\n",
      "# batch size = 10\n",
      "# num_frames per video = 30\n",
      "_________________________________________________________________\n",
      "Layer (type)                 Output Shape              Param #   \n",
      "=================================================================\n",
      "conv3d_9 (Conv3D)            (None, 30, 120, 120, 16)  6016      \n",
      "_________________________________________________________________\n",
      "activation_15 (Activation)   (None, 30, 120, 120, 16)  0         \n",
      "_________________________________________________________________\n",
      "batch_normalization_13 (Batc (None, 30, 120, 120, 16)  64        \n",
      "_________________________________________________________________\n",
      "max_pooling3d_9 (MaxPooling3 (None, 15, 60, 60, 16)    0         \n",
      "_________________________________________________________________\n",
      "conv3d_10 (Conv3D)           (None, 15, 60, 60, 32)    13856     \n",
      "_________________________________________________________________\n",
      "activation_16 (Activation)   (None, 15, 60, 60, 32)    0         \n",
      "_________________________________________________________________\n",
      "batch_normalization_14 (Batc (None, 15, 60, 60, 32)    128       \n",
      "_________________________________________________________________\n",
      "max_pooling3d_10 (MaxPooling (None, 7, 30, 30, 32)     0         \n",
      "_________________________________________________________________\n",
      "conv3d_11 (Conv3D)           (None, 7, 30, 30, 64)     55360     \n",
      "_________________________________________________________________\n",
      "activation_17 (Activation)   (None, 7, 30, 30, 64)     0         \n",
      "_________________________________________________________________\n",
      "batch_normalization_15 (Batc (None, 7, 30, 30, 64)     256       \n",
      "_________________________________________________________________\n",
      "max_pooling3d_11 (MaxPooling (None, 3, 15, 15, 64)     0         \n",
      "_________________________________________________________________\n",
      "conv3d_12 (Conv3D)           (None, 3, 15, 15, 128)    221312    \n",
      "_________________________________________________________________\n",
      "activation_18 (Activation)   (None, 3, 15, 15, 128)    0         \n",
      "_________________________________________________________________\n",
      "batch_normalization_16 (Batc (None, 3, 15, 15, 128)    512       \n",
      "_________________________________________________________________\n",
      "max_pooling3d_12 (MaxPooling (None, 1, 7, 7, 128)      0         \n",
      "_________________________________________________________________\n",
      "flatten_3 (Flatten)          (None, 6272)              0         \n",
      "_________________________________________________________________\n",
      "dense_7 (Dense)              (None, 256)               1605888   \n",
      "_________________________________________________________________\n",
      "activation_19 (Activation)   (None, 256)               0         \n",
      "_________________________________________________________________\n",
      "batch_normalization_17 (Batc (None, 256)               1024      \n",
      "_________________________________________________________________\n",
      "dropout_5 (Dropout)          (None, 256)               0         \n",
      "_________________________________________________________________\n",
      "dense_8 (Dense)              (None, 128)               32896     \n",
      "_________________________________________________________________\n",
      "activation_20 (Activation)   (None, 128)               0         \n",
      "_________________________________________________________________\n",
      "batch_normalization_18 (Batc (None, 128)               512       \n",
      "_________________________________________________________________\n",
      "dropout_6 (Dropout)          (None, 128)               0         \n",
      "_________________________________________________________________\n",
      "dense_9 (Dense)              (None, 5)                 645       \n",
      "_________________________________________________________________\n",
      "activation_21 (Activation)   (None, 5)                 0         \n",
      "=================================================================\n",
      "Total params: 1,938,469\n",
      "Trainable params: 1,937,221\n",
      "Non-trainable params: 1,248\n",
      "_________________________________________________________________\n",
      "None\n"
     ]
    }
   ],
   "source": [
    "num_epochs = 15 # choose the number of epochs\n",
    "print ('# epochs =', num_epochs)\n",
    "batch_size = 10  #experiment with the batch size\n",
    "print ('# batch size =', batch_size)\n",
    "num_frames = 30\n",
    "print ('# num_frames per video =', num_frames)\n",
    "height = 120\n",
    "width = 120\n",
    "\n",
    "model = conv3D_5by5(num_images=num_frames)\n",
    "\n",
    "print (model.summary())"
   ]
  },
  {
   "cell_type": "markdown",
   "metadata": {
    "colab_type": "text",
    "id": "Ng0cjVwUy1sx"
   },
   "source": [
    "The `steps_per_epoch` and `validation_steps` are used by `fit_generator` to decide the number of next() calls it need to make.\n",
    "Let us now fit the model. This will start training the model and with the help of the checkpoints, you'll be able to save the model at the end of each epoch."
   ]
  },
  {
   "cell_type": "code",
   "execution_count": 24,
   "metadata": {
    "colab": {},
    "colab_type": "code",
    "id": "3JjMNoSBy1sx"
   },
   "outputs": [],
   "source": [
    "callbacks_list = model_callbacks(\"model_conv3D_9\")\n",
    "\n",
    "steps_per_epoch, validation_steps = calculate_steps(num_train_sequences, num_val_sequences, batch_size)\n",
    "\n",
    "train_generator = generate(train_path, train_doc, batch_size, num_images=num_frames)\n",
    "\n",
    "val_generator   = generate(val_path, val_doc, batch_size, num_images=num_frames)"
   ]
  },
  {
   "cell_type": "code",
   "execution_count": 25,
   "metadata": {
    "colab": {},
    "colab_type": "code",
    "id": "Oezy0OJly1s0"
   },
   "outputs": [
    {
     "name": "stdout",
     "output_type": "stream",
     "text": [
      "Epoch 1/15\n"
     ]
    },
    {
     "name": "stderr",
     "output_type": "stream",
     "text": [
      "/mnt/disks/user/anaconda3/lib/python3.6/site-packages/skimage/transform/_warps.py:105: UserWarning: The default mode, 'constant', will be changed to 'reflect' in skimage 0.15.\n",
      "  warn(\"The default mode, 'constant', will be changed to 'reflect' in \"\n"
     ]
    },
    {
     "name": "stdout",
     "output_type": "stream",
     "text": [
      "67/67 [==============================] - 261s 4s/step - loss: 1.4554 - categorical_accuracy: 0.4577 - val_loss: 1.6881 - val_categorical_accuracy: 0.4600\n",
      "\n",
      "Epoch 00001: val_loss improved from inf to 1.68814, saving model to model_conv3D_9_2020-08-1711_05_19.792011/model-00001-1.46284-0.45551-1.68814-0.46000.h5\n",
      "Epoch 2/15\n",
      "67/67 [==============================] - 190s 3s/step - loss: 1.2449 - categorical_accuracy: 0.5293 - val_loss: 1.8668 - val_categorical_accuracy: 0.4200\n",
      "\n",
      "Epoch 00002: val_loss did not improve from 1.68814\n",
      "Epoch 3/15\n",
      "67/67 [==============================] - 167s 2s/step - loss: 1.0343 - categorical_accuracy: 0.6065 - val_loss: 3.4731 - val_categorical_accuracy: 0.3200\n",
      "\n",
      "Epoch 00003: val_loss did not improve from 1.68814\n",
      "Epoch 4/15\n",
      "67/67 [==============================] - 180s 3s/step - loss: 1.0199 - categorical_accuracy: 0.6065 - val_loss: 12.2661 - val_categorical_accuracy: 0.2300\n",
      "\n",
      "Epoch 00004: val_loss did not improve from 1.68814\n",
      "Epoch 5/15\n",
      "67/67 [==============================] - 172s 3s/step - loss: 1.1427 - categorical_accuracy: 0.5756 - val_loss: 7.7444 - val_categorical_accuracy: 0.1800\n",
      "\n",
      "Epoch 00005: val_loss did not improve from 1.68814\n",
      "\n",
      "Epoch 00005: ReduceLROnPlateau reducing learning rate to 0.00010000000474974513.\n",
      "Epoch 6/15\n",
      "67/67 [==============================] - 168s 3s/step - loss: 0.9951 - categorical_accuracy: 0.6110 - val_loss: 1.2220 - val_categorical_accuracy: 0.5200\n",
      "\n",
      "Epoch 00006: val_loss improved from 1.68814 to 1.22198, saving model to model_conv3D_9_2020-08-1711_05_19.792011/model-00006-0.98240-0.61388-1.22198-0.52000.h5\n",
      "Epoch 7/15\n",
      "67/67 [==============================] - 174s 3s/step - loss: 0.8750 - categorical_accuracy: 0.6658 - val_loss: 0.8775 - val_categorical_accuracy: 0.6300\n",
      "\n",
      "Epoch 00007: val_loss improved from 1.22198 to 0.87751, saving model to model_conv3D_9_2020-08-1711_05_19.792011/model-00007-0.85855-0.67270-0.87751-0.63000.h5\n",
      "Epoch 8/15\n",
      "67/67 [==============================] - 194s 3s/step - loss: 0.7737 - categorical_accuracy: 0.7125 - val_loss: 0.8204 - val_categorical_accuracy: 0.6700\n",
      "\n",
      "Epoch 00008: val_loss improved from 0.87751 to 0.82043, saving model to model_conv3D_9_2020-08-1711_05_19.792011/model-00008-0.76654-0.71644-0.82043-0.67000.h5\n",
      "Epoch 9/15\n",
      "67/67 [==============================] - 181s 3s/step - loss: 0.7583 - categorical_accuracy: 0.7035 - val_loss: 0.8296 - val_categorical_accuracy: 0.6800\n",
      "\n",
      "Epoch 00009: val_loss did not improve from 0.82043\n",
      "Epoch 10/15\n",
      "67/67 [==============================] - 170s 3s/step - loss: 0.7649 - categorical_accuracy: 0.7129 - val_loss: 0.7341 - val_categorical_accuracy: 0.7600\n",
      "\n",
      "Epoch 00010: val_loss improved from 0.82043 to 0.73411, saving model to model_conv3D_9_2020-08-1711_05_19.792011/model-00010-0.76930-0.71342-0.73411-0.76000.h5\n",
      "Epoch 11/15\n",
      "67/67 [==============================] - 171s 3s/step - loss: 0.6955 - categorical_accuracy: 0.7603 - val_loss: 0.7753 - val_categorical_accuracy: 0.7200\n",
      "\n",
      "Epoch 00011: val_loss did not improve from 0.73411\n",
      "Epoch 12/15\n",
      "67/67 [==============================] - 181s 3s/step - loss: 0.7137 - categorical_accuracy: 0.7264 - val_loss: 0.7457 - val_categorical_accuracy: 0.7500\n",
      "\n",
      "Epoch 00012: val_loss did not improve from 0.73411\n",
      "Epoch 13/15\n",
      "67/67 [==============================] - 169s 3s/step - loss: 0.6168 - categorical_accuracy: 0.7547 - val_loss: 0.6658 - val_categorical_accuracy: 0.7900\n",
      "\n",
      "Epoch 00013: val_loss improved from 0.73411 to 0.66584, saving model to model_conv3D_9_2020-08-1711_05_19.792011/model-00013-0.61447-0.75566-0.66584-0.79000.h5\n",
      "Epoch 14/15\n",
      "67/67 [==============================] - 185s 3s/step - loss: 0.6641 - categorical_accuracy: 0.7443 - val_loss: 0.8098 - val_categorical_accuracy: 0.7300\n",
      "\n",
      "Epoch 00014: val_loss did not improve from 0.66584\n",
      "Epoch 15/15\n",
      "67/67 [==============================] - 175s 3s/step - loss: 0.5575 - categorical_accuracy: 0.7835 - val_loss: 0.7351 - val_categorical_accuracy: 0.7800\n",
      "\n",
      "Epoch 00015: val_loss did not improve from 0.66584\n"
     ]
    }
   ],
   "source": [
    "history = model.fit_generator(train_generator, steps_per_epoch=steps_per_epoch, epochs=num_epochs, verbose=1, \n",
    "                              callbacks=callbacks_list, validation_data=val_generator, \n",
    "                              validation_steps=validation_steps, class_weight=None, workers=1, initial_epoch=0)"
   ]
  },
  {
   "cell_type": "code",
   "execution_count": 26,
   "metadata": {
    "colab": {},
    "colab_type": "code",
    "id": "Cb4VZNdGy1s2"
   },
   "outputs": [
    {
     "name": "stdout",
     "output_type": "stream",
     "text": [
      "dict_keys(['val_loss', 'val_categorical_accuracy', 'loss', 'categorical_accuracy', 'lr'])\n"
     ]
    },
    {
     "data": {
      "image/png": "[encoded data removed]",
      "text/plain": [
       "<Figure size 432x288 with 1 Axes>"
      ]
     },
     "metadata": {},
     "output_type": "display_data"
    },
    {
     "data": {
      "image/png": "[encoded data removed]",
      "text/plain": [
       "<Figure size 432x288 with 1 Axes>"
      ]
     },
     "metadata": {},
     "output_type": "display_data"
    }
   ],
   "source": [
    "plot_loss_accuracy(history)"
   ]
  },
  {
   "cell_type": "markdown",
   "metadata": {
    "colab_type": "text",
    "id": "3fFqKH6PCjEZ"
   },
   "source": [
    "### TRANSFER LEARNING - MobileNet Conv2d + GRU"
   ]
  },
  {
   "cell_type": "code",
   "execution_count": 14,
   "metadata": {
    "colab": {},
    "colab_type": "code",
    "id": "zmjMTdCtCjEd"
   },
   "outputs": [],
   "source": [
    "from keras.applications import mobilenet\n",
    "\n",
    "def mobilenet_RNN(fine_tune=False, gru=False, lstm_gru_cells=128, dense_nodes=128, dropout=0.25, num_images=20, height=120, width=120):\n",
    "\n",
    "    mobilenet_transfer = mobilenet.MobileNet(weights='imagenet', include_top=False)\n",
    "    print(\"Number of layers in the pretrained mobilenet model: \", len(mobilenet_transfer.layers))\n",
    "\n",
    "    if (fine_tune):\n",
    "        # Fine-tune from this layer onwards\n",
    "        fine_tune_at = 50\n",
    "        # Freeze all the layers before the `fine_tune_at` layer\n",
    "        for layer in mobilenet_transfer.layers[:fine_tune_at]:\n",
    "            layer.trainable = False\n",
    "\n",
    "    model = Sequential()\n",
    "    model.add(TimeDistributed(mobilenet_transfer,input_shape=(num_images, height, width, 3)))\n",
    "    model.add(TimeDistributed(BatchNormalization()))\n",
    "    model.add(TimeDistributed(MaxPooling2D((2, 2))))\n",
    "    model.add(TimeDistributed(Flatten()))\n",
    "    if (gru):\n",
    "        model.add(GRU(lstm_gru_cells))\n",
    "    else:\n",
    "        model.add(LSTM(lstm_gru_cells))\n",
    "    model.add(Dropout(dropout))\n",
    "    model.add(Dense(dense_nodes, activation='relu'))\n",
    "    model.add(Dropout(dropout))\n",
    "    model.add(Dense(num_classes, activation='softmax'))\n",
    "\n",
    "    opt = optimizers.Adam() #write your optimizer\n",
    "    model.compile(opt, loss='categorical_crossentropy', metrics=['categorical_accuracy'])    \n",
    "    return model"
   ]
  },
  {
   "cell_type": "markdown",
   "metadata": {
    "colab_type": "text",
    "id": "q57Ui9iQp_Xb"
   },
   "source": [
    "#### Mobilenet (re train all weights) + GRU (128 cells) + 128 dense nodes"
   ]
  },
  {
   "cell_type": "code",
   "execution_count": 12,
   "metadata": {
    "colab": {
     "base_uri": "https://localhost:8080/",
     "height": 709
    },
    "colab_type": "code",
    "id": "sY1lGmf8CjEl",
    "outputId": "777fe671-779a-4126-ef91-5503d3adba0b"
   },
   "outputs": [
    {
     "name": "stdout",
     "output_type": "stream",
     "text": [
      "# epochs = 20\n",
      "# batch size = 10\n",
      "# num frames per video = 20\n"
     ]
    },
    {
     "name": "stderr",
     "output_type": "stream",
     "text": [
      "/mnt/disks/user/anaconda3/lib/python3.6/site-packages/keras_applications/mobilenet.py:206: UserWarning: MobileNet shape is undefined. Weights for input shape (224, 224) will be loaded.\n",
      "  warnings.warn('MobileNet shape is undefined.'\n"
     ]
    },
    {
     "name": "stdout",
     "output_type": "stream",
     "text": [
      "Downloading data from https://github.com/fchollet/deep-learning-models/releases/download/v0.6/mobilenet_1_0_224_tf_no_top.h5\n",
      "17227776/17225924 [==============================] - 2s 0us/step\n",
      "Number of layers in the pretrained mobilenet model:  87\n",
      "_________________________________________________________________\n",
      "Layer (type)                 Output Shape              Param #   \n",
      "=================================================================\n",
      "time_distributed_1 (TimeDist (None, 20, 3, 3, 1024)    3228864   \n",
      "_________________________________________________________________\n",
      "time_distributed_2 (TimeDist (None, 20, 3, 3, 1024)    4096      \n",
      "_________________________________________________________________\n",
      "time_distributed_3 (TimeDist (None, 20, 1, 1, 1024)    0         \n",
      "_________________________________________________________________\n",
      "time_distributed_4 (TimeDist (None, 20, 1024)          0         \n",
      "_________________________________________________________________\n",
      "gru_1 (GRU)                  (None, 128)               442752    \n",
      "_________________________________________________________________\n",
      "dropout_1 (Dropout)          (None, 128)               0         \n",
      "_________________________________________________________________\n",
      "dense_1 (Dense)              (None, 128)               16512     \n",
      "_________________________________________________________________\n",
      "dropout_2 (Dropout)          (None, 128)               0         \n",
      "_________________________________________________________________\n",
      "dense_2 (Dense)              (None, 5)                 645       \n",
      "=================================================================\n",
      "Total params: 3,692,869\n",
      "Trainable params: 3,668,933\n",
      "Non-trainable params: 23,936\n",
      "_________________________________________________________________\n",
      "None\n"
     ]
    }
   ],
   "source": [
    "num_epochs = 20 # choose the number of epochs\n",
    "print ('# epochs =', num_epochs)\n",
    "batch_size = 10  #experiment with the batch size\n",
    "print ('# batch size =', batch_size)\n",
    "num_frames = 20\n",
    "print ('# num frames per video =', num_frames)\n",
    "height = 120\n",
    "width = 120\n",
    "\n",
    "model = mobilenet_RNN(num_images=num_frames, gru=True)\n",
    "print (model.summary())"
   ]
  },
  {
   "cell_type": "markdown",
   "metadata": {
    "colab_type": "text",
    "id": "S3mHBipiCjEl"
   },
   "source": [
    "The `steps_per_epoch` and `validation_steps` are used by `fit_generator` to decide the number of next() calls it need to make.\n",
    "Let us now fit the model. This will start training the model and with the help of the checkpoints, you'll be able to save the model at the end of each epoch."
   ]
  },
  {
   "cell_type": "code",
   "execution_count": 13,
   "metadata": {
    "colab": {},
    "colab_type": "code",
    "id": "oEbMc5wECjEq"
   },
   "outputs": [],
   "source": [
    "callbacks_list = model_callbacks(\"model_retrain_mobilenet_gru\")\n",
    "\n",
    "steps_per_epoch, validation_steps = calculate_steps(num_train_sequences, num_val_sequences, batch_size)\n",
    "\n",
    "train_generator = generate(train_path, train_doc, batch_size, num_images=num_frames)\n",
    "\n",
    "val_generator   = generate(val_path, val_doc, batch_size, num_images=num_frames)"
   ]
  },
  {
   "cell_type": "code",
   "execution_count": 14,
   "metadata": {
    "colab": {
     "base_uri": "https://localhost:8080/",
     "height": 87
    },
    "colab_type": "code",
    "id": "gytABaPWPrIg",
    "outputId": "cb3d746b-1081-41bd-a98a-96c6e9503504"
   },
   "outputs": [
    {
     "name": "stdout",
     "output_type": "stream",
     "text": [
      "Epoch 1/20\n"
     ]
    },
    {
     "name": "stderr",
     "output_type": "stream",
     "text": [
      "/mnt/disks/user/anaconda3/lib/python3.6/site-packages/skimage/transform/_warps.py:105: UserWarning: The default mode, 'constant', will be changed to 'reflect' in skimage 0.15.\n",
      "  warn(\"The default mode, 'constant', will be changed to 'reflect' in \"\n"
     ]
    },
    {
     "name": "stdout",
     "output_type": "stream",
     "text": [
      "67/67 [==============================] - 220s 3s/step - loss: 1.2393 - categorical_accuracy: 0.4871 - val_loss: 0.8154 - val_categorical_accuracy: 0.6700\n",
      "\n",
      "Epoch 00001: val_loss improved from inf to 0.81540, saving model to model_retrain_mobilenet_gru_2020-08-1701_39_21.017332/model-00001-1.24469-0.48869-0.81540-0.67000.h5\n",
      "Epoch 2/20\n",
      "67/67 [==============================] - 126s 2s/step - loss: 0.5727 - categorical_accuracy: 0.8070 - val_loss: 0.6965 - val_categorical_accuracy: 0.7900\n",
      "\n",
      "Epoch 00002: val_loss improved from 0.81540 to 0.69651, saving model to model_retrain_mobilenet_gru_2020-08-1701_39_21.017332/model-00002-0.56962-0.80845-0.69651-0.79000.h5\n",
      "Epoch 3/20\n",
      "67/67 [==============================] - 125s 2s/step - loss: 0.3952 - categorical_accuracy: 0.8503 - val_loss: 0.3157 - val_categorical_accuracy: 0.8900\n",
      "\n",
      "Epoch 00003: val_loss improved from 0.69651 to 0.31570, saving model to model_retrain_mobilenet_gru_2020-08-1701_39_21.017332/model-00003-0.39314-0.85219-0.31570-0.89000.h5\n",
      "Epoch 4/20\n",
      "67/67 [==============================] - 124s 2s/step - loss: 0.3207 - categorical_accuracy: 0.8895 - val_loss: 0.5448 - val_categorical_accuracy: 0.7900\n",
      "\n",
      "Epoch 00004: val_loss did not improve from 0.31570\n",
      "Epoch 5/20\n",
      "67/67 [==============================] - 121s 2s/step - loss: 0.2938 - categorical_accuracy: 0.8916 - val_loss: 0.5426 - val_categorical_accuracy: 0.8200\n",
      "\n",
      "Epoch 00005: val_loss did not improve from 0.31570\n",
      "Epoch 6/20\n",
      "67/67 [==============================] - 119s 2s/step - loss: 0.2404 - categorical_accuracy: 0.9245 - val_loss: 1.0918 - val_categorical_accuracy: 0.7500\n",
      "\n",
      "Epoch 00006: val_loss did not improve from 0.31570\n",
      "Epoch 7/20\n",
      "67/67 [==============================] - 115s 2s/step - loss: 0.2760 - categorical_accuracy: 0.9100 - val_loss: 0.9427 - val_categorical_accuracy: 0.7600\n",
      "\n",
      "Epoch 00007: val_loss did not improve from 0.31570\n",
      "\n",
      "Epoch 00007: ReduceLROnPlateau reducing learning rate to 0.00010000000474974513.\n",
      "Epoch 8/20\n",
      "67/67 [==============================] - 127s 2s/step - loss: 0.1503 - categorical_accuracy: 0.9552 - val_loss: 0.4272 - val_categorical_accuracy: 0.8700\n",
      "\n",
      "Epoch 00008: val_loss did not improve from 0.31570\n",
      "Epoch 9/20\n",
      "67/67 [==============================] - 127s 2s/step - loss: 0.1583 - categorical_accuracy: 0.9522 - val_loss: 0.2882 - val_categorical_accuracy: 0.9300\n",
      "\n",
      "Epoch 00009: val_loss improved from 0.31570 to 0.28819, saving model to model_retrain_mobilenet_gru_2020-08-1701_39_21.017332/model-00009-0.15964-0.95173-0.28819-0.93000.h5\n",
      "Epoch 10/20\n",
      "67/67 [==============================] - 115s 2s/step - loss: 0.0959 - categorical_accuracy: 0.9731 - val_loss: 0.2577 - val_categorical_accuracy: 0.9300\n",
      "\n",
      "Epoch 00010: val_loss improved from 0.28819 to 0.25766, saving model to model_retrain_mobilenet_gru_2020-08-1701_39_21.017332/model-00010-0.09659-0.97285-0.25766-0.93000.h5\n",
      "Epoch 11/20\n",
      "67/67 [==============================] - 123s 2s/step - loss: 0.0771 - categorical_accuracy: 0.9776 - val_loss: 0.2437 - val_categorical_accuracy: 0.9300\n",
      "\n",
      "Epoch 00011: val_loss improved from 0.25766 to 0.24367, saving model to model_retrain_mobilenet_gru_2020-08-1701_39_21.017332/model-00011-0.07624-0.97738-0.24367-0.93000.h5\n",
      "Epoch 12/20\n",
      "67/67 [==============================] - 118s 2s/step - loss: 0.1010 - categorical_accuracy: 0.9622 - val_loss: 0.2544 - val_categorical_accuracy: 0.9400\n",
      "\n",
      "Epoch 00012: val_loss did not improve from 0.24367\n",
      "Epoch 13/20\n",
      "67/67 [==============================] - 121s 2s/step - loss: 0.0754 - categorical_accuracy: 0.9767 - val_loss: 0.2581 - val_categorical_accuracy: 0.9200\n",
      "\n",
      "Epoch 00013: val_loss did not improve from 0.24367\n",
      "Epoch 14/20\n",
      "67/67 [==============================] - 114s 2s/step - loss: 0.0431 - categorical_accuracy: 0.9881 - val_loss: 0.1790 - val_categorical_accuracy: 0.9300\n",
      "\n",
      "Epoch 00014: val_loss improved from 0.24367 to 0.17898, saving model to model_retrain_mobilenet_gru_2020-08-1701_39_21.017332/model-00014-0.04347-0.98793-0.17898-0.93000.h5\n",
      "Epoch 15/20\n",
      "67/67 [==============================] - 122s 2s/step - loss: 0.0392 - categorical_accuracy: 0.9925 - val_loss: 0.1878 - val_categorical_accuracy: 0.9300\n",
      "\n",
      "Epoch 00015: val_loss did not improve from 0.17898\n",
      "Epoch 16/20\n",
      "67/67 [==============================] - 123s 2s/step - loss: 0.0381 - categorical_accuracy: 0.9925 - val_loss: 0.1924 - val_categorical_accuracy: 0.9200\n",
      "\n",
      "Epoch 00016: val_loss did not improve from 0.17898\n",
      "Epoch 17/20\n",
      "67/67 [==============================] - 118s 2s/step - loss: 0.0247 - categorical_accuracy: 0.9921 - val_loss: 0.1878 - val_categorical_accuracy: 0.9300\n",
      "\n",
      "Epoch 00017: val_loss did not improve from 0.17898\n",
      "Epoch 18/20\n",
      "67/67 [==============================] - 122s 2s/step - loss: 0.0289 - categorical_accuracy: 0.9910 - val_loss: 0.1749 - val_categorical_accuracy: 0.9400\n",
      "\n",
      "Epoch 00018: val_loss improved from 0.17898 to 0.17495, saving model to model_retrain_mobilenet_gru_2020-08-1701_39_21.017332/model-00018-0.02891-0.99095-0.17495-0.94000.h5\n",
      "Epoch 19/20\n",
      "67/67 [==============================] - 126s 2s/step - loss: 0.0228 - categorical_accuracy: 0.9940 - val_loss: 0.1936 - val_categorical_accuracy: 0.9500\n",
      "\n",
      "Epoch 00019: val_loss did not improve from 0.17495\n",
      "Epoch 20/20\n",
      "67/67 [==============================] - 117s 2s/step - loss: 0.0219 - categorical_accuracy: 0.9955 - val_loss: 0.1825 - val_categorical_accuracy: 0.9400\n",
      "\n",
      "Epoch 00020: val_loss did not improve from 0.17495\n"
     ]
    }
   ],
   "source": [
    "history = model.fit_generator(train_generator, steps_per_epoch=steps_per_epoch, epochs=num_epochs, verbose=1, \n",
    "                              callbacks=callbacks_list, validation_data=val_generator, \n",
    "                              validation_steps=validation_steps, class_weight=None, workers=1, initial_epoch=0)"
   ]
  },
  {
   "cell_type": "code",
   "execution_count": 15,
   "metadata": {
    "colab": {},
    "colab_type": "code",
    "id": "icQzD_q2CjEs"
   },
   "outputs": [
    {
     "name": "stdout",
     "output_type": "stream",
     "text": [
      "dict_keys(['val_loss', 'val_categorical_accuracy', 'loss', 'categorical_accuracy', 'lr'])\n"
     ]
    },
    {
     "data": {
      "image/png": "[encoded data removed]",
      "text/plain": [
       "<Figure size 432x288 with 1 Axes>"
      ]
     },
     "metadata": {},
     "output_type": "display_data"
    },
    {
     "data": {
      "image/png": "[encoded data removed]",
      "text/plain": [
       "<Figure size 432x288 with 1 Axes>"
      ]
     },
     "metadata": {},
     "output_type": "display_data"
    }
   ],
   "source": [
    "plot_loss_accuracy(history)"
   ]
  },
  {
   "cell_type": "markdown",
   "metadata": {
    "colab_type": "text",
    "id": "_-HIT6riyMfN"
   },
   "source": [
    "#### Mobilenet (re train all weights) + GRU (128 cells) + 128 dense nodes + Random data transformations on training data set"
   ]
  },
  {
   "cell_type": "code",
   "execution_count": 16,
   "metadata": {
    "colab": {},
    "colab_type": "code",
    "id": "50W_MDsv4_JU"
   },
   "outputs": [
    {
     "name": "stdout",
     "output_type": "stream",
     "text": [
      "# epochs = 20\n",
      "# batch size = 10\n",
      "# num frames per video = 30\n"
     ]
    },
    {
     "name": "stderr",
     "output_type": "stream",
     "text": [
      "/mnt/disks/user/anaconda3/lib/python3.6/site-packages/keras_applications/mobilenet.py:206: UserWarning: MobileNet shape is undefined. Weights for input shape (224, 224) will be loaded.\n",
      "  warnings.warn('MobileNet shape is undefined.'\n"
     ]
    },
    {
     "name": "stdout",
     "output_type": "stream",
     "text": [
      "Number of layers in the pretrained mobilenet model:  87\n",
      "_________________________________________________________________\n",
      "Layer (type)                 Output Shape              Param #   \n",
      "=================================================================\n",
      "time_distributed_5 (TimeDist (None, 30, 3, 3, 1024)    3228864   \n",
      "_________________________________________________________________\n",
      "time_distributed_6 (TimeDist (None, 30, 3, 3, 1024)    4096      \n",
      "_________________________________________________________________\n",
      "time_distributed_7 (TimeDist (None, 30, 1, 1, 1024)    0         \n",
      "_________________________________________________________________\n",
      "time_distributed_8 (TimeDist (None, 30, 1024)          0         \n",
      "_________________________________________________________________\n",
      "gru_2 (GRU)                  (None, 128)               442752    \n",
      "_________________________________________________________________\n",
      "dropout_3 (Dropout)          (None, 128)               0         \n",
      "_________________________________________________________________\n",
      "dense_3 (Dense)              (None, 128)               16512     \n",
      "_________________________________________________________________\n",
      "dropout_4 (Dropout)          (None, 128)               0         \n",
      "_________________________________________________________________\n",
      "dense_4 (Dense)              (None, 5)                 645       \n",
      "=================================================================\n",
      "Total params: 3,692,869\n",
      "Trainable params: 3,668,933\n",
      "Non-trainable params: 23,936\n",
      "_________________________________________________________________\n",
      "None\n"
     ]
    }
   ],
   "source": [
    "num_epochs = 20 # choose the number of epochs\n",
    "print ('# epochs =', num_epochs)\n",
    "batch_size = 10  #experiment with the batch size\n",
    "print ('# batch size =', batch_size)\n",
    "num_frames = 30\n",
    "print ('# num frames per video =', num_frames)\n",
    "height = 120\n",
    "width = 120\n",
    "\n",
    "model = mobilenet_RNN(gru=True, num_images=num_frames)\n",
    "print(model.summary())"
   ]
  },
  {
   "cell_type": "code",
   "execution_count": 17,
   "metadata": {
    "colab": {},
    "colab_type": "code",
    "id": "8WLYJzPJyLuB"
   },
   "outputs": [],
   "source": [
    "callbacks_list = model_callbacks(\"model_retrain_mobilenet_gru\")\n",
    "\n",
    "steps_per_epoch, validation_steps = calculate_steps(num_train_sequences, num_val_sequences, batch_size)\n",
    "\n",
    "train_generator = generate(train_path, train_doc, batch_size, augment=True, num_images=num_frames)\n",
    "\n",
    "val_generator   = generate(val_path, val_doc, batch_size, num_images=num_frames)"
   ]
  },
  {
   "cell_type": "code",
   "execution_count": 18,
   "metadata": {
    "colab": {},
    "colab_type": "code",
    "id": "SpD988i9yLuE"
   },
   "outputs": [
    {
     "name": "stdout",
     "output_type": "stream",
     "text": [
      "Epoch 1/20\n"
     ]
    },
    {
     "name": "stderr",
     "output_type": "stream",
     "text": [
      "/mnt/disks/user/anaconda3/lib/python3.6/site-packages/skimage/transform/_warps.py:105: UserWarning: The default mode, 'constant', will be changed to 'reflect' in skimage 0.15.\n",
      "  warn(\"The default mode, 'constant', will be changed to 'reflect' in \"\n"
     ]
    },
    {
     "name": "stdout",
     "output_type": "stream",
     "text": [
      "67/67 [==============================] - 304s 5s/step - loss: 1.1945 - categorical_accuracy: 0.5208 - val_loss: 0.8145 - val_categorical_accuracy: 0.6700\n",
      "\n",
      "Epoch 00001: val_loss improved from inf to 0.81450, saving model to model_retrain_mobilenet_gru_2020-08-1701_39_21.017332/model-00001-1.20115-0.51584-0.81450-0.67000.h5\n",
      "Epoch 2/20\n",
      "67/67 [==============================] - 195s 3s/step - loss: 0.5592 - categorical_accuracy: 0.7791 - val_loss: 0.4608 - val_categorical_accuracy: 0.7600\n",
      "\n",
      "Epoch 00002: val_loss improved from 0.81450 to 0.46079, saving model to model_retrain_mobilenet_gru_2020-08-1701_39_21.017332/model-00002-0.56348-0.77677-0.46079-0.76000.h5\n",
      "Epoch 3/20\n",
      "67/67 [==============================] - 222s 3s/step - loss: 0.3805 - categorical_accuracy: 0.8537 - val_loss: 0.6482 - val_categorical_accuracy: 0.7600\n",
      "\n",
      "Epoch 00003: val_loss did not improve from 0.46079\n",
      "Epoch 4/20\n",
      "67/67 [==============================] - 212s 3s/step - loss: 0.3271 - categorical_accuracy: 0.8671 - val_loss: 0.4732 - val_categorical_accuracy: 0.8100\n",
      "\n",
      "Epoch 00004: val_loss did not improve from 0.46079\n",
      "Epoch 5/20\n",
      "67/67 [==============================] - 211s 3s/step - loss: 0.2957 - categorical_accuracy: 0.8880 - val_loss: 0.3426 - val_categorical_accuracy: 0.8900\n",
      "\n",
      "Epoch 00005: val_loss improved from 0.46079 to 0.34261, saving model to model_retrain_mobilenet_gru_2020-08-1701_39_21.017332/model-00005-0.29769-0.88688-0.34261-0.89000.h5\n",
      "Epoch 6/20\n",
      "67/67 [==============================] - 203s 3s/step - loss: 0.2626 - categorical_accuracy: 0.8995 - val_loss: 0.7067 - val_categorical_accuracy: 0.8000\n",
      "\n",
      "Epoch 00006: val_loss did not improve from 0.34261\n",
      "Epoch 7/20\n",
      "67/67 [==============================] - 215s 3s/step - loss: 0.2043 - categorical_accuracy: 0.9239 - val_loss: 0.3657 - val_categorical_accuracy: 0.8400\n",
      "\n",
      "Epoch 00007: val_loss did not improve from 0.34261\n",
      "Epoch 8/20\n",
      "67/67 [==============================] - 216s 3s/step - loss: 0.2278 - categorical_accuracy: 0.9194 - val_loss: 0.4012 - val_categorical_accuracy: 0.8600\n",
      "\n",
      "Epoch 00008: val_loss did not improve from 0.34261\n",
      "Epoch 9/20\n",
      "67/67 [==============================] - 207s 3s/step - loss: 0.3098 - categorical_accuracy: 0.9036 - val_loss: 0.3243 - val_categorical_accuracy: 0.9200\n",
      "\n",
      "Epoch 00009: val_loss improved from 0.34261 to 0.32435, saving model to model_retrain_mobilenet_gru_2020-08-1701_39_21.017332/model-00009-0.27802-0.90950-0.32435-0.92000.h5\n",
      "Epoch 10/20\n",
      "67/67 [==============================] - 212s 3s/step - loss: 0.2649 - categorical_accuracy: 0.9055 - val_loss: 0.6717 - val_categorical_accuracy: 0.8200\n",
      "\n",
      "Epoch 00010: val_loss did not improve from 0.32435\n",
      "Epoch 11/20\n",
      "67/67 [==============================] - 212s 3s/step - loss: 0.2418 - categorical_accuracy: 0.9070 - val_loss: 0.2918 - val_categorical_accuracy: 0.8800\n",
      "\n",
      "Epoch 00011: val_loss improved from 0.32435 to 0.29175, saving model to model_retrain_mobilenet_gru_2020-08-1701_39_21.017332/model-00011-0.23972-0.90950-0.29175-0.88000.h5\n",
      "Epoch 12/20\n",
      "67/67 [==============================] - 223s 3s/step - loss: 0.1985 - categorical_accuracy: 0.9343 - val_loss: 0.2250 - val_categorical_accuracy: 0.9100\n",
      "\n",
      "Epoch 00012: val_loss improved from 0.29175 to 0.22500, saving model to model_retrain_mobilenet_gru_2020-08-1701_39_21.017332/model-00012-0.19829-0.93363-0.22500-0.91000.h5\n",
      "Epoch 13/20\n",
      "67/67 [==============================] - 210s 3s/step - loss: 0.1271 - categorical_accuracy: 0.9612 - val_loss: 0.3415 - val_categorical_accuracy: 0.8900\n",
      "\n",
      "Epoch 00013: val_loss did not improve from 0.22500\n",
      "Epoch 14/20\n",
      "67/67 [==============================] - 216s 3s/step - loss: 0.1553 - categorical_accuracy: 0.9454 - val_loss: 0.5140 - val_categorical_accuracy: 0.8100\n",
      "\n",
      "Epoch 00014: val_loss did not improve from 0.22500\n",
      "Epoch 15/20\n",
      "67/67 [==============================] - 215s 3s/step - loss: 0.2199 - categorical_accuracy: 0.9254 - val_loss: 0.4950 - val_categorical_accuracy: 0.8600\n",
      "\n",
      "Epoch 00015: val_loss did not improve from 0.22500\n",
      "Epoch 16/20\n",
      "67/67 [==============================] - 205s 3s/step - loss: 0.1563 - categorical_accuracy: 0.9433 - val_loss: 0.2631 - val_categorical_accuracy: 0.8900\n",
      "\n",
      "Epoch 00016: val_loss did not improve from 0.22500\n",
      "\n",
      "Epoch 00016: ReduceLROnPlateau reducing learning rate to 0.00010000000474974513.\n",
      "Epoch 17/20\n",
      "67/67 [==============================] - 222s 3s/step - loss: 0.0998 - categorical_accuracy: 0.9657 - val_loss: 0.1520 - val_categorical_accuracy: 0.9400\n",
      "\n",
      "Epoch 00017: val_loss improved from 0.22500 to 0.15203, saving model to model_retrain_mobilenet_gru_2020-08-1701_39_21.017332/model-00017-0.09958-0.96531-0.15203-0.94000.h5\n",
      "Epoch 18/20\n",
      "67/67 [==============================] - 198s 3s/step - loss: 0.0735 - categorical_accuracy: 0.9767 - val_loss: 0.1815 - val_categorical_accuracy: 0.9300\n",
      "\n",
      "Epoch 00018: val_loss did not improve from 0.15203\n",
      "Epoch 19/20\n",
      "67/67 [==============================] - 203s 3s/step - loss: 0.0483 - categorical_accuracy: 0.9881 - val_loss: 0.1785 - val_categorical_accuracy: 0.9300\n",
      "\n",
      "Epoch 00019: val_loss did not improve from 0.15203\n",
      "Epoch 20/20\n",
      "67/67 [==============================] - 202s 3s/step - loss: 0.0523 - categorical_accuracy: 0.9881 - val_loss: 0.1620 - val_categorical_accuracy: 0.9500\n",
      "\n",
      "Epoch 00020: val_loss did not improve from 0.15203\n"
     ]
    }
   ],
   "source": [
    "history = model.fit_generator(train_generator, steps_per_epoch=steps_per_epoch, epochs=num_epochs, verbose=1, \n",
    "                              callbacks=callbacks_list, validation_data=val_generator, \n",
    "                              validation_steps=validation_steps, class_weight=None, workers=1, initial_epoch=0)"
   ]
  },
  {
   "cell_type": "code",
   "execution_count": 19,
   "metadata": {
    "colab": {},
    "colab_type": "code",
    "id": "RFNq8m6MyLuH"
   },
   "outputs": [
    {
     "name": "stdout",
     "output_type": "stream",
     "text": [
      "dict_keys(['val_loss', 'val_categorical_accuracy', 'loss', 'categorical_accuracy', 'lr'])\n"
     ]
    },
    {
     "data": {
      "image/png": "[encoded data removed]",
      "text/plain": [
       "<Figure size 432x288 with 1 Axes>"
      ]
     },
     "metadata": {},
     "output_type": "display_data"
    },
    {
     "data": {
      "image/png": "[encoded data removed]",
      "text/plain": [
       "<Figure size 432x288 with 1 Axes>"
      ]
     },
     "metadata": {},
     "output_type": "display_data"
    }
   ],
   "source": [
    "plot_loss_accuracy(history)"
   ]
  },
  {
   "cell_type": "markdown",
   "metadata": {
    "colab_type": "text",
    "id": "R5t8JxRspM_m"
   },
   "source": [
    "#### Mobilenet (fine tune) + GRU (128 cells) + 128 dense nodes"
   ]
  },
  {
   "cell_type": "code",
   "execution_count": 20,
   "metadata": {
    "colab": {},
    "colab_type": "code",
    "id": "DPt9rwzhCjEv"
   },
   "outputs": [
    {
     "name": "stdout",
     "output_type": "stream",
     "text": [
      "# epochs = 20\n",
      "# batch size = 10\n",
      "# num frames per video = 20\n"
     ]
    },
    {
     "name": "stderr",
     "output_type": "stream",
     "text": [
      "/mnt/disks/user/anaconda3/lib/python3.6/site-packages/keras_applications/mobilenet.py:206: UserWarning: MobileNet shape is undefined. Weights for input shape (224, 224) will be loaded.\n",
      "  warnings.warn('MobileNet shape is undefined.'\n"
     ]
    },
    {
     "name": "stdout",
     "output_type": "stream",
     "text": [
      "Number of layers in the pretrained mobilenet model:  87\n",
      "_________________________________________________________________\n",
      "Layer (type)                 Output Shape              Param #   \n",
      "=================================================================\n",
      "time_distributed_9 (TimeDist (None, 20, 3, 3, 1024)    3228864   \n",
      "_________________________________________________________________\n",
      "time_distributed_10 (TimeDis (None, 20, 3, 3, 1024)    4096      \n",
      "_________________________________________________________________\n",
      "time_distributed_11 (TimeDis (None, 20, 1, 1, 1024)    0         \n",
      "_________________________________________________________________\n",
      "time_distributed_12 (TimeDis (None, 20, 1024)          0         \n",
      "_________________________________________________________________\n",
      "gru_3 (GRU)                  (None, 128)               442752    \n",
      "_________________________________________________________________\n",
      "dropout_5 (Dropout)          (None, 128)               0         \n",
      "_________________________________________________________________\n",
      "dense_5 (Dense)              (None, 128)               16512     \n",
      "_________________________________________________________________\n",
      "dropout_6 (Dropout)          (None, 128)               0         \n",
      "_________________________________________________________________\n",
      "dense_6 (Dense)              (None, 5)                 645       \n",
      "=================================================================\n",
      "Total params: 3,692,869\n",
      "Trainable params: 3,131,013\n",
      "Non-trainable params: 561,856\n",
      "_________________________________________________________________\n",
      "None\n"
     ]
    }
   ],
   "source": [
    "num_epochs = 20 # choose the number of epochs\n",
    "print ('# epochs =', num_epochs)\n",
    "batch_size = 10  #experiment with the batch size\n",
    "print ('# batch size =', batch_size)\n",
    "num_frames = 20\n",
    "print ('# num frames per video =', num_frames)\n",
    "height = 120\n",
    "width = 120\n",
    "\n",
    "model = mobilenet_RNN(fine_tune=True, gru=True, num_images=num_frames)\n",
    "print(model.summary())"
   ]
  },
  {
   "cell_type": "code",
   "execution_count": 21,
   "metadata": {
    "colab": {},
    "colab_type": "code",
    "id": "PKDbs3-7kVTD"
   },
   "outputs": [],
   "source": [
    "callbacks_list = model_callbacks(\"model_finetune_mobilenet_gru\")\n",
    "\n",
    "steps_per_epoch, validation_steps = calculate_steps(num_train_sequences, num_val_sequences, batch_size)\n",
    "\n",
    "train_generator = generate(train_path, train_doc, batch_size, num_images=num_frames)\n",
    "\n",
    "val_generator   = generate(val_path, val_doc, batch_size, num_images=num_frames)"
   ]
  },
  {
   "cell_type": "code",
   "execution_count": 22,
   "metadata": {
    "colab": {},
    "colab_type": "code",
    "id": "-zHc-FbNCjEw"
   },
   "outputs": [
    {
     "name": "stdout",
     "output_type": "stream",
     "text": [
      "Epoch 1/20\n"
     ]
    },
    {
     "name": "stderr",
     "output_type": "stream",
     "text": [
      "/mnt/disks/user/anaconda3/lib/python3.6/site-packages/skimage/transform/_warps.py:105: UserWarning: The default mode, 'constant', will be changed to 'reflect' in skimage 0.15.\n",
      "  warn(\"The default mode, 'constant', will be changed to 'reflect' in \"\n"
     ]
    },
    {
     "name": "stdout",
     "output_type": "stream",
     "text": [
      "67/67 [==============================] - 112s 2s/step - loss: 1.1282 - categorical_accuracy: 0.5443 - val_loss: 1.0780 - val_categorical_accuracy: 0.5800\n",
      "\n",
      "Epoch 00001: val_loss improved from inf to 1.07798, saving model to model_finetune_mobilenet_gru_2020-08-1701_39_21.017332/model-00001-1.12791-0.54299-1.07798-0.58000.h5\n",
      "Epoch 2/20\n",
      "67/67 [==============================] - 105s 2s/step - loss: 0.5444 - categorical_accuracy: 0.7895 - val_loss: 0.9907 - val_categorical_accuracy: 0.6400\n",
      "\n",
      "Epoch 00002: val_loss improved from 1.07798 to 0.99072, saving model to model_finetune_mobilenet_gru_2020-08-1701_39_21.017332/model-00002-0.54671-0.78733-0.99072-0.64000.h5\n",
      "Epoch 3/20\n",
      "67/67 [==============================] - 123s 2s/step - loss: 0.2745 - categorical_accuracy: 0.8980 - val_loss: 0.6902 - val_categorical_accuracy: 0.7600\n",
      "\n",
      "Epoch 00003: val_loss improved from 0.99072 to 0.69022, saving model to model_finetune_mobilenet_gru_2020-08-1701_39_21.017332/model-00003-0.27260-0.90045-0.69022-0.76000.h5\n",
      "Epoch 4/20\n",
      "67/67 [==============================] - 119s 2s/step - loss: 0.2740 - categorical_accuracy: 0.8936 - val_loss: 0.5012 - val_categorical_accuracy: 0.7900\n",
      "\n",
      "Epoch 00004: val_loss improved from 0.69022 to 0.50121, saving model to model_finetune_mobilenet_gru_2020-08-1701_39_21.017332/model-00004-0.26720-0.89593-0.50121-0.79000.h5\n",
      "Epoch 5/20\n",
      "67/67 [==============================] - 107s 2s/step - loss: 0.2277 - categorical_accuracy: 0.9254 - val_loss: 0.9751 - val_categorical_accuracy: 0.6500\n",
      "\n",
      "Epoch 00005: val_loss did not improve from 0.50121\n",
      "Epoch 6/20\n",
      "67/67 [==============================] - 108s 2s/step - loss: 0.2066 - categorical_accuracy: 0.9239 - val_loss: 0.3545 - val_categorical_accuracy: 0.8600\n",
      "\n",
      "Epoch 00006: val_loss improved from 0.50121 to 0.35445, saving model to model_finetune_mobilenet_gru_2020-08-1701_39_21.017332/model-00006-0.20861-0.92308-0.35445-0.86000.h5\n",
      "Epoch 7/20\n",
      "67/67 [==============================] - 105s 2s/step - loss: 0.1898 - categorical_accuracy: 0.9343 - val_loss: 0.4684 - val_categorical_accuracy: 0.8400\n",
      "\n",
      "Epoch 00007: val_loss did not improve from 0.35445\n",
      "Epoch 8/20\n",
      "67/67 [==============================] - 118s 2s/step - loss: 0.1656 - categorical_accuracy: 0.9507 - val_loss: 1.1546 - val_categorical_accuracy: 0.7000\n",
      "\n",
      "Epoch 00008: val_loss did not improve from 0.35445\n",
      "Epoch 9/20\n",
      "67/67 [==============================] - 111s 2s/step - loss: 0.1467 - categorical_accuracy: 0.9492 - val_loss: 0.7510 - val_categorical_accuracy: 0.8000\n",
      "\n",
      "Epoch 00009: val_loss did not improve from 0.35445\n",
      "Epoch 10/20\n",
      "67/67 [==============================] - 126s 2s/step - loss: 0.1885 - categorical_accuracy: 0.9328 - val_loss: 0.3025 - val_categorical_accuracy: 0.8800\n",
      "\n",
      "Epoch 00010: val_loss improved from 0.35445 to 0.30246, saving model to model_finetune_mobilenet_gru_2020-08-1701_39_21.017332/model-00010-0.18982-0.93213-0.30246-0.88000.h5\n",
      "Epoch 11/20\n",
      "67/67 [==============================] - 114s 2s/step - loss: 0.1264 - categorical_accuracy: 0.9672 - val_loss: 0.4933 - val_categorical_accuracy: 0.8300\n",
      "\n",
      "Epoch 00011: val_loss did not improve from 0.30246\n",
      "Epoch 12/20\n",
      "67/67 [==============================] - 115s 2s/step - loss: 0.1309 - categorical_accuracy: 0.9552 - val_loss: 0.4480 - val_categorical_accuracy: 0.8500\n",
      "\n",
      "Epoch 00012: val_loss did not improve from 0.30246\n",
      "Epoch 13/20\n",
      "67/67 [==============================] - 106s 2s/step - loss: 0.0924 - categorical_accuracy: 0.9761 - val_loss: 0.4814 - val_categorical_accuracy: 0.8600\n",
      "\n",
      "Epoch 00013: val_loss did not improve from 0.30246\n",
      "Epoch 14/20\n",
      "67/67 [==============================] - 126s 2s/step - loss: 0.1234 - categorical_accuracy: 0.9582 - val_loss: 0.8791 - val_categorical_accuracy: 0.7900\n",
      "\n",
      "Epoch 00014: val_loss did not improve from 0.30246\n",
      "\n",
      "Epoch 00014: ReduceLROnPlateau reducing learning rate to 0.00010000000474974513.\n",
      "Epoch 15/20\n",
      "67/67 [==============================] - 105s 2s/step - loss: 0.1116 - categorical_accuracy: 0.9642 - val_loss: 0.4184 - val_categorical_accuracy: 0.8600\n",
      "\n",
      "Epoch 00015: val_loss did not improve from 0.30246\n",
      "Epoch 16/20\n",
      "67/67 [==============================] - 120s 2s/step - loss: 0.0688 - categorical_accuracy: 0.9791 - val_loss: 0.4203 - val_categorical_accuracy: 0.8800\n",
      "\n",
      "Epoch 00016: val_loss did not improve from 0.30246\n",
      "Epoch 17/20\n",
      "67/67 [==============================] - 105s 2s/step - loss: 0.0588 - categorical_accuracy: 0.9836 - val_loss: 0.3889 - val_categorical_accuracy: 0.8900\n",
      "\n",
      "Epoch 00017: val_loss did not improve from 0.30246\n",
      "Epoch 18/20\n",
      "67/67 [==============================] - 120s 2s/step - loss: 0.0376 - categorical_accuracy: 0.9910 - val_loss: 0.4094 - val_categorical_accuracy: 0.8800\n",
      "\n",
      "Epoch 00018: val_loss did not improve from 0.30246\n",
      "\n",
      "Epoch 00018: ReduceLROnPlateau reducing learning rate to 0.0001.\n",
      "Epoch 19/20\n",
      "67/67 [==============================] - 111s 2s/step - loss: 0.0364 - categorical_accuracy: 0.9906 - val_loss: 0.4275 - val_categorical_accuracy: 0.8800\n",
      "\n",
      "Epoch 00019: val_loss did not improve from 0.30246\n",
      "Epoch 20/20\n",
      "67/67 [==============================] - 106s 2s/step - loss: 0.0233 - categorical_accuracy: 0.9940 - val_loss: 0.3905 - val_categorical_accuracy: 0.8700\n",
      "\n",
      "Epoch 00020: val_loss did not improve from 0.30246\n"
     ]
    }
   ],
   "source": [
    "history = model.fit_generator(train_generator, steps_per_epoch=steps_per_epoch, epochs=num_epochs, verbose=1, \n",
    "                              callbacks=callbacks_list, validation_data=val_generator, \n",
    "                              validation_steps=validation_steps, class_weight=None, workers=1, initial_epoch=0)"
   ]
  },
  {
   "cell_type": "code",
   "execution_count": 23,
   "metadata": {
    "colab": {},
    "colab_type": "code",
    "id": "eDv_6Uj6CjEy"
   },
   "outputs": [
    {
     "name": "stdout",
     "output_type": "stream",
     "text": [
      "dict_keys(['val_loss', 'val_categorical_accuracy', 'loss', 'categorical_accuracy', 'lr'])\n"
     ]
    },
    {
     "data": {
      "image/png": "[encoded data removed]",
      "text/plain": [
       "<Figure size 432x288 with 1 Axes>"
      ]
     },
     "metadata": {},
     "output_type": "display_data"
    },
    {
     "data": {
      "image/png": "[encoded data removed]",
      "text/plain": [
       "<Figure size 432x288 with 1 Axes>"
      ]
     },
     "metadata": {},
     "output_type": "display_data"
    }
   ],
   "source": [
    "plot_loss_accuracy(history)"
   ]
  },
  {
   "cell_type": "markdown",
   "metadata": {
    "colab_type": "text",
    "id": "Kv330voPpGim"
   },
   "source": [
    "#### Mobilenet (re train all wieghts) + LSTM (128 cells) + 128 dense nodes\n",
    "\n",
    "\n"
   ]
  },
  {
   "cell_type": "code",
   "execution_count": 24,
   "metadata": {
    "colab": {},
    "colab_type": "code",
    "id": "rv7aoMwOpCSb"
   },
   "outputs": [
    {
     "name": "stdout",
     "output_type": "stream",
     "text": [
      "# epochs = 20\n",
      "# batch size = 10\n",
      "# num frames per video = 20\n"
     ]
    },
    {
     "name": "stderr",
     "output_type": "stream",
     "text": [
      "/mnt/disks/user/anaconda3/lib/python3.6/site-packages/keras_applications/mobilenet.py:206: UserWarning: MobileNet shape is undefined. Weights for input shape (224, 224) will be loaded.\n",
      "  warnings.warn('MobileNet shape is undefined.'\n"
     ]
    },
    {
     "name": "stdout",
     "output_type": "stream",
     "text": [
      "Number of layers in the pretrained mobilenet model:  87\n",
      "_________________________________________________________________\n",
      "Layer (type)                 Output Shape              Param #   \n",
      "=================================================================\n",
      "time_distributed_13 (TimeDis (None, 20, 3, 3, 1024)    3228864   \n",
      "_________________________________________________________________\n",
      "time_distributed_14 (TimeDis (None, 20, 3, 3, 1024)    4096      \n",
      "_________________________________________________________________\n",
      "time_distributed_15 (TimeDis (None, 20, 1, 1, 1024)    0         \n",
      "_________________________________________________________________\n",
      "time_distributed_16 (TimeDis (None, 20, 1024)          0         \n",
      "_________________________________________________________________\n",
      "lstm_1 (LSTM)                (None, 128)               590336    \n",
      "_________________________________________________________________\n",
      "dropout_7 (Dropout)          (None, 128)               0         \n",
      "_________________________________________________________________\n",
      "dense_7 (Dense)              (None, 128)               16512     \n",
      "_________________________________________________________________\n",
      "dropout_8 (Dropout)          (None, 128)               0         \n",
      "_________________________________________________________________\n",
      "dense_8 (Dense)              (None, 5)                 645       \n",
      "=================================================================\n",
      "Total params: 3,840,453\n",
      "Trainable params: 3,816,517\n",
      "Non-trainable params: 23,936\n",
      "_________________________________________________________________\n",
      "None\n"
     ]
    }
   ],
   "source": [
    "num_epochs = 20 # choose the number of epochs\n",
    "print ('# epochs =', num_epochs)\n",
    "batch_size = 10  #experiment with the batch size\n",
    "print ('# batch size =', batch_size)\n",
    "num_frames = 20\n",
    "print ('# num frames per video =', num_frames)\n",
    "height = 120\n",
    "width = 120\n",
    "\n",
    "model = mobilenet_RNN(fine_tune=False, gru=False, num_images=num_frames)\n",
    "print(model.summary())"
   ]
  },
  {
   "cell_type": "code",
   "execution_count": 25,
   "metadata": {
    "colab": {},
    "colab_type": "code",
    "id": "5Edy3nuDpCSf"
   },
   "outputs": [],
   "source": [
    "callbacks_list = model_callbacks(\"model_retrain_mobilenet_lstm\")\n",
    "\n",
    "steps_per_epoch, validation_steps = calculate_steps(num_train_sequences, num_val_sequences, batch_size)\n",
    "\n",
    "train_generator = generate(train_path, train_doc, batch_size, num_images=num_frames)\n",
    "\n",
    "val_generator   = generate(val_path, val_doc, batch_size, num_images=num_frames)"
   ]
  },
  {
   "cell_type": "code",
   "execution_count": 26,
   "metadata": {
    "colab": {},
    "colab_type": "code",
    "id": "SWrZyY_vpCSh"
   },
   "outputs": [
    {
     "name": "stdout",
     "output_type": "stream",
     "text": [
      "Epoch 1/20\n"
     ]
    },
    {
     "name": "stderr",
     "output_type": "stream",
     "text": [
      "/mnt/disks/user/anaconda3/lib/python3.6/site-packages/skimage/transform/_warps.py:105: UserWarning: The default mode, 'constant', will be changed to 'reflect' in skimage 0.15.\n",
      "  warn(\"The default mode, 'constant', will be changed to 'reflect' in \"\n"
     ]
    },
    {
     "name": "stdout",
     "output_type": "stream",
     "text": [
      "67/67 [==============================] - 124s 2s/step - loss: 1.1452 - categorical_accuracy: 0.5274 - val_loss: 0.7148 - val_categorical_accuracy: 0.7200\n",
      "\n",
      "Epoch 00001: val_loss improved from inf to 0.71476, saving model to model_retrain_mobilenet_lstm_2020-08-1701_39_21.017332/model-00001-1.14445-0.52941-0.71476-0.72000.h5\n",
      "Epoch 2/20\n",
      "67/67 [==============================] - 113s 2s/step - loss: 0.6169 - categorical_accuracy: 0.7782 - val_loss: 0.4317 - val_categorical_accuracy: 0.8400\n",
      "\n",
      "Epoch 00002: val_loss improved from 0.71476 to 0.43173, saving model to model_retrain_mobilenet_lstm_2020-08-1701_39_21.017332/model-00002-0.59909-0.78281-0.43173-0.84000.h5\n",
      "Epoch 3/20\n",
      "67/67 [==============================] - 122s 2s/step - loss: 0.6265 - categorical_accuracy: 0.7562 - val_loss: 0.9295 - val_categorical_accuracy: 0.7100\n",
      "\n",
      "Epoch 00003: val_loss did not improve from 0.43173\n",
      "Epoch 4/20\n",
      "67/67 [==============================] - 127s 2s/step - loss: 0.5991 - categorical_accuracy: 0.7841 - val_loss: 1.0118 - val_categorical_accuracy: 0.7000\n",
      "\n",
      "Epoch 00004: val_loss did not improve from 0.43173\n",
      "Epoch 5/20\n",
      "67/67 [==============================] - 128s 2s/step - loss: 0.5528 - categorical_accuracy: 0.8264 - val_loss: 0.3898 - val_categorical_accuracy: 0.8400\n",
      "\n",
      "Epoch 00005: val_loss improved from 0.43173 to 0.38978, saving model to model_retrain_mobilenet_lstm_2020-08-1701_39_21.017332/model-00005-0.55357-0.82805-0.38978-0.84000.h5\n",
      "Epoch 6/20\n",
      "67/67 [==============================] - 120s 2s/step - loss: 0.3997 - categorical_accuracy: 0.8682 - val_loss: 0.3358 - val_categorical_accuracy: 0.9000\n",
      "\n",
      "Epoch 00006: val_loss improved from 0.38978 to 0.33576, saving model to model_retrain_mobilenet_lstm_2020-08-1701_39_21.017332/model-00006-0.38768-0.87029-0.33576-0.90000.h5\n",
      "Epoch 7/20\n",
      "67/67 [==============================] - 117s 2s/step - loss: 0.4040 - categorical_accuracy: 0.8562 - val_loss: 0.4024 - val_categorical_accuracy: 0.8800\n",
      "\n",
      "Epoch 00007: val_loss did not improve from 0.33576\n",
      "Epoch 8/20\n",
      "67/67 [==============================] - 115s 2s/step - loss: 0.3636 - categorical_accuracy: 0.8876 - val_loss: 1.1450 - val_categorical_accuracy: 0.6400\n",
      "\n",
      "Epoch 00008: val_loss did not improve from 0.33576\n",
      "Epoch 9/20\n",
      "67/67 [==============================] - 125s 2s/step - loss: 0.3013 - categorical_accuracy: 0.8970 - val_loss: 0.3372 - val_categorical_accuracy: 0.8700\n",
      "\n",
      "Epoch 00009: val_loss did not improve from 0.33576\n",
      "Epoch 10/20\n",
      "67/67 [==============================] - 115s 2s/step - loss: 0.3479 - categorical_accuracy: 0.8985 - val_loss: 0.6594 - val_categorical_accuracy: 0.8000\n",
      "\n",
      "Epoch 00010: val_loss did not improve from 0.33576\n",
      "\n",
      "Epoch 00010: ReduceLROnPlateau reducing learning rate to 0.00010000000474974513.\n",
      "Epoch 11/20\n",
      "67/67 [==============================] - 127s 2s/step - loss: 0.3284 - categorical_accuracy: 0.9051 - val_loss: 0.4087 - val_categorical_accuracy: 0.9000\n",
      "\n",
      "Epoch 00011: val_loss did not improve from 0.33576\n",
      "Epoch 12/20\n",
      "67/67 [==============================] - 116s 2s/step - loss: 0.2113 - categorical_accuracy: 0.9463 - val_loss: 0.2624 - val_categorical_accuracy: 0.9000\n",
      "\n",
      "Epoch 00012: val_loss improved from 0.33576 to 0.26240, saving model to model_retrain_mobilenet_lstm_2020-08-1701_39_21.017332/model-00012-0.21330-0.94570-0.26240-0.90000.h5\n",
      "Epoch 13/20\n",
      "67/67 [==============================] - 115s 2s/step - loss: 0.1939 - categorical_accuracy: 0.9373 - val_loss: 0.2219 - val_categorical_accuracy: 0.9200\n",
      "\n",
      "Epoch 00013: val_loss improved from 0.26240 to 0.22187, saving model to model_retrain_mobilenet_lstm_2020-08-1701_39_21.017332/model-00013-0.19306-0.93665-0.22187-0.92000.h5\n",
      "Epoch 14/20\n",
      "67/67 [==============================] - 115s 2s/step - loss: 0.1333 - categorical_accuracy: 0.9642 - val_loss: 0.2164 - val_categorical_accuracy: 0.9200\n",
      "\n",
      "Epoch 00014: val_loss improved from 0.22187 to 0.21640, saving model to model_retrain_mobilenet_lstm_2020-08-1701_39_21.017332/model-00014-0.13446-0.96380-0.21640-0.92000.h5\n",
      "Epoch 15/20\n",
      "67/67 [==============================] - 123s 2s/step - loss: 0.1172 - categorical_accuracy: 0.9746 - val_loss: 0.2208 - val_categorical_accuracy: 0.9200\n",
      "\n",
      "Epoch 00015: val_loss did not improve from 0.21640\n",
      "Epoch 16/20\n",
      "67/67 [==============================] - 122s 2s/step - loss: 0.1142 - categorical_accuracy: 0.9642 - val_loss: 0.2236 - val_categorical_accuracy: 0.9200\n",
      "\n",
      "Epoch 00016: val_loss did not improve from 0.21640\n",
      "Epoch 17/20\n",
      "67/67 [==============================] - 120s 2s/step - loss: 0.1718 - categorical_accuracy: 0.9473 - val_loss: 0.1975 - val_categorical_accuracy: 0.9500\n",
      "\n",
      "Epoch 00017: val_loss improved from 0.21640 to 0.19753, saving model to model_retrain_mobilenet_lstm_2020-08-1701_39_21.017332/model-00017-0.15558-0.95023-0.19753-0.95000.h5\n",
      "Epoch 18/20\n",
      "67/67 [==============================] - 125s 2s/step - loss: 0.0797 - categorical_accuracy: 0.9712 - val_loss: 0.1952 - val_categorical_accuracy: 0.9500\n",
      "\n",
      "Epoch 00018: val_loss improved from 0.19753 to 0.19516, saving model to model_retrain_mobilenet_lstm_2020-08-1701_39_21.017332/model-00018-0.07783-0.97436-0.19516-0.95000.h5\n",
      "Epoch 19/20\n",
      "67/67 [==============================] - 121s 2s/step - loss: 0.1097 - categorical_accuracy: 0.9682 - val_loss: 0.1434 - val_categorical_accuracy: 0.9600\n",
      "\n",
      "Epoch 00019: val_loss improved from 0.19516 to 0.14343, saving model to model_retrain_mobilenet_lstm_2020-08-1701_39_21.017332/model-00019-0.09066-0.97134-0.14343-0.96000.h5\n",
      "Epoch 20/20\n",
      "67/67 [==============================] - 116s 2s/step - loss: 0.0696 - categorical_accuracy: 0.9806 - val_loss: 0.1266 - val_categorical_accuracy: 0.9600\n",
      "\n",
      "Epoch 00020: val_loss improved from 0.14343 to 0.12662, saving model to model_retrain_mobilenet_lstm_2020-08-1701_39_21.017332/model-00020-0.06967-0.98039-0.12662-0.96000.h5\n"
     ]
    }
   ],
   "source": [
    "history = model.fit_generator(train_generator, steps_per_epoch=steps_per_epoch, epochs=num_epochs, verbose=1, \n",
    "                              callbacks=callbacks_list, validation_data=val_generator, \n",
    "                              validation_steps=validation_steps, class_weight=None, workers=1, initial_epoch=0)"
   ]
  },
  {
   "cell_type": "code",
   "execution_count": 27,
   "metadata": {
    "colab": {},
    "colab_type": "code",
    "id": "VAhQsePBpCSj"
   },
   "outputs": [
    {
     "name": "stdout",
     "output_type": "stream",
     "text": [
      "dict_keys(['val_loss', 'val_categorical_accuracy', 'loss', 'categorical_accuracy', 'lr'])\n"
     ]
    },
    {
     "data": {
      "image/png": "[encoded data removed]",
      "text/plain": [
       "<Figure size 432x288 with 1 Axes>"
      ]
     },
     "metadata": {},
     "output_type": "display_data"
    },
    {
     "data": {
      "image/png": "[encoded data removed]",
      "text/plain": [
       "<Figure size 432x288 with 1 Axes>"
      ]
     },
     "metadata": {},
     "output_type": "display_data"
    }
   ],
   "source": [
    "plot_loss_accuracy(history)"
   ]
  },
  {
   "cell_type": "markdown",
   "metadata": {
    "colab_type": "text",
    "id": "ldwKgtXVpXqQ"
   },
   "source": [
    "#### Mobilenet (re train all weights) + 64 dense nodes"
   ]
  },
  {
   "cell_type": "code",
   "execution_count": 28,
   "metadata": {
    "colab": {},
    "colab_type": "code",
    "id": "B8aXxkCzzOIl"
   },
   "outputs": [
    {
     "name": "stdout",
     "output_type": "stream",
     "text": [
      "# epochs = 20\n",
      "# batch size = 10\n",
      "# num frames per video = 20\n"
     ]
    },
    {
     "name": "stderr",
     "output_type": "stream",
     "text": [
      "/mnt/disks/user/anaconda3/lib/python3.6/site-packages/keras_applications/mobilenet.py:206: UserWarning: MobileNet shape is undefined. Weights for input shape (224, 224) will be loaded.\n",
      "  warnings.warn('MobileNet shape is undefined.'\n"
     ]
    },
    {
     "name": "stdout",
     "output_type": "stream",
     "text": [
      "Number of layers in the pretrained mobilenet model:  87\n",
      "_________________________________________________________________\n",
      "Layer (type)                 Output Shape              Param #   \n",
      "=================================================================\n",
      "time_distributed_17 (TimeDis (None, 20, 3, 3, 1024)    3228864   \n",
      "_________________________________________________________________\n",
      "time_distributed_18 (TimeDis (None, 20, 3, 3, 1024)    4096      \n",
      "_________________________________________________________________\n",
      "time_distributed_19 (TimeDis (None, 20, 1, 1, 1024)    0         \n",
      "_________________________________________________________________\n",
      "time_distributed_20 (TimeDis (None, 20, 1024)          0         \n",
      "_________________________________________________________________\n",
      "gru_4 (GRU)                  (None, 128)               442752    \n",
      "_________________________________________________________________\n",
      "dropout_9 (Dropout)          (None, 128)               0         \n",
      "_________________________________________________________________\n",
      "dense_9 (Dense)              (None, 64)                8256      \n",
      "_________________________________________________________________\n",
      "dropout_10 (Dropout)         (None, 64)                0         \n",
      "_________________________________________________________________\n",
      "dense_10 (Dense)             (None, 5)                 325       \n",
      "=================================================================\n",
      "Total params: 3,684,293\n",
      "Trainable params: 3,660,357\n",
      "Non-trainable params: 23,936\n",
      "_________________________________________________________________\n",
      "None\n"
     ]
    }
   ],
   "source": [
    "num_epochs = 20 # choose the number of epochs\n",
    "print ('# epochs =', num_epochs)\n",
    "batch_size = 10  #experiment with the batch size\n",
    "print ('# batch size =', batch_size)\n",
    "num_frames = 20\n",
    "print ('# num frames per video =', num_frames)\n",
    "height = 120\n",
    "width = 120\n",
    "\n",
    "model = mobilenet_RNN(fine_tune=False, gru=True, num_images=num_frames, lstm_gru_cells=128, dense_nodes=64)\n",
    "print(model.summary())"
   ]
  },
  {
   "cell_type": "code",
   "execution_count": 29,
   "metadata": {
    "colab": {},
    "colab_type": "code",
    "id": "nZWN1HYukcUu"
   },
   "outputs": [],
   "source": [
    "callbacks_list = model_callbacks(\"model_retrain_mobilenet_gru_64\")\n",
    "\n",
    "steps_per_epoch, validation_steps = calculate_steps(num_train_sequences, num_val_sequences, batch_size)\n",
    "\n",
    "train_generator = generate(train_path, train_doc, batch_size, num_images=num_frames)\n",
    "\n",
    "val_generator   = generate(val_path, val_doc, batch_size, num_images=num_frames)"
   ]
  },
  {
   "cell_type": "code",
   "execution_count": 30,
   "metadata": {
    "colab": {},
    "colab_type": "code",
    "id": "bAKJepkQzOIp"
   },
   "outputs": [
    {
     "name": "stdout",
     "output_type": "stream",
     "text": [
      "Epoch 1/20\n"
     ]
    },
    {
     "name": "stderr",
     "output_type": "stream",
     "text": [
      "/mnt/disks/user/anaconda3/lib/python3.6/site-packages/skimage/transform/_warps.py:105: UserWarning: The default mode, 'constant', will be changed to 'reflect' in skimage 0.15.\n",
      "  warn(\"The default mode, 'constant', will be changed to 'reflect' in \"\n"
     ]
    },
    {
     "name": "stdout",
     "output_type": "stream",
     "text": [
      "67/67 [==============================] - 138s 2s/step - loss: 1.1623 - categorical_accuracy: 0.5274 - val_loss: 0.8992 - val_categorical_accuracy: 0.6600\n",
      "\n",
      "Epoch 00001: val_loss improved from inf to 0.89919, saving model to model_retrain_mobilenet_gru_64_2020-08-1701_39_21.017332/model-00001-1.16454-0.52941-0.89919-0.66000.h5\n",
      "Epoch 2/20\n",
      "67/67 [==============================] - 111s 2s/step - loss: 0.6366 - categorical_accuracy: 0.7607 - val_loss: 0.6279 - val_categorical_accuracy: 0.7200\n",
      "\n",
      "Epoch 00002: val_loss improved from 0.89919 to 0.62788, saving model to model_retrain_mobilenet_gru_64_2020-08-1701_39_21.017332/model-00002-0.62528-0.76169-0.62788-0.72000.h5\n",
      "Epoch 3/20\n",
      "67/67 [==============================] - 115s 2s/step - loss: 0.4228 - categorical_accuracy: 0.8488 - val_loss: 0.8110 - val_categorical_accuracy: 0.7200\n",
      "\n",
      "Epoch 00003: val_loss did not improve from 0.62788\n",
      "Epoch 4/20\n",
      "67/67 [==============================] - 123s 2s/step - loss: 0.2954 - categorical_accuracy: 0.8995 - val_loss: 0.6868 - val_categorical_accuracy: 0.7500\n",
      "\n",
      "Epoch 00004: val_loss did not improve from 0.62788\n",
      "Epoch 5/20\n",
      "67/67 [==============================] - 118s 2s/step - loss: 0.3778 - categorical_accuracy: 0.8597 - val_loss: 0.7190 - val_categorical_accuracy: 0.7500\n",
      "\n",
      "Epoch 00005: val_loss did not improve from 0.62788\n",
      "Epoch 6/20\n",
      "67/67 [==============================] - 115s 2s/step - loss: 0.2384 - categorical_accuracy: 0.9204 - val_loss: 0.4706 - val_categorical_accuracy: 0.8500\n",
      "\n",
      "Epoch 00006: val_loss improved from 0.62788 to 0.47061, saving model to model_retrain_mobilenet_gru_64_2020-08-1701_39_21.017332/model-00006-0.23402-0.92308-0.47061-0.85000.h5\n",
      "Epoch 7/20\n",
      "67/67 [==============================] - 129s 2s/step - loss: 0.2676 - categorical_accuracy: 0.9070 - val_loss: 0.6542 - val_categorical_accuracy: 0.7700\n",
      "\n",
      "Epoch 00007: val_loss did not improve from 0.47061\n",
      "Epoch 8/20\n",
      "67/67 [==============================] - 120s 2s/step - loss: 0.1969 - categorical_accuracy: 0.9384 - val_loss: 0.9859 - val_categorical_accuracy: 0.6600\n",
      "\n",
      "Epoch 00008: val_loss did not improve from 0.47061\n",
      "Epoch 9/20\n",
      "67/67 [==============================] - 116s 2s/step - loss: 0.1970 - categorical_accuracy: 0.9398 - val_loss: 0.5922 - val_categorical_accuracy: 0.8000\n",
      "\n",
      "Epoch 00009: val_loss did not improve from 0.47061\n",
      "Epoch 10/20\n",
      "67/67 [==============================] - 122s 2s/step - loss: 0.0925 - categorical_accuracy: 0.9776 - val_loss: 0.2911 - val_categorical_accuracy: 0.9000\n",
      "\n",
      "Epoch 00010: val_loss improved from 0.47061 to 0.29109, saving model to model_retrain_mobilenet_gru_64_2020-08-1701_39_21.017332/model-00010-0.09222-0.97738-0.29109-0.90000.h5\n",
      "Epoch 11/20\n",
      "67/67 [==============================] - 116s 2s/step - loss: 0.1090 - categorical_accuracy: 0.9642 - val_loss: 0.2615 - val_categorical_accuracy: 0.9200\n",
      "\n",
      "Epoch 00011: val_loss improved from 0.29109 to 0.26152, saving model to model_retrain_mobilenet_gru_64_2020-08-1701_39_21.017332/model-00011-0.11003-0.96380-0.26152-0.92000.h5\n",
      "Epoch 12/20\n",
      "67/67 [==============================] - 115s 2s/step - loss: 0.1754 - categorical_accuracy: 0.9354 - val_loss: 0.8680 - val_categorical_accuracy: 0.8100\n",
      "\n",
      "Epoch 00012: val_loss did not improve from 0.26152\n",
      "Epoch 13/20\n",
      "67/67 [==============================] - 127s 2s/step - loss: 0.3723 - categorical_accuracy: 0.8851 - val_loss: 0.3967 - val_categorical_accuracy: 0.8800\n",
      "\n",
      "Epoch 00013: val_loss did not improve from 0.26152\n",
      "Epoch 14/20\n",
      "67/67 [==============================] - 119s 2s/step - loss: 0.2366 - categorical_accuracy: 0.9264 - val_loss: 0.4319 - val_categorical_accuracy: 0.8300\n",
      "\n",
      "Epoch 00014: val_loss did not improve from 0.26152\n",
      "Epoch 15/20\n",
      "67/67 [==============================] - 127s 2s/step - loss: 0.1641 - categorical_accuracy: 0.9433 - val_loss: 0.3607 - val_categorical_accuracy: 0.8800\n",
      "\n",
      "Epoch 00015: val_loss did not improve from 0.26152\n",
      "\n",
      "Epoch 00015: ReduceLROnPlateau reducing learning rate to 0.00010000000474974513.\n",
      "Epoch 16/20\n",
      "67/67 [==============================] - 120s 2s/step - loss: 0.1317 - categorical_accuracy: 0.9578 - val_loss: 0.1823 - val_categorical_accuracy: 0.9400\n",
      "\n",
      "Epoch 00016: val_loss improved from 0.26152 to 0.18229, saving model to model_retrain_mobilenet_gru_64_2020-08-1701_39_21.017332/model-00016-0.12591-0.96078-0.18229-0.94000.h5\n",
      "Epoch 17/20\n",
      "67/67 [==============================] - 118s 2s/step - loss: 0.0920 - categorical_accuracy: 0.9791 - val_loss: 0.1464 - val_categorical_accuracy: 0.9500\n",
      "\n",
      "Epoch 00017: val_loss improved from 0.18229 to 0.14638, saving model to model_retrain_mobilenet_gru_64_2020-08-1701_39_21.017332/model-00017-0.09181-0.97888-0.14638-0.95000.h5\n",
      "Epoch 18/20\n",
      "67/67 [==============================] - 120s 2s/step - loss: 0.0603 - categorical_accuracy: 0.9821 - val_loss: 0.1456 - val_categorical_accuracy: 0.9400\n",
      "\n",
      "Epoch 00018: val_loss improved from 0.14638 to 0.14562, saving model to model_retrain_mobilenet_gru_64_2020-08-1701_39_21.017332/model-00018-0.06089-0.98190-0.14562-0.94000.h5\n",
      "Epoch 19/20\n",
      "67/67 [==============================] - 116s 2s/step - loss: 0.0672 - categorical_accuracy: 0.9816 - val_loss: 0.1551 - val_categorical_accuracy: 0.9400\n",
      "\n",
      "Epoch 00019: val_loss did not improve from 0.14562\n",
      "Epoch 20/20\n",
      "67/67 [==============================] - 119s 2s/step - loss: 0.0441 - categorical_accuracy: 0.9910 - val_loss: 0.1581 - val_categorical_accuracy: 0.9400\n",
      "\n",
      "Epoch 00020: val_loss did not improve from 0.14562\n"
     ]
    }
   ],
   "source": [
    "history = model.fit_generator(train_generator, steps_per_epoch=steps_per_epoch, epochs=num_epochs, verbose=1, \n",
    "                              callbacks=callbacks_list, validation_data=val_generator,\n",
    "                              validation_steps=validation_steps, class_weight=None, workers=1, initial_epoch=0)"
   ]
  },
  {
   "cell_type": "code",
   "execution_count": 31,
   "metadata": {
    "colab": {},
    "colab_type": "code",
    "id": "QnJ9jgX1zOIs"
   },
   "outputs": [
    {
     "name": "stdout",
     "output_type": "stream",
     "text": [
      "dict_keys(['val_loss', 'val_categorical_accuracy', 'loss', 'categorical_accuracy', 'lr'])\n"
     ]
    },
    {
     "data": {
      "image/png": "[encoded data removed]",
      "text/plain": [
       "<Figure size 432x288 with 1 Axes>"
      ]
     },
     "metadata": {},
     "output_type": "display_data"
    },
    {
     "data": {
      "image/png": "[encoded data removed]",
      "text/plain": [
       "<Figure size 432x288 with 1 Axes>"
      ]
     },
     "metadata": {},
     "output_type": "display_data"
    }
   ],
   "source": [
    "plot_loss_accuracy(history)"
   ]
  },
  {
   "cell_type": "markdown",
   "metadata": {
    "colab_type": "text",
    "id": "jKj3TTz8xxRx"
   },
   "source": [
    "#### Mobilenet (re train all weights) + 64 dense nodes +  on training data set + Random data transformations"
   ]
  },
  {
   "cell_type": "code",
   "execution_count": 15,
   "metadata": {
    "colab": {},
    "colab_type": "code",
    "id": "66oHYzLN5q-1"
   },
   "outputs": [
    {
     "name": "stdout",
     "output_type": "stream",
     "text": [
      "# epochs = 25\n",
      "# batch size = 10\n",
      "# num frames per video = 20\n"
     ]
    },
    {
     "name": "stderr",
     "output_type": "stream",
     "text": [
      "/mnt/disks/user/anaconda3/lib/python3.6/site-packages/keras_applications/mobilenet.py:206: UserWarning: MobileNet shape is undefined. Weights for input shape (224, 224) will be loaded.\n",
      "  warnings.warn('MobileNet shape is undefined.'\n"
     ]
    },
    {
     "name": "stdout",
     "output_type": "stream",
     "text": [
      "Downloading data from https://github.com/fchollet/deep-learning-models/releases/download/v0.6/mobilenet_1_0_224_tf_no_top.h5\n",
      "17227776/17225924 [==============================] - 2s 0us/step\n",
      "Number of layers in the pretrained mobilenet model:  87\n",
      "_________________________________________________________________\n",
      "Layer (type)                 Output Shape              Param #   \n",
      "=================================================================\n",
      "time_distributed_1 (TimeDist (None, 20, 3, 3, 1024)    3228864   \n",
      "_________________________________________________________________\n",
      "time_distributed_2 (TimeDist (None, 20, 3, 3, 1024)    4096      \n",
      "_________________________________________________________________\n",
      "time_distributed_3 (TimeDist (None, 20, 1, 1, 1024)    0         \n",
      "_________________________________________________________________\n",
      "time_distributed_4 (TimeDist (None, 20, 1024)          0         \n",
      "_________________________________________________________________\n",
      "lstm_1 (LSTM)                (None, 128)               590336    \n",
      "_________________________________________________________________\n",
      "dropout_1 (Dropout)          (None, 128)               0         \n",
      "_________________________________________________________________\n",
      "dense_1 (Dense)              (None, 64)                8256      \n",
      "_________________________________________________________________\n",
      "dropout_2 (Dropout)          (None, 64)                0         \n",
      "_________________________________________________________________\n",
      "dense_2 (Dense)              (None, 5)                 325       \n",
      "=================================================================\n",
      "Total params: 3,831,877\n",
      "Trainable params: 3,807,941\n",
      "Non-trainable params: 23,936\n",
      "_________________________________________________________________\n",
      "None\n"
     ]
    }
   ],
   "source": [
    "num_epochs = 25 # choose the number of epochs\n",
    "print ('# epochs =', num_epochs)\n",
    "batch_size = 10  #experiment with the batch size\n",
    "print ('# batch size =', batch_size)\n",
    "num_frames = 20\n",
    "print ('# num frames per video =', num_frames)\n",
    "height = 120\n",
    "width = 120\n",
    "\n",
    "model = mobilenet_RNN(fine_tune=False, gru=False, num_images=num_frames, lstm_gru_cells=128, dense_nodes=64)\n",
    "print(model.summary())"
   ]
  },
  {
   "cell_type": "code",
   "execution_count": 16,
   "metadata": {
    "colab": {},
    "colab_type": "code",
    "id": "pC7xtPNYxtc1"
   },
   "outputs": [],
   "source": [
    "callbacks_list = model_callbacks(\"model_retrain_mobilenet_gru_64\")\n",
    "\n",
    "steps_per_epoch, validation_steps = calculate_steps(num_train_sequences, num_val_sequences, batch_size)\n",
    "\n",
    "train_generator = generate(train_path, train_doc, batch_size, augment=True, num_images=num_frames)\n",
    "\n",
    "val_generator   = generate(val_path, val_doc, batch_size, num_images=num_frames)"
   ]
  },
  {
   "cell_type": "code",
   "execution_count": 17,
   "metadata": {
    "colab": {},
    "colab_type": "code",
    "id": "v8f5pEaKxtc_"
   },
   "outputs": [
    {
     "name": "stdout",
     "output_type": "stream",
     "text": [
      "Epoch 1/25\n"
     ]
    },
    {
     "name": "stderr",
     "output_type": "stream",
     "text": [
      "/mnt/disks/user/anaconda3/lib/python3.6/site-packages/skimage/transform/_warps.py:105: UserWarning: The default mode, 'constant', will be changed to 'reflect' in skimage 0.15.\n",
      "  warn(\"The default mode, 'constant', will be changed to 'reflect' in \"\n"
     ]
    },
    {
     "name": "stdout",
     "output_type": "stream",
     "text": [
      "67/67 [==============================] - 257s 4s/step - loss: 1.2670 - categorical_accuracy: 0.4796 - val_loss: 0.9601 - val_categorical_accuracy: 0.6400\n",
      "\n",
      "Epoch 00001: val_loss improved from inf to 0.96006, saving model to model_retrain_mobilenet_gru_64_2020-08-1705_46_20.025955/model-00001-1.26310-0.48115-0.96006-0.64000.h5\n",
      "Epoch 2/25\n",
      "67/67 [==============================] - 139s 2s/step - loss: 0.8810 - categorical_accuracy: 0.6607 - val_loss: 1.2199 - val_categorical_accuracy: 0.4900\n",
      "\n",
      "Epoch 00002: val_loss did not improve from 0.96006\n",
      "Epoch 3/25\n",
      "67/67 [==============================] - 144s 2s/step - loss: 0.7133 - categorical_accuracy: 0.7368 - val_loss: 0.8631 - val_categorical_accuracy: 0.6600\n",
      "\n",
      "Epoch 00003: val_loss improved from 0.96006 to 0.86307, saving model to model_retrain_mobilenet_gru_64_2020-08-1705_46_20.025955/model-00003-0.71120-0.73756-0.86307-0.66000.h5\n",
      "Epoch 4/25\n",
      "67/67 [==============================] - 155s 2s/step - loss: 0.5714 - categorical_accuracy: 0.7980 - val_loss: 1.2854 - val_categorical_accuracy: 0.5400\n",
      "\n",
      "Epoch 00004: val_loss did not improve from 0.86307\n",
      "Epoch 5/25\n",
      "67/67 [==============================] - 138s 2s/step - loss: 0.4252 - categorical_accuracy: 0.8418 - val_loss: 0.3580 - val_categorical_accuracy: 0.8800\n",
      "\n",
      "Epoch 00005: val_loss improved from 0.86307 to 0.35801, saving model to model_retrain_mobilenet_gru_64_2020-08-1705_46_20.025955/model-00005-0.42854-0.84012-0.35801-0.88000.h5\n",
      "Epoch 6/25\n",
      "67/67 [==============================] - 146s 2s/step - loss: 0.4627 - categorical_accuracy: 0.8443 - val_loss: 0.4932 - val_categorical_accuracy: 0.8300\n",
      "\n",
      "Epoch 00006: val_loss did not improve from 0.35801\n",
      "Epoch 7/25\n",
      "67/67 [==============================] - 149s 2s/step - loss: 0.4301 - categorical_accuracy: 0.8503 - val_loss: 0.4615 - val_categorical_accuracy: 0.8600\n",
      "\n",
      "Epoch 00007: val_loss did not improve from 0.35801\n",
      "Epoch 8/25\n",
      "67/67 [==============================] - 151s 2s/step - loss: 0.3898 - categorical_accuracy: 0.8786 - val_loss: 0.7307 - val_categorical_accuracy: 0.7800\n",
      "\n",
      "Epoch 00008: val_loss did not improve from 0.35801\n",
      "Epoch 9/25\n",
      "67/67 [==============================] - 141s 2s/step - loss: 0.4142 - categorical_accuracy: 0.8562 - val_loss: 0.6320 - val_categorical_accuracy: 0.7900\n",
      "\n",
      "Epoch 00009: val_loss did not improve from 0.35801\n",
      "\n",
      "Epoch 00009: ReduceLROnPlateau reducing learning rate to 0.00010000000474974513.\n",
      "Epoch 10/25\n",
      "67/67 [==============================] - 145s 2s/step - loss: 0.2765 - categorical_accuracy: 0.9000 - val_loss: 0.3860 - val_categorical_accuracy: 0.8500\n",
      "\n",
      "Epoch 00010: val_loss did not improve from 0.35801\n",
      "Epoch 11/25\n",
      "67/67 [==============================] - 141s 2s/step - loss: 0.2525 - categorical_accuracy: 0.9373 - val_loss: 0.2641 - val_categorical_accuracy: 0.9000\n",
      "\n",
      "Epoch 00011: val_loss improved from 0.35801 to 0.26407, saving model to model_retrain_mobilenet_gru_64_2020-08-1705_46_20.025955/model-00011-0.25268-0.93665-0.26407-0.90000.h5\n",
      "Epoch 12/25\n",
      "67/67 [==============================] - 139s 2s/step - loss: 0.2109 - categorical_accuracy: 0.9373 - val_loss: 0.2546 - val_categorical_accuracy: 0.9000\n",
      "\n",
      "Epoch 00012: val_loss improved from 0.26407 to 0.25461, saving model to model_retrain_mobilenet_gru_64_2020-08-1705_46_20.025955/model-00012-0.21159-0.93665-0.25461-0.90000.h5\n",
      "Epoch 13/25\n",
      "67/67 [==============================] - 148s 2s/step - loss: 0.1901 - categorical_accuracy: 0.9354 - val_loss: 0.2337 - val_categorical_accuracy: 0.9000\n",
      "\n",
      "Epoch 00013: val_loss improved from 0.25461 to 0.23366, saving model to model_retrain_mobilenet_gru_64_2020-08-1705_46_20.025955/model-00013-0.18180-0.93816-0.23366-0.90000.h5\n",
      "Epoch 14/25\n",
      "67/67 [==============================] - 143s 2s/step - loss: 0.1605 - categorical_accuracy: 0.9478 - val_loss: 0.2271 - val_categorical_accuracy: 0.9100\n",
      "\n",
      "Epoch 00014: val_loss improved from 0.23366 to 0.22706, saving model to model_retrain_mobilenet_gru_64_2020-08-1705_46_20.025955/model-00014-0.16091-0.94721-0.22706-0.91000.h5\n",
      "Epoch 15/25\n",
      "67/67 [==============================] - 143s 2s/step - loss: 0.1361 - categorical_accuracy: 0.9582 - val_loss: 0.2074 - val_categorical_accuracy: 0.9300\n",
      "\n",
      "Epoch 00015: val_loss improved from 0.22706 to 0.20740, saving model to model_retrain_mobilenet_gru_64_2020-08-1705_46_20.025955/model-00015-0.13738-0.95777-0.20740-0.93000.h5\n",
      "Epoch 16/25\n",
      "67/67 [==============================] - 149s 2s/step - loss: 0.0996 - categorical_accuracy: 0.9657 - val_loss: 0.1778 - val_categorical_accuracy: 0.9300\n",
      "\n",
      "Epoch 00016: val_loss improved from 0.20740 to 0.17775, saving model to model_retrain_mobilenet_gru_64_2020-08-1705_46_20.025955/model-00016-0.09920-0.96531-0.17775-0.93000.h5\n",
      "Epoch 17/25\n",
      "67/67 [==============================] - 156s 2s/step - loss: 0.1434 - categorical_accuracy: 0.9582 - val_loss: 0.1722 - val_categorical_accuracy: 0.9000\n",
      "\n",
      "Epoch 00017: val_loss improved from 0.17775 to 0.17216, saving model to model_retrain_mobilenet_gru_64_2020-08-1705_46_20.025955/model-00017-0.14333-0.95777-0.17216-0.90000.h5\n",
      "Epoch 18/25\n",
      "67/67 [==============================] - 140s 2s/step - loss: 0.1158 - categorical_accuracy: 0.9701 - val_loss: 0.1263 - val_categorical_accuracy: 0.9300\n",
      "\n",
      "Epoch 00018: val_loss improved from 0.17216 to 0.12632, saving model to model_retrain_mobilenet_gru_64_2020-08-1705_46_20.025955/model-00018-0.11552-0.96983-0.12632-0.93000.h5\n",
      "Epoch 19/25\n",
      "67/67 [==============================] - 143s 2s/step - loss: 0.1336 - categorical_accuracy: 0.9588 - val_loss: 0.1489 - val_categorical_accuracy: 0.9300\n",
      "\n",
      "Epoch 00019: val_loss did not improve from 0.12632\n",
      "Epoch 20/25\n",
      "67/67 [==============================] - 139s 2s/step - loss: 0.0710 - categorical_accuracy: 0.9761 - val_loss: 0.1286 - val_categorical_accuracy: 0.9400\n",
      "\n",
      "Epoch 00020: val_loss did not improve from 0.12632\n",
      "Epoch 21/25\n",
      "67/67 [==============================] - 143s 2s/step - loss: 0.0978 - categorical_accuracy: 0.9693 - val_loss: 0.2523 - val_categorical_accuracy: 0.9100\n",
      "\n",
      "Epoch 00021: val_loss did not improve from 0.12632\n",
      "Epoch 22/25\n",
      "67/67 [==============================] - 137s 2s/step - loss: 0.1128 - categorical_accuracy: 0.9731 - val_loss: 0.2253 - val_categorical_accuracy: 0.9200\n",
      "\n",
      "Epoch 00022: val_loss did not improve from 0.12632\n",
      "\n",
      "Epoch 00022: ReduceLROnPlateau reducing learning rate to 0.0001.\n",
      "Epoch 23/25\n",
      "67/67 [==============================] - 139s 2s/step - loss: 0.0665 - categorical_accuracy: 0.9821 - val_loss: 0.1821 - val_categorical_accuracy: 0.9100\n",
      "\n",
      "Epoch 00023: val_loss did not improve from 0.12632\n",
      "Epoch 24/25\n",
      "67/67 [==============================] - 154s 2s/step - loss: 0.0448 - categorical_accuracy: 0.9910 - val_loss: 0.1862 - val_categorical_accuracy: 0.9200\n",
      "\n",
      "Epoch 00024: val_loss did not improve from 0.12632\n",
      "Epoch 25/25\n",
      "67/67 [==============================] - 150s 2s/step - loss: 0.0677 - categorical_accuracy: 0.9806 - val_loss: 0.2210 - val_categorical_accuracy: 0.9300\n",
      "\n",
      "Epoch 00025: val_loss did not improve from 0.12632\n"
     ]
    }
   ],
   "source": [
    "history = model.fit_generator(train_generator, steps_per_epoch=steps_per_epoch, epochs=num_epochs, verbose=1, \n",
    "                              callbacks=callbacks_list, validation_data=val_generator,\n",
    "                              validation_steps=validation_steps, class_weight=None, workers=1, initial_epoch=0)"
   ]
  },
  {
   "cell_type": "code",
   "execution_count": 18,
   "metadata": {
    "colab": {},
    "colab_type": "code",
    "id": "2y6-paLUxtdD"
   },
   "outputs": [
    {
     "name": "stdout",
     "output_type": "stream",
     "text": [
      "dict_keys(['val_loss', 'val_categorical_accuracy', 'loss', 'categorical_accuracy', 'lr'])\n"
     ]
    },
    {
     "data": {
      "image/png": "[encoded data removed]",
      "text/plain": [
       "<Figure size 432x288 with 1 Axes>"
      ]
     },
     "metadata": {},
     "output_type": "display_data"
    },
    {
     "data": {
      "image/png": "[encoded data removed]",
      "text/plain": [
       "<Figure size 432x288 with 1 Axes>"
      ]
     },
     "metadata": {},
     "output_type": "display_data"
    }
   ],
   "source": [
    "plot_loss_accuracy(history)"
   ]
  },
  {
   "cell_type": "code",
   "execution_count": null,
   "metadata": {
    "colab": {},
    "colab_type": "code",
    "id": "Nb10R01ivDJx"
   },
   "outputs": [],
   "source": []
  }
 ],
 "metadata": {
  "accelerator": "GPU",
  "colab": {
   "collapsed_sections": [],
   "name": "Gesture_Recognition.ipynb",
   "provenance": [],
   "toc_visible": true
  },
  "kernelspec": {
   "display_name": "Python 3",
   "language": "python",
   "name": "python3"
  },
  "language_info": {
   "codemirror_mode": {
    "name": "ipython",
    "version": 3
   },
   "file_extension": ".py",
   "mimetype": "text/x-python",
   "name": "python",
   "nbconvert_exporter": "python",
   "pygments_lexer": "ipython3",
   "version": "3.7.3"
  }
 },
 "nbformat": 4,
 "nbformat_minor": 1
}
